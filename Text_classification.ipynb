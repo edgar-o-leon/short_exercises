{
 "cells": [
  {
   "cell_type": "markdown",
   "metadata": {
    "id": "n7BzBd-N9mS1"
   },
   "source": [
    "Text Classification with Various Neural Networks\n",
    "\n",
    "**Description:** For the context of classification, lets compare Deep Averaging Networks, Deep Weighted Averaging Networks using Attention, and BERT-based models, using the IMDB dataset. This notebook should be run on a Google Colab leveraging a GPU. \n",
    "\n",
    "The overall structure is as follows:\n",
    "\n",
    "\n",
    "1. Setup\n",
    "  \n",
    "  1.1 Libraries, Embeddings,  & Helper Functions\n",
    "\n",
    "  1.2 Data Acquisition\n",
    "\n",
    "  1.3. Data Preparation\n",
    "\n",
    "      1.3.1 Training/Test Sets using Word2Vec\n",
    "\n",
    "      1.3.2 Training/Test Sets for BERT-based models\n",
    "\n",
    "\n",
    "2. Classification with various Word2Vec-based Models\n",
    "\n",
    "  2.1 The Role of Shuffling of the Training Set\n",
    "\n",
    "  2.2 DAN vs Weighted Averaging Models using Attention\n",
    "\n",
    "    2.2.1 Warm-Up\n",
    "    \n",
    "    2.2.2 The WAN Model\n",
    "    \n",
    "  2.3 Approaches for Training of Embeddings\n",
    "\n",
    "\n",
    "3. Classification with BERT\n",
    "\n",
    "  3.1. BERT Basics\n",
    "\n",
    "  3.2 CLS-Token-based Classification\n",
    "\n",
    "  3.3 Averaging of BERT Outputs\n",
    "\n",
    "  3.4. Adding a CNN on top of BERT\n"
   ]
  },
  {
   "cell_type": "markdown",
   "metadata": {
    "id": "so-yur1S9mS4"
   },
   "source": [
    "## 1. Setup\n",
    "\n",
    "### 1.1. Libraries and Helper Functions\n",
    "\n",
    "This notebook requires the TensorFlow dataset and other prerequisites."
   ]
  },
  {
   "cell_type": "code",
   "execution_count": 1,
   "metadata": {
    "colab": {
     "base_uri": "https://localhost:8080/"
    },
    "id": "8uQnMctL9mS5",
    "outputId": "4fa749ac-a195-4424-8fd6-c6a1f2f9f5df"
   },
   "outputs": [
    {
     "name": "stdout",
     "output_type": "stream",
     "text": [
      "\u001b[2K     \u001b[90m━━━━━━━━━━━━━━━━━━━━━━━━━━━━━━━━━━━━━━━━\u001b[0m \u001b[32m5.2/5.2 MB\u001b[0m \u001b[31m17.9 MB/s\u001b[0m eta \u001b[36m0:00:00\u001b[0m\n",
      "\u001b[?25h"
     ]
    }
   ],
   "source": [
    "#@title Installs\n",
    "\n",
    "!pip install pydot --quiet\n",
    "!pip install gensim --quiet\n",
    "!pip install tensorflow-datasets --quiet\n",
    "!pip install -U tensorflow-text --quiet\n",
    "!pip install transformers --quiet"
   ]
  },
  {
   "cell_type": "markdown",
   "metadata": {
    "id": "ZFFBvPMR9mS8"
   },
   "source": [
    "Now we are ready to do the imports."
   ]
  },
  {
   "cell_type": "code",
   "execution_count": 2,
   "metadata": {
    "id": "Q8b9aykE9mS8"
   },
   "outputs": [],
   "source": [
    "#@title Imports\n",
    "\n",
    "import numpy as np\n",
    "import tensorflow as tf\n",
    "from tensorflow import keras\n",
    "\n",
    "from tensorflow.keras.layers import Embedding, Input, Dense, Lambda\n",
    "from tensorflow.keras.models import Model\n",
    "import tensorflow.keras.backend as K\n",
    "import tensorflow_datasets as tfds\n",
    "import tensorflow_text as tf_text\n",
    "\n",
    "from transformers import BertTokenizer, TFBertModel\n",
    "from transformers import logging\n",
    "logging.set_verbosity_error()\n",
    "\n",
    "import sklearn as sk\n",
    "import os\n",
    "import nltk\n",
    "from nltk.data import find\n",
    "\n",
    "import matplotlib.pyplot as plt\n",
    "\n",
    "import re\n",
    "\n",
    "import gensim\n",
    "from gensim.models import Word2Vec\n",
    "from gensim.models import KeyedVectors\n",
    "from gensim.test.utils import datapath"
   ]
  },
  {
   "cell_type": "markdown",
   "metadata": {
    "id": "ESElm33U9mS9"
   },
   "source": [
    "Below is a helper function to plot histories."
   ]
  },
  {
   "cell_type": "code",
   "execution_count": 3,
   "metadata": {
    "id": "YKWj6pPM9mS-"
   },
   "outputs": [],
   "source": [
    "#@title Plotting Function\n",
    "\n",
    "# 4-window plot. Small modification from matplotlib examples.\n",
    "\n",
    "def make_plot(axs,\n",
    "              model_history1,\n",
    "              model_history2,\n",
    "              model_1_name='model 1',\n",
    "              model_2_name='model 2',\n",
    "              ):\n",
    "    box = dict(facecolor='yellow', pad=5, alpha=0.2)\n",
    "\n",
    "    for i, metric in enumerate(['loss', 'accuracy']):\n",
    "        # small adjustment to account for the 2 accuracy measures in the Weighted Averging Model with Attention\n",
    "        if 'classification_%s' % metric in model_history2.history:\n",
    "            metric2 = 'classification_%s' % metric\n",
    "        else:\n",
    "            metric2 = metric\n",
    "\n",
    "        y_lim_lower1 = np.min(model_history1.history[metric])\n",
    "        y_lim_lower2 = np.min(model_history2.history[metric2])\n",
    "        y_lim_lower = min(y_lim_lower1, y_lim_lower2) * 0.9\n",
    "\n",
    "        y_lim_upper1 = np.max(model_history1.history[metric])\n",
    "        y_lim_upper2 = np.max(model_history2.history[metric2])\n",
    "        y_lim_upper = max(y_lim_upper1, y_lim_upper2) * 1.1\n",
    "\n",
    "        for j, model_history in enumerate([model_history1, model_history2]):\n",
    "            model_name = [model_1_name, model_2_name][j]\n",
    "            model_metric = [metric, metric2][j]\n",
    "            ax1 = axs[i, j]\n",
    "            ax1.plot(model_history.history[model_metric])\n",
    "            ax1.plot(model_history.history['val_%s' % model_metric])\n",
    "            ax1.set_title('%s - %s' % (metric, model_name))\n",
    "            ax1.set_ylabel(metric, bbox=box)\n",
    "            ax1.set_ylim(y_lim_lower, y_lim_upper)"
   ]
  },
  {
   "cell_type": "markdown",
   "metadata": {
    "id": "1QDi-Kg49mS-"
   },
   "source": [
    "Next, we get the word2vec model from nltk."
   ]
  },
  {
   "cell_type": "code",
   "execution_count": 4,
   "metadata": {
    "colab": {
     "base_uri": "https://localhost:8080/"
    },
    "id": "49X1T6an9mS_",
    "outputId": "5721f129-0b98-4e77-e183-008fb98e4b8e"
   },
   "outputs": [
    {
     "name": "stderr",
     "output_type": "stream",
     "text": [
      "[nltk_data] Downloading package word2vec_sample to /root/nltk_data...\n",
      "[nltk_data]   Unzipping models/word2vec_sample.zip.\n"
     ]
    }
   ],
   "source": [
    "#@title NLTK & Word2Vec\n",
    "\n",
    "nltk.download('word2vec_sample')\n",
    "\n",
    "word2vec_sample = str(find('models/word2vec_sample/pruned.word2vec.txt'))\n",
    "\n",
    "wvmodel = KeyedVectors.load_word2vec_format(datapath(word2vec_sample), binary=False)"
   ]
  },
  {
   "cell_type": "markdown",
   "metadata": {
    "id": "Y_rdVE3z9mTA"
   },
   "source": [
    "let's see how many words are in the vocabulary of the embedding **model**:"
   ]
  },
  {
   "cell_type": "code",
   "execution_count": null,
   "metadata": {
    "colab": {
     "base_uri": "https://localhost:8080/"
    },
    "id": "uoL6l_q89mTA",
    "outputId": "9859a0b0-2dbf-43ed-dbb0-580248cd0468"
   },
   "outputs": [
    {
     "data": {
      "text/plain": [
       "43981"
      ]
     },
     "execution_count": 5,
     "metadata": {},
     "output_type": "execute_result"
    }
   ],
   "source": [
    "len(wvmodel)"
   ]
  },
  {
   "cell_type": "markdown",
   "metadata": {
    "id": "r3Q0zOkJ9mTB"
   },
   "source": [
    "What do the word vectors look like? As expected:"
   ]
  },
  {
   "cell_type": "code",
   "execution_count": null,
   "metadata": {
    "colab": {
     "base_uri": "https://localhost:8080/"
    },
    "id": "ZyAGMYGK9mTB",
    "outputId": "dc2d7f7e-5754-4544-cc21-704f813fc658"
   },
   "outputs": [
    {
     "data": {
      "text/plain": [
       "array([ 0.0306035 ,  0.0886877 , -0.0121269 ,  0.0761965 ,  0.0566269 ,\n",
       "       -0.0424702 ,  0.0410129 , -0.0497567 , -0.00364328,  0.0632889 ,\n",
       "       -0.0142608 , -0.0791111 ,  0.0174877 , -0.0383064 ,  0.00926433,\n",
       "        0.0295626 ,  0.0770293 ,  0.0949334 , -0.0428866 , -0.0295626 ],\n",
       "      dtype=float32)"
      ]
     },
     "execution_count": 6,
     "metadata": {},
     "output_type": "execute_result"
    }
   ],
   "source": [
    "wvmodel['great'][:20]"
   ]
  },
  {
   "cell_type": "markdown",
   "metadata": {
    "id": "2BMraFZS9mTB"
   },
   "source": [
    "We can now build the embedding matrix and a vocabulary dictionary:"
   ]
  },
  {
   "cell_type": "code",
   "execution_count": 5,
   "metadata": {
    "id": "lOTIN3G39mTB"
   },
   "outputs": [],
   "source": [
    "EMBEDDING_DIM = len(wvmodel['university'])      # we know... it's 300\n",
    "\n",
    "# initialize embedding matrix and word-to-id map:\n",
    "embedding_matrix = np.zeros((len(wvmodel) + 1, EMBEDDING_DIM))\n",
    "vocab_dict = {}\n",
    "\n",
    "# build the embedding matrix and the word-to-id map:\n",
    "for i, word in enumerate(wvmodel.index_to_key):\n",
    "    embedding_vector = wvmodel[word]\n",
    "\n",
    "    if embedding_vector is not None:\n",
    "        # words not found in embedding index will be all-zeros.\n",
    "        embedding_matrix[i] = embedding_vector\n",
    "        vocab_dict[word] = i\n",
    "\n",
    "# we can use the last index at the end of the vocab for unknown tokens\n",
    "vocab_dict['[UNK]'] = len(vocab_dict)"
   ]
  },
  {
   "cell_type": "code",
   "execution_count": 53,
   "metadata": {
    "colab": {
     "base_uri": "https://localhost:8080/"
    },
    "id": "5KlSpLnP6VqA",
    "outputId": "ff99604e-0ab1-47de-83ed-7c94f82b32c9"
   },
   "outputs": [
    {
     "data": {
      "text/plain": [
       "(43982, 300)"
      ]
     },
     "execution_count": 53,
     "metadata": {},
     "output_type": "execute_result"
    }
   ],
   "source": [
    "embedding_matrix.shape"
   ]
  },
  {
   "cell_type": "code",
   "execution_count": 54,
   "metadata": {
    "colab": {
     "base_uri": "https://localhost:8080/"
    },
    "id": "LGYcZu0N9mTC",
    "outputId": "f675d224-dd34-49e4-872c-4fd2f0a17b37"
   },
   "outputs": [
    {
     "data": {
      "text/plain": [
       "array([[ 0.0891758 ,  0.121832  , -0.0671959 ,  0.0477279 , -0.013659  ],\n",
       "       [ 0.0526281 ,  0.013157  , -0.010104  ,  0.0540819 ,  0.0386715 ],\n",
       "       [ 0.0786419 ,  0.0373911 , -0.0131472 ,  0.0347375 ,  0.0288273 ],\n",
       "       [-0.00157585, -0.0564239 ,  0.00320281,  0.0422498 ,  0.15264399],\n",
       "       [ 0.0356899 , -0.00367283, -0.065534  ,  0.0213832 ,  0.00788408]])"
      ]
     },
     "execution_count": 54,
     "metadata": {},
     "output_type": "execute_result"
    }
   ],
   "source": [
    "embedding_matrix[:5, :5]"
   ]
  },
  {
   "cell_type": "markdown",
   "metadata": {
    "id": "YIL1eUtV9mTC"
   },
   "source": [
    "The last row consists of all zeros. We will use that for the UNK token, the placeholder token for unknown words.\n",
    "\n",
    "### 1.2 Data Acquisition\n",
    "\n",
    "\n",
    "We will use the IMDB dataset delivered as part of the TensorFlow-datasets library, and split into training and test sets. For expedience, we will limit ourselves in terms of train and test examples."
   ]
  },
  {
   "cell_type": "code",
   "execution_count": 6,
   "metadata": {
    "colab": {
     "base_uri": "https://localhost:8080/",
     "height": 137,
     "referenced_widgets": [
      "6e42a1e65bd3462aa73ab0b5a156fcde",
      "bdce64b6e9fd42dca3c75f606809c46d",
      "4b365ed85a76457a90787e5948fcd31b",
      "2510871cfb2844ec8550234c796b8ef3",
      "a1045e8c3f9f4d9c94c953f2eb1b1bf3",
      "a7738eba9a64410f8999f53374414b59",
      "30ec6c35d844425787767ac79fb72ffd",
      "ce0283ad7ef84334b3ea1eaf1ddfa32a",
      "1b0e6d5066fd4e5f90d9d41a6795882e",
      "3e7f6a93b64f4351ac8f179f6c72fc22",
      "5a92cad380b44cf4a58cd4ac2ece1df4",
      "b4f5a96d2f99450bb28966d00cd59e52",
      "96f66044fed94da08ad6f47d0776c3e7",
      "e41565e14f4d46e492d2d2a05dcb9069",
      "d9bfb124a1d04705b7dec947f8ad7ddc",
      "507057c5089d4c47b73999ceea7fe64c",
      "4e3c486b6c9146d5b01419ee87b30f20",
      "8ae3d420fb7e41aebb0326c0b9d55ce8",
      "1761ff9b41b34a729bcf76b46dbabf70",
      "512f86554cbd421e8d0df82178c16ad9",
      "8c85d3fc14184d00985ff5f0a92f370a",
      "531464f5594146afb87328ddabd0b2c6",
      "c682ccc58eaa4517a6671a1b3a2b3dd9",
      "ccbc23bc26c04834bd05bca3511ae622",
      "77a9411b36d343aaa2440ceaa6e6e717",
      "f3d6fff8b3f34171a850f865f6a3ea7b",
      "2830205dc4cf4551b3d5204b02b42557",
      "61fb14b7495b44eea41f5abbd640d262",
      "28b5a257ac1544e7a1a01e41c7ebd478",
      "31537a6bef14460084f116b9e29f3be9",
      "4e9ef16607c04da9a5c7973e53d77c96",
      "908e71fe8b8f4ed2b25267ab7a963578",
      "e635de5562c740929448f82744453544",
      "233c6da7bcb7404799380832e1f33b83",
      "d65246c568a2479598e35bcf95b4eca0",
      "b331bc44c21c41b9b48d299c3db0089e",
      "a1fa70957a5b4f6d9c99dd2b2e437e8d",
      "606ef1c33bb84726bd7597fd4e400568",
      "132f5a00caa64ce48fb8f8d90609fa13",
      "c07f1b0cb33c4c408067e8a9dca9516b",
      "e880ad7c02a4494b9bd363814733d729",
      "75907250a8244a1ca8072bc07eb3317e",
      "677112efe49f4b0fbabb30e5a56f9cc5",
      "61c72125f0b64b8c818d536954fcdaa4",
      "561420fa19c346a7a20100461139b9eb",
      "232dd8ad95954fc1bd01dceb80dd0534",
      "264747eaa04c4087a3efaa9feba4cd9e",
      "6ace22f7caa04305be57e06108b8441a",
      "9ab52ece3fd94046a18778480128abbb",
      "8137df50f6224048aa10af15dc22b7d1",
      "4e1f99afe683487080bd4361efc2eaa8",
      "e384600dbc8e4f9ca29ef9283c016a24",
      "3719c2d1c3224bddacb549f23b370425",
      "944f5db5b7c04b73a28367dd1179643e",
      "a5d3ab81df18407fa109dc0343c91f52",
      "ae5effd9262f433db631b415ff43096d",
      "533e830eb6ba4371a83bf50c8277f344",
      "bb2ec1b9d93d4607862d0b193407f3b2",
      "7504d37443164dd9b3b146a58d2c30fb",
      "3f6371c149bc4258ba7a1d188e953983",
      "3081754e183f41428ec930f3efd7243e",
      "658ac585dec4471d971b55c555f6c78a",
      "aff1644069c94a819ec2cac1af847575",
      "bbced17df39147fcb39939eaf1fb59f9",
      "0c39a0c0aea14a7c943d68246adf7a13",
      "d494b55fcb2242058d79501dc4a15e66",
      "252743253c8a496fb86ad3df2a4c6073",
      "f54da34db78d444db2d0a79edbc02b25",
      "fc8d6f9bfe784c6b8c74b44f72867816",
      "0b5103678eac45db94ad00577c07aa7e",
      "4cc3948a95c149cc8cc8c4bcb6f893f0",
      "ef2bc151f184407aa6c6c5a13c7f28fe",
      "4a5caa6d03e84fd9b52188154c7e0c95",
      "628712f552d3458fafe949bc1182cc4d",
      "1002b00a335d46308390329981215d97",
      "2941499115464c20af5700c42c04c2d6",
      "0b86a6abd3e5468ea67ea4ac3a24f2d9",
      "aa357eb8435b4ed38f09c15697f0d787",
      "f53eccc0a8e84456b14ce267ec390d8a",
      "6da459218f7344deb28dd4a61ae9673b",
      "4a703d794a1a458fb1fe35ab8fd5c665",
      "7aa94141495d42cc938cbb15f4505c33",
      "a77627ece2a04578ac06132afb162f09",
      "f640b52f9d7a48e6b15c85f5d6398baa",
      "d4d76e23dc8349c995732fa3b657b25a",
      "8e33057305524eb0b85f9808da90322e",
      "e53465f8a1594b218b14cd2e2aa2f023",
      "6f7f63cba52c46eb88be6e93a244301e",
      "bfc9bb9ec9a14cf7a63ba238cf2b1341",
      "5626ee5a5d1248b2ac7d33fb413377ce",
      "988880c2489140a7b4e937dbbbc0c6ef",
      "c90cba8d1cda4a65b2b5f18c15efdc1d",
      "f4763303d3ec4dfeb764e3eddb94cdaf",
      "5025e3bbb70343ca88eb2c8e95fc9706",
      "02055b3c101a4db0872560c08ef545ee",
      "8d72edd69af44243897e1ece31f842ab",
      "ead96261cdd1472ebbecc5cc178cc35e",
      "131969951bf845c5927271468ec448cc",
      "f514574f13754cd59b57acc8b181722c"
     ]
    },
    "id": "uwOF0qYb9mTC",
    "outputId": "2d2cdf5d-bcc5-425c-8b93-f87fc723bffe"
   },
   "outputs": [
    {
     "name": "stdout",
     "output_type": "stream",
     "text": [
      "Downloading and preparing dataset 80.23 MiB (download: 80.23 MiB, generated: Unknown size, total: 80.23 MiB) to /root/tensorflow_datasets/imdb_reviews/plain_text/1.0.0...\n"
     ]
    },
    {
     "data": {
      "application/vnd.jupyter.widget-view+json": {
       "model_id": "6e42a1e65bd3462aa73ab0b5a156fcde",
       "version_major": 2,
       "version_minor": 0
      },
      "text/plain": [
       "Dl Completed...: 0 url [00:00, ? url/s]"
      ]
     },
     "metadata": {},
     "output_type": "display_data"
    },
    {
     "data": {
      "application/vnd.jupyter.widget-view+json": {
       "model_id": "b4f5a96d2f99450bb28966d00cd59e52",
       "version_major": 2,
       "version_minor": 0
      },
      "text/plain": [
       "Dl Size...: 0 MiB [00:00, ? MiB/s]"
      ]
     },
     "metadata": {},
     "output_type": "display_data"
    },
    {
     "data": {
      "application/vnd.jupyter.widget-view+json": {
       "model_id": "c682ccc58eaa4517a6671a1b3a2b3dd9",
       "version_major": 2,
       "version_minor": 0
      },
      "text/plain": [
       "Generating splits...:   0%|          | 0/3 [00:00<?, ? splits/s]"
      ]
     },
     "metadata": {},
     "output_type": "display_data"
    },
    {
     "data": {
      "application/vnd.jupyter.widget-view+json": {
       "model_id": "233c6da7bcb7404799380832e1f33b83",
       "version_major": 2,
       "version_minor": 0
      },
      "text/plain": [
       "Generating train examples...:   0%|          | 0/25000 [00:00<?, ? examples/s]"
      ]
     },
     "metadata": {},
     "output_type": "display_data"
    },
    {
     "data": {
      "application/vnd.jupyter.widget-view+json": {
       "model_id": "561420fa19c346a7a20100461139b9eb",
       "version_major": 2,
       "version_minor": 0
      },
      "text/plain": [
       "Shuffling /root/tensorflow_datasets/imdb_reviews/plain_text/1.0.0.incomplete65AASE/imdb_reviews-train.tfrecord…"
      ]
     },
     "metadata": {},
     "output_type": "display_data"
    },
    {
     "data": {
      "application/vnd.jupyter.widget-view+json": {
       "model_id": "ae5effd9262f433db631b415ff43096d",
       "version_major": 2,
       "version_minor": 0
      },
      "text/plain": [
       "Generating test examples...:   0%|          | 0/25000 [00:00<?, ? examples/s]"
      ]
     },
     "metadata": {},
     "output_type": "display_data"
    },
    {
     "data": {
      "application/vnd.jupyter.widget-view+json": {
       "model_id": "252743253c8a496fb86ad3df2a4c6073",
       "version_major": 2,
       "version_minor": 0
      },
      "text/plain": [
       "Shuffling /root/tensorflow_datasets/imdb_reviews/plain_text/1.0.0.incomplete65AASE/imdb_reviews-test.tfrecord*…"
      ]
     },
     "metadata": {},
     "output_type": "display_data"
    },
    {
     "data": {
      "application/vnd.jupyter.widget-view+json": {
       "model_id": "aa357eb8435b4ed38f09c15697f0d787",
       "version_major": 2,
       "version_minor": 0
      },
      "text/plain": [
       "Generating unsupervised examples...:   0%|          | 0/50000 [00:00<?, ? examples/s]"
      ]
     },
     "metadata": {},
     "output_type": "display_data"
    },
    {
     "data": {
      "application/vnd.jupyter.widget-view+json": {
       "model_id": "bfc9bb9ec9a14cf7a63ba238cf2b1341",
       "version_major": 2,
       "version_minor": 0
      },
      "text/plain": [
       "Shuffling /root/tensorflow_datasets/imdb_reviews/plain_text/1.0.0.incomplete65AASE/imdb_reviews-unsupervised.t…"
      ]
     },
     "metadata": {},
     "output_type": "display_data"
    },
    {
     "name": "stdout",
     "output_type": "stream",
     "text": [
      "Dataset imdb_reviews downloaded and prepared to /root/tensorflow_datasets/imdb_reviews/plain_text/1.0.0. Subsequent calls will reuse this data.\n"
     ]
    }
   ],
   "source": [
    "train_data, test_data = tfds.load(\n",
    "    name=\"imdb_reviews\",\n",
    "    split=('train[:80%]', 'test[80%:]'),\n",
    "    as_supervised=True)\n",
    "\n",
    "train_examples, train_labels = next(iter(train_data.batch(20000)))\n",
    "test_examples, test_labels = next(iter(test_data.batch(5000)))"
   ]
  },
  {
   "cell_type": "markdown",
   "metadata": {
    "id": "mPHFtgGkHNOQ"
   },
   "source": [
    "Lets takea  look at the records:"
   ]
  },
  {
   "cell_type": "code",
   "execution_count": null,
   "metadata": {
    "colab": {
     "base_uri": "https://localhost:8080/"
    },
    "id": "wvmWKdVQ9mTC",
    "outputId": "3752727e-de7f-471e-c9c6-f06d0ef74e13"
   },
   "outputs": [
    {
     "data": {
      "text/plain": [
       "<tf.Tensor: shape=(4,), dtype=string, numpy=\n",
       "array([b\"This was an absolutely terrible movie. Don't be lured in by Christopher Walken or Michael Ironside. Both are great actors, but this must simply be their worst role in history. Even their great acting could not redeem this movie's ridiculous storyline. This movie is an early nineties US propaganda piece. The most pathetic scenes were those when the Columbian rebels were making their cases for revolutions. Maria Conchita Alonso appeared phony, and her pseudo-love affair with Walken was nothing but a pathetic emotional plug in a movie that was devoid of any real meaning. I am disappointed that there are movies like this, ruining actor's like Christopher Walken's good name. I could barely sit through it.\",\n",
       "       b'I have been known to fall asleep during films, but this is usually due to a combination of things including, really tired, being warm and comfortable on the sette and having just eaten a lot. However on this occasion I fell asleep because the film was rubbish. The plot development was constant. Constantly slow and boring. Things seemed to happen, but with no explanation of what was causing them or why. I admit, I may have missed part of the film, but i watched the majority of it and everything just seemed to happen of its own accord without any real concern for anything else. I cant recommend this film at all.',\n",
       "       b'Mann photographs the Alberta Rocky Mountains in a superb fashion, and Jimmy Stewart and Walter Brennan give enjoyable performances as they always seem to do. <br /><br />But come on Hollywood - a Mountie telling the people of Dawson City, Yukon to elect themselves a marshal (yes a marshal!) and to enforce the law themselves, then gunfighters battling it out on the streets for control of the town? <br /><br />Nothing even remotely resembling that happened on the Canadian side of the border during the Klondike gold rush. Mr. Mann and company appear to have mistaken Dawson City for Deadwood, the Canadian North for the American Wild West.<br /><br />Canadian viewers be prepared for a Reefer Madness type of enjoyable howl with this ludicrous plot, or, to shake your head in disgust.',\n",
       "       b'This is the kind of film for a snowy Sunday afternoon when the rest of the world can go ahead with its own business as you descend into a big arm-chair and mellow for a couple of hours. Wonderful performances from Cher and Nicolas Cage (as always) gently row the plot along. There are no rapids to cross, no dangerous waters, just a warm and witty paddle through New York life at its best. A family film in every sense and one that deserves the praise it received.'],\n",
       "      dtype=object)>"
      ]
     },
     "execution_count": 12,
     "metadata": {},
     "output_type": "execute_result"
    }
   ],
   "source": [
    "train_examples[:4]"
   ]
  },
  {
   "cell_type": "code",
   "execution_count": null,
   "metadata": {
    "colab": {
     "base_uri": "https://localhost:8080/"
    },
    "id": "BzEnCspD9mTD",
    "outputId": "7a47b0f8-dbe7-4bb2-d123-c0b9361079dc"
   },
   "outputs": [
    {
     "data": {
      "text/plain": [
       "<tf.Tensor: shape=(4,), dtype=int64, numpy=array([0, 0, 0, 1])>"
      ]
     },
     "execution_count": 13,
     "metadata": {},
     "output_type": "execute_result"
    }
   ],
   "source": [
    "train_labels[:4]"
   ]
  },
  {
   "cell_type": "markdown",
   "metadata": {
    "id": "CplHsqSDMKCa"
   },
   "source": [
    "For convenience, we will define a sequence length and truncate all records at that length. For records that are shorter than our defined sequence length we will add padding characters to insure that our input shapes are consistent across all records."
   ]
  },
  {
   "cell_type": "code",
   "execution_count": 41,
   "metadata": {
    "id": "Zxu9U3qXMKTW"
   },
   "outputs": [],
   "source": [
    "MAX_SEQUENCE_LENGTH = 100"
   ]
  },
  {
   "cell_type": "markdown",
   "metadata": {
    "id": "1bHwj4vu9mTD"
   },
   "source": [
    "## 1.3. Data Preparation\n",
    "\n",
    "### 1.3.1. Training/Test Sets for Word2Vec-based Models\n",
    "\n",
    "First, we tokenize the data:"
   ]
  },
  {
   "cell_type": "code",
   "execution_count": 42,
   "metadata": {
    "id": "ToVTmC8V9mTD"
   },
   "outputs": [],
   "source": [
    "tokenizer = tf_text.WhitespaceTokenizer()\n",
    "train_tokens = tokenizer.tokenize(train_examples)\n",
    "test_tokens = tokenizer.tokenize(test_examples)"
   ]
  },
  {
   "cell_type": "markdown",
   "metadata": {
    "id": "qXauPwil9mTD"
   },
   "source": [
    "Let's look at some tokens:"
   ]
  },
  {
   "cell_type": "code",
   "execution_count": 43,
   "metadata": {
    "colab": {
     "base_uri": "https://localhost:8080/"
    },
    "id": "QZ22GGb-9mTD",
    "outputId": "96d4a75a-e572-422e-fc72-e462a926bf19"
   },
   "outputs": [
    {
     "data": {
      "text/plain": [
       "<tf.Tensor: shape=(116,), dtype=string, numpy=\n",
       "array([b'This', b'was', b'an', b'absolutely', b'terrible', b'movie.',\n",
       "       b\"Don't\", b'be', b'lured', b'in', b'by', b'Christopher', b'Walken',\n",
       "       b'or', b'Michael', b'Ironside.', b'Both', b'are', b'great',\n",
       "       b'actors,', b'but', b'this', b'must', b'simply', b'be', b'their',\n",
       "       b'worst', b'role', b'in', b'history.', b'Even', b'their', b'great',\n",
       "       b'acting', b'could', b'not', b'redeem', b'this', b\"movie's\",\n",
       "       b'ridiculous', b'storyline.', b'This', b'movie', b'is', b'an',\n",
       "       b'early', b'nineties', b'US', b'propaganda', b'piece.', b'The',\n",
       "       b'most', b'pathetic', b'scenes', b'were', b'those', b'when',\n",
       "       b'the', b'Columbian', b'rebels', b'were', b'making', b'their',\n",
       "       b'cases', b'for', b'revolutions.', b'Maria', b'Conchita',\n",
       "       b'Alonso', b'appeared', b'phony,', b'and', b'her', b'pseudo-love',\n",
       "       b'affair', b'with', b'Walken', b'was', b'nothing', b'but', b'a',\n",
       "       b'pathetic', b'emotional', b'plug', b'in', b'a', b'movie', b'that',\n",
       "       b'was', b'devoid', b'of', b'any', b'real', b'meaning.', b'I',\n",
       "       b'am', b'disappointed', b'that', b'there', b'are', b'movies',\n",
       "       b'like', b'this,', b'ruining', b\"actor's\", b'like', b'Christopher',\n",
       "       b\"Walken's\", b'good', b'name.', b'I', b'could', b'barely', b'sit',\n",
       "       b'through', b'it.'], dtype=object)>"
      ]
     },
     "execution_count": 43,
     "metadata": {},
     "output_type": "execute_result"
    }
   ],
   "source": [
    "train_tokens[0]"
   ]
  },
  {
   "cell_type": "markdown",
   "metadata": {
    "id": "XiqFULXx9mTE"
   },
   "source": [
    "Next, we define a simple function that converts the tokens above into the appropriate word2vec index values.   "
   ]
  },
  {
   "cell_type": "code",
   "execution_count": 9,
   "metadata": {
    "id": "ytUsu3kmuM3n"
   },
   "outputs": [],
   "source": [
    "def docs_to_vocab_ids(tokenized_texts_list):\n",
    "    \"\"\"\n",
    "    converting a list of strings to a list of lists of word ids\n",
    "    \"\"\"\n",
    "    texts_vocab_ids = []\n",
    "    text_labels = []\n",
    "    valid_example_list = []\n",
    "    for i, token_list in enumerate(tokenized_texts_list):\n",
    "\n",
    "        # Get the vocab id for each token in this doc ([UNK] if not in vocab)\n",
    "        vocab_ids = []\n",
    "        for token in list(token_list.numpy()):\n",
    "            decoded = token.decode('utf-8', errors='ignore')\n",
    "            if decoded in vocab_dict:\n",
    "                vocab_ids.append(vocab_dict[decoded])\n",
    "            else:\n",
    "                vocab_ids.append(vocab_dict['[UNK]'])\n",
    "\n",
    "        # Truncate text to max length, add padding up to max length\n",
    "        vocab_ids = vocab_ids[:MAX_SEQUENCE_LENGTH]\n",
    "        n_padding = (MAX_SEQUENCE_LENGTH - len(vocab_ids))\n",
    "        # For simplicity in this model, we'll just pad with unknown tokens\n",
    "        vocab_ids += [vocab_dict['[UNK]']] * n_padding\n",
    "        # Add this example to the list of converted docs\n",
    "        texts_vocab_ids.append(vocab_ids)\n",
    "\n",
    "        if i % 5000 == 0:\n",
    "            print('Examples processed: ', i)\n",
    "\n",
    "    print('Total examples: ', i)\n",
    "    return np.array(texts_vocab_ids)"
   ]
  },
  {
   "cell_type": "markdown",
   "metadata": {
    "id": "gv_elC2m9mTE"
   },
   "source": [
    "Now we can create training and test data that can be fed into the models of interest.  We need to convert all of the tokens in to their respective input ids."
   ]
  },
  {
   "cell_type": "code",
   "execution_count": 50,
   "metadata": {
    "colab": {
     "base_uri": "https://localhost:8080/"
    },
    "id": "XpUJLBRkCbtE",
    "outputId": "4bda7b8b-d736-45da-f1e7-7122849f899c"
   },
   "outputs": [
    {
     "name": "stdout",
     "output_type": "stream",
     "text": [
      "Examples processed:  0\n",
      "Examples processed:  5000\n",
      "Examples processed:  10000\n",
      "Examples processed:  15000\n",
      "Total examples:  19999\n",
      "Examples processed:  0\n",
      "Total examples:  4999\n"
     ]
    }
   ],
   "source": [
    "train_input_ids = docs_to_vocab_ids(train_tokens)\n",
    "test_input_ids = docs_to_vocab_ids(test_tokens)\n",
    "\n",
    "train_input_labels = np.array(train_labels)\n",
    "test_input_labels = np.array(test_labels)"
   ]
  },
  {
   "cell_type": "markdown",
   "metadata": {
    "id": "-dP2KY7U9mTF"
   },
   "source": [
    "Double checking that the data looks correct:"
   ]
  },
  {
   "cell_type": "code",
   "execution_count": 51,
   "metadata": {
    "colab": {
     "base_uri": "https://localhost:8080/"
    },
    "id": "FtU56wVR9mTF",
    "outputId": "cd6f8756-9040-4790-ee75-cfa9b287fdad"
   },
   "outputs": [
    {
     "data": {
      "text/plain": [
       "array([[21531, 25272, 12291,  7427, 37254, 43981,  6891, 12917, 38232,\n",
       "        16915, 12929, 16182, 43981, 20526, 23487, 43981, 23807, 42958,\n",
       "        35058, 43981, 19123, 35029, 41270, 29275, 12917, 32597, 20659,\n",
       "          638, 16915, 43981,   174, 32597, 35058, 39971,  2326,  3636,\n",
       "        22434, 35029, 43981, 33922, 43981, 21531, 34710, 16908, 12291,\n",
       "        36880, 28137,  5376, 28038, 43981, 15402, 29155, 18063, 24951,\n",
       "        17433, 17595,  8856, 14193, 43981, 43248, 17433,  6290, 32597,\n",
       "         9001, 11511, 43981, 21807, 39168, 43981, 16856, 43981, 43981,\n",
       "        23245, 43981,  8889,  1331, 43981, 25272, 31976, 19123, 43981,\n",
       "        18063, 36309, 24099, 16915, 43981, 34710, 36633, 25272, 20413,\n",
       "        43981, 33458, 14926, 43981, 12139, 12289, 39617, 36633,  9483,\n",
       "        42958],\n",
       "       [12139,  7841, 19666, 31757, 43981, 17853, 25745, 15445, 43981,\n",
       "        19123, 35029, 16908, 21113, 21068, 43981, 43981,  5668, 43981,\n",
       "        33456, 43981, 34554, 43981,  1200, 27498, 43981, 18802, 20514,\n",
       "        14193, 43981, 43981, 23955, 14042, 15400, 43981, 43981, 32334,\n",
       "        20514, 35029,  7870, 12139, 17108, 25745, 43830, 14193, 28743,\n",
       "        25272, 43981, 15402, 17006,   222, 25272, 43981, 43981, 33994,\n",
       "        43981, 43981, 42659, 12375, 43981, 43981, 19123,  1331, 19870,\n",
       "         7816, 43981, 31696, 25272, 23801, 13877, 20526, 43981, 12139,\n",
       "        43981, 12139, 37939,  7841, 24998, 29109, 43981, 14193, 43981,\n",
       "        19123, 16266,  8017, 14193, 43099, 43981, 16909, 43981, 30811,\n",
       "        14042, 12375, 43981, 25574, 43981, 34511, 21851, 14087,  9370,\n",
       "        33458]])"
      ]
     },
     "execution_count": 51,
     "metadata": {},
     "output_type": "execute_result"
    }
   ],
   "source": [
    "train_input_ids[:2]"
   ]
  },
  {
   "cell_type": "markdown",
   "metadata": {
    "id": "L5svfigoOgaE"
   },
   "source": [
    "### 1.3.2. Training/Test Sets for BERT-based models\n",
    "\n",
    "Let's load the pretrained BERT model and tokenizer. "
   ]
  },
  {
   "cell_type": "code",
   "execution_count": 55,
   "metadata": {
    "id": "LEyBUFlT53zk"
   },
   "outputs": [],
   "source": [
    "bert_tokenizer = BertTokenizer.from_pretrained('bert-base-cased')\n",
    "bert_model = TFBertModel.from_pretrained('bert-base-cased')"
   ]
  },
  {
   "cell_type": "markdown",
   "metadata": {
    "id": "BuBp01dtAZ4e"
   },
   "source": [
    "Next, we will preprocess our train and test data for use in the BERT model. We need to convert our documents into vocab IDs, like we did above with the Word2Vec vocabulary. But this time we'll use the BERT tokenizer, which has a different vocabulary specific to the BERT model we're going to use."
   ]
  },
  {
   "cell_type": "code",
   "execution_count": null,
   "metadata": {
    "id": "cpSk9zvw532w"
   },
   "outputs": [],
   "source": [
    "#@title BERT Tokenization of training and test data\n",
    "\n",
    "train_examples_str = [x.decode('utf-8') for x in train_examples.numpy()]\n",
    "test_examples_str = [x.decode('utf-8') for x in test_examples.numpy()]\n",
    "\n",
    "bert_train_tokenized = bert_tokenizer(train_examples_str,\n",
    "              max_length=MAX_SEQUENCE_LENGTH,\n",
    "              truncation=True,\n",
    "              padding='max_length',\n",
    "              return_tensors='tf')\n",
    "bert_train_inputs = [bert_train_tokenized.input_ids,\n",
    "                     bert_train_tokenized.token_type_ids,\n",
    "                     bert_train_tokenized.attention_mask]\n",
    "bert_train_labels = np.array(train_labels)\n",
    "\n",
    "bert_test_tokenized = bert_tokenizer(test_examples_str,\n",
    "              max_length=MAX_SEQUENCE_LENGTH,\n",
    "              truncation=True,\n",
    "              padding='max_length',\n",
    "              return_tensors='tf')\n",
    "bert_test_inputs = [bert_test_tokenized.input_ids,\n",
    "                     bert_test_tokenized.token_type_ids,\n",
    "                     bert_test_tokenized.attention_mask]\n",
    "bert_test_labels = np.array(test_labels)"
   ]
  },
  {
   "cell_type": "markdown",
   "metadata": {
    "id": "myNK4ZhQDQBL"
   },
   "source": [
    "key variables and sets that we encoded for word2vec and BERT:\n",
    "\n",
    "#### Parameters:\n",
    "\n",
    "* MAX_SEQUENCE_LENGTH (100)\n",
    "\n",
    "\n",
    "#### Word2vec-based models:\n",
    "\n",
    "* train(/test)_input_ids: input ids for the training(/test) sets for word2vec models\n",
    "* train(/test)_input_labels: the corresponding labels\n",
    "\n",
    "#### BERT:\n",
    "\n",
    "\n",
    "* bert_train(/test)_inputs: list of input_ids, token_type_ids and attention_mask for the training(/test) sets for BERT models\n",
    "* bert_train(/test)_labels: the corresponding labels for BERT"
   ]
  },
  {
   "cell_type": "markdown",
   "metadata": {
    "id": "w20farC9Exg9"
   },
   "source": [
    "### 1.4  Keras Functional API warm up\n",
    "\n",
    "Initial model: "
   ]
  },
  {
   "cell_type": "code",
   "execution_count": null,
   "metadata": {
    "id": "f7yra8DyExg9"
   },
   "outputs": [],
   "source": [
    "input_x = Input(shape = (MAX_SEQUENCE_LENGTH,), name=\"input_words\")\n",
    "\n",
    "\n",
    "#define dense layers\n",
    "dense_1 = keras.layers.Dense(300, activation='relu', name='hidden1')\n",
    "dense_2 = keras.layers.Dense(200, activation='relu', name='hidden2')\n",
    "dense_3 = keras.layers.Dense(5, activation='relu', name='output')\n",
    "\n",
    "# Define the input layer\n",
    "\n",
    "embedding_layer = Embedding(embedding_matrix.shape[0],\n",
    "                               embedding_matrix.shape[1],\n",
    "                               embeddings_initializer=tf.keras.initializers.Constant(embedding_matrix),\n",
    "                               input_length=MAX_SEQUENCE_LENGTH,\n",
    "                               trainable=False, name='embedding')\n",
    "an_embeddings = embedding_layer(input_x)\n",
    "an_avg_embeddings = tf.keras.layers.Lambda(lambda x: K.mean(x, axis=1), name='lambda')(an_embeddings)\n",
    "\n",
    "dense_1_out = dense_1(an_avg_embeddings)\n",
    "dense_2_out = dense_2(dense_1_out)\n",
    "dense_3_out = dense_3(dense_2_out)\n",
    "\n",
    "\n",
    "model = tf.keras.models.Model(inputs=input_x, outputs=[dense_3_out ], name='a2_question1')\n",
    "\n",
    "# Compile the model\n",
    "model.compile(optimizer='adam',\n",
    "              loss='sparse_categorical_crossentropy',\n",
    "              metrics = ['accuracy'])"
   ]
  },
  {
   "cell_type": "code",
   "execution_count": null,
   "metadata": {
    "colab": {
     "base_uri": "https://localhost:8080/"
    },
    "id": "vzEM_W0sExg9",
    "outputId": "6011c8da-cc95-4dff-de1c-9a1e9142b4db"
   },
   "outputs": [
    {
     "name": "stdout",
     "output_type": "stream",
     "text": [
      "Model: \"a2_question1\"\n",
      "_________________________________________________________________\n",
      " Layer (type)                Output Shape              Param #   \n",
      "=================================================================\n",
      " input_words (InputLayer)    [(None, 100)]             0         \n",
      "                                                                 \n",
      " embedding (Embedding)       (None, 100, 300)          13194600  \n",
      "                                                                 \n",
      " lambda (Lambda)             (None, 300)               0         \n",
      "                                                                 \n",
      " hidden1 (Dense)             (None, 300)               90300     \n",
      "                                                                 \n",
      " hidden2 (Dense)             (None, 200)               60200     \n",
      "                                                                 \n",
      " output (Dense)              (None, 5)                 1005      \n",
      "                                                                 \n",
      "=================================================================\n",
      "Total params: 13346105 (50.91 MB)\n",
      "Trainable params: 151505 (591.82 KB)\n",
      "Non-trainable params: 13194600 (50.33 MB)\n",
      "_________________________________________________________________\n"
     ]
    }
   ],
   "source": [
    "\n",
    "model.summary()"
   ]
  },
  {
   "cell_type": "markdown",
   "metadata": {
    "id": "vzbPHBf3GP2O"
   },
   "source": [
    "## 2. Classification with various Word2Vec-based Models"
   ]
  },
  {
   "cell_type": "markdown",
   "metadata": {
    "id": "H7yp2gI-AtCl"
   },
   "source": [
    "2.a. Checking if the dataset is balanced:"
   ]
  },
  {
   "cell_type": "code",
   "execution_count": null,
   "metadata": {
    "colab": {
     "base_uri": "https://localhost:8080/"
    },
    "id": "x6EAE6cjA9jM",
    "outputId": "754116d9-cf53-40ff-a25e-0cdf09625459"
   },
   "outputs": [
    {
     "data": {
      "text/plain": [
       "0.49845"
      ]
     },
     "execution_count": 30,
     "metadata": {},
     "output_type": "execute_result"
    }
   ],
   "source": [
    "\n",
    "p = np.sum(train_input_labels == 1)\n",
    "(p/train_input_labels.shape)[0]\n",
    "\n",
    "\n",
    "\n",
    "\n"
   ]
  },
  {
   "cell_type": "markdown",
   "metadata": {
    "id": "mGkEVpmu6Bs2"
   },
   "source": [
    "\n",
    "\n",
    "2.b. Percentage of positive examples in the test set. "
   ]
  },
  {
   "cell_type": "code",
   "execution_count": null,
   "metadata": {
    "colab": {
     "base_uri": "https://localhost:8080/"
    },
    "id": "2K_8eBTHArme",
    "outputId": "ac3be7b3-efa3-497f-cef8-c76d44b86550"
   },
   "outputs": [
    {
     "data": {
      "text/plain": [
       "0.5026"
      ]
     },
     "execution_count": 32,
     "metadata": {},
     "output_type": "execute_result"
    }
   ],
   "source": [
    "\n",
    "p = np.sum(test_input_labels == 1)\n",
    "(p/test_input_labels.shape)[0]\n"
   ]
  },
  {
   "cell_type": "markdown",
   "metadata": {
    "id": "JY6X0wL3BQKD"
   },
   "source": [
    "### 2.1 Shuffling of the Training Set\n",
    "\n",
    "\n",
    "The DAN model."
   ]
  },
  {
   "cell_type": "code",
   "execution_count": null,
   "metadata": {
    "id": "vk-4mCgyBO9S"
   },
   "outputs": [],
   "source": [
    "def create_dan_model(retrain_embeddings=False,\n",
    "                     max_sequence_length=MAX_SEQUENCE_LENGTH,\n",
    "                     hidden_dim=100,\n",
    "                     dropout=0.3,\n",
    "                     embedding_initializer='word2vec',\n",
    "                     learning_rate=0.001):\n",
    "  \"\"\"\n",
    "  Constructing the DAN model including the compilation and returning it. Parametrizing it using the arguments.\n",
    "  :param retrain_embeddings: boolean, indicating whether  the word embeddings are trainable\n",
    "  :param hidden_dim: dimension of the hidden layer\n",
    "  :param dropout: dropout applied to the hidden layer\n",
    "\n",
    "  :returns: the compiled model\n",
    "  \"\"\"\n",
    "\n",
    "  if embedding_initializer == 'word2vec':\n",
    "    embeddings_initializer=tf.keras.initializers.Constant(embedding_matrix)\n",
    "  else:\n",
    "    embeddings_initializer='uniform'\n",
    "\n",
    "  # start by creating the dan_embedding_layer. Use the embeddings_initializer. \n",
    "  dan_input_layer = tf.keras.layers.Input(shape=(max_sequence_length,), dtype='int64')\n",
    "  dan_embedding_layer = Embedding(embedding_matrix.shape[0],\n",
    "                                    embedding_matrix.shape[1],\n",
    "                                    #embeddings_initializer=tf.keras.initializers.Constant(embedding_matrix),\n",
    "                                    embeddings_initializer = embeddings_initializer,\n",
    "                                    input_length=max_sequence_length,\n",
    "                                    trainable = retrain_embeddings )\n",
    "\n",
    "\n",
    "  dan_embeddings = dan_embedding_layer(dan_input_layer)\n",
    "  dan_avg_embeddings = tf.keras.layers.Lambda(lambda x: K.mean(x, axis=1), name='averaging')(dan_embeddings)\n",
    "\n",
    "\n",
    "\n",
    "\n",
    "  last_hidden_output = tf.keras.layers.Dense(hidden_dim, activation='relu',\n",
    "                                                   name='dan_hidden_1')(dan_avg_embeddings)\n",
    "\n",
    "  last_hidden_output = tf.keras.layers.Dropout(dropout)(last_hidden_output)\n",
    "\n",
    "  dan_classification = tf.keras.layers.Dense(1,\n",
    "                                               activation='sigmoid',\n",
    "                                               name='dan_classification')(last_hidden_output)\n",
    "  dan_model = tf.keras.models.Model(inputs=dan_input_layer, outputs=[dan_classification])\n",
    "  #dan_model.compile(loss='binary_crossentropy',\n",
    "  #                    optimizer=tf.keras.optimizers.Adam(learning_rate=learning_rate,\n",
    "  #                                                       beta_1=0.9,\n",
    "  #                                                       beta_2=0.999,\n",
    "  #                                                       epsilon=1e-07,\n",
    "  #                                                       amsgrad=False,\n",
    "  #                                                       name='Adam'), metrics='accuracy')\n",
    "  dan_model.compile(loss='binary_crossentropy',\n",
    "                    optimizer=tf.keras.optimizers.Adam(learning_rate=learning_rate),\n",
    "                    metrics='accuracy')\n",
    "\n",
    "\n",
    "  return dan_model"
   ]
  },
  {
   "cell_type": "markdown",
   "metadata": {
    "id": "Hb4LOJkFlYwF"
   },
   "source": [
    "sorted version of the training dataset to run some simulations:"
   ]
  },
  {
   "cell_type": "code",
   "execution_count": 13,
   "metadata": {
    "id": "ZX2hWslCflw1"
   },
   "outputs": [],
   "source": [
    "sorted_train_input_data = [(x, y) for (x, y) in zip(list(train_input_ids), list(train_input_labels))]\n",
    "sorted_train_input_data.sort(key = lambda x: x[1])\n",
    "sorted_training_input_ids = np.array([x[0] for x in sorted_train_input_data])\n",
    "sorted_training_labels = np.array([x[1] for x in sorted_train_input_data])"
   ]
  },
  {
   "cell_type": "markdown",
   "metadata": {
    "id": "riQ59wcQmtzs"
   },
   "source": [
    "create the DAN model using the default parameters and train it:\n",
    "\n",
    "\n"
   ]
  },
  {
   "cell_type": "code",
   "execution_count": null,
   "metadata": {
    "colab": {
     "base_uri": "https://localhost:8080/"
    },
    "id": "SIgwDUfpi7nu",
    "outputId": "9f9f9471-3449-48da-d30f-b5201c235d27"
   },
   "outputs": [
    {
     "name": "stdout",
     "output_type": "stream",
     "text": [
      "Epoch 1/10\n",
      "625/625 [==============================] - 4s 5ms/step - loss: 0.3388 - accuracy: 0.9098 - val_loss: 1.8503 - val_accuracy: 0.5026\n",
      "Epoch 2/10\n",
      "625/625 [==============================] - 4s 6ms/step - loss: 0.6394 - accuracy: 0.7269 - val_loss: 1.7409 - val_accuracy: 0.5026\n",
      "Epoch 3/10\n",
      "625/625 [==============================] - 3s 5ms/step - loss: 0.6004 - accuracy: 0.7538 - val_loss: 1.2609 - val_accuracy: 0.5026\n",
      "Epoch 4/10\n",
      "625/625 [==============================] - 3s 5ms/step - loss: 0.5735 - accuracy: 0.7445 - val_loss: 1.1968 - val_accuracy: 0.5026\n",
      "Epoch 5/10\n",
      "625/625 [==============================] - 3s 5ms/step - loss: 0.5763 - accuracy: 0.7361 - val_loss: 1.1463 - val_accuracy: 0.5026\n",
      "Epoch 6/10\n",
      "625/625 [==============================] - 4s 6ms/step - loss: 0.5503 - accuracy: 0.7349 - val_loss: 1.7774 - val_accuracy: 0.5026\n",
      "Epoch 7/10\n",
      "625/625 [==============================] - 3s 5ms/step - loss: 0.6049 - accuracy: 0.7473 - val_loss: 1.2371 - val_accuracy: 0.5026\n",
      "Epoch 8/10\n",
      "625/625 [==============================] - 3s 4ms/step - loss: 0.5504 - accuracy: 0.7536 - val_loss: 1.2296 - val_accuracy: 0.5026\n",
      "Epoch 9/10\n",
      "625/625 [==============================] - 3s 4ms/step - loss: 0.5458 - accuracy: 0.7559 - val_loss: 1.2305 - val_accuracy: 0.5026\n",
      "Epoch 10/10\n",
      "625/625 [==============================] - 4s 6ms/step - loss: 0.5391 - accuracy: 0.7604 - val_loss: 1.2376 - val_accuracy: 0.5026\n"
     ]
    }
   ],
   "source": [
    "dan_model_sorted = create_dan_model()\n",
    "#use dan_sorted_history = ... below\n",
    "dan_sorted_history = dan_model_sorted.fit(sorted_training_input_ids,\n",
    "                                          sorted_training_labels,\n",
    "                                          validation_data=(test_input_ids, test_input_labels),\n",
    "                                          batch_size=32,\n",
    "                                          epochs=10, #was 10\n",
    "                                          shuffle=False\n",
    "                                          )\n"
   ]
  },
  {
   "cell_type": "markdown",
   "metadata": {
    "id": "RUNYdZ8rnaNX"
   },
   "source": [
    "Recreating the same model and training it with **'shuffle=True'**. (Note that this is also the default.). Using 'dan_shuffled_history' for the history."
   ]
  },
  {
   "cell_type": "code",
   "execution_count": null,
   "metadata": {
    "colab": {
     "base_uri": "https://localhost:8080/"
    },
    "id": "fEsrjV2QkCo_",
    "outputId": "a6f17870-9a8d-4485-b3bf-c7756705f74b"
   },
   "outputs": [
    {
     "name": "stdout",
     "output_type": "stream",
     "text": [
      "Epoch 1/10\n",
      "625/625 [==============================] - 5s 6ms/step - loss: 0.6448 - accuracy: 0.6443 - val_loss: 0.5992 - val_accuracy: 0.6884\n",
      "Epoch 2/10\n",
      "625/625 [==============================] - 3s 5ms/step - loss: 0.5553 - accuracy: 0.7273 - val_loss: 0.5419 - val_accuracy: 0.7278\n",
      "Epoch 3/10\n",
      "625/625 [==============================] - 3s 5ms/step - loss: 0.5228 - accuracy: 0.7440 - val_loss: 0.5252 - val_accuracy: 0.7388\n",
      "Epoch 4/10\n",
      "625/625 [==============================] - 4s 7ms/step - loss: 0.5082 - accuracy: 0.7545 - val_loss: 0.5184 - val_accuracy: 0.7438\n",
      "Epoch 5/10\n",
      "625/625 [==============================] - 3s 5ms/step - loss: 0.5001 - accuracy: 0.7581 - val_loss: 0.5165 - val_accuracy: 0.7434\n",
      "Epoch 6/10\n",
      "625/625 [==============================] - 3s 5ms/step - loss: 0.4957 - accuracy: 0.7598 - val_loss: 0.5097 - val_accuracy: 0.7542\n",
      "Epoch 7/10\n",
      "625/625 [==============================] - 3s 5ms/step - loss: 0.4903 - accuracy: 0.7638 - val_loss: 0.5063 - val_accuracy: 0.7560\n",
      "Epoch 8/10\n",
      "625/625 [==============================] - 4s 6ms/step - loss: 0.4869 - accuracy: 0.7660 - val_loss: 0.5000 - val_accuracy: 0.7588\n",
      "Epoch 9/10\n",
      "625/625 [==============================] - 3s 5ms/step - loss: 0.4833 - accuracy: 0.7670 - val_loss: 0.5040 - val_accuracy: 0.7540\n",
      "Epoch 10/10\n",
      "625/625 [==============================] - 3s 5ms/step - loss: 0.4792 - accuracy: 0.7689 - val_loss: 0.4930 - val_accuracy: 0.7636\n"
     ]
    }
   ],
   "source": [
    "\n",
    "\n",
    "dan_model_shuffled = create_dan_model()\n",
    "dan_shuffled_history = dan_model_shuffled.fit(sorted_training_input_ids,\n",
    "                                              sorted_training_labels,\n",
    "                                              validation_data=(test_input_ids, test_labels),\n",
    "                                              batch_size=32,\n",
    "                                              epochs=10, #was 10\n",
    "                                              shuffle = True\n",
    "                                              )\n",
    "\n"
   ]
  },
  {
   "cell_type": "markdown",
   "metadata": {
    "id": "BYCwHBzyoY0_"
   },
   "source": [
    "Comparing the 2 histories in a plot."
   ]
  },
  {
   "cell_type": "code",
   "execution_count": null,
   "metadata": {
    "colab": {
     "base_uri": "https://localhost:8080/",
     "height": 771
    },
    "id": "ZAlGkoidkun-",
    "outputId": "01cbf7d8-2c54-4c9d-fc54-b43f2c50132e"
   },
   "outputs": [
    {
     "data": {
      "image/png": "[encoded data removed]",
      "text/plain": [
       "<Figure size 1850x1050 with 4 Axes>"
      ]
     },
     "metadata": {},
     "output_type": "display_data"
    }
   ],
   "source": [
    "fig, axs = plt.subplots(2, 2)\n",
    "fig.subplots_adjust(left=0.2, wspace=0.6)\n",
    "make_plot(axs,\n",
    "          dan_sorted_history,\n",
    "          dan_shuffled_history,\n",
    "          model_1_name='sorted',\n",
    "         model_2_name='shuffled')\n",
    "\n",
    "fig.align_ylabels(axs[:, 1])\n",
    "fig.set_size_inches(18.5, 10.5)\n",
    "plt.show()"
   ]
  },
  {
   "cell_type": "markdown",
   "metadata": {
    "id": "bRWLsg0WNdcE"
   },
   "source": [
    "### 2.2 DAN vs Weighted Averaging Models using Attention\n",
    "\n",
    "#### 2.2.1. Manual Attention Calculation\n",
    "\n"
   ]
  },
  {
   "cell_type": "code",
   "execution_count": null,
   "metadata": {
    "id": "fpLZyRImNdz5"
   },
   "outputs": [],
   "source": [
    "q = [1, 2., 1]\n",
    "\n",
    "k1 = v1 = [-1, -1, 3.]\n",
    "k2 = v2 = [1, 2, -5.]"
   ]
  },
  {
   "cell_type": "code",
   "execution_count": null,
   "metadata": {
    "colab": {
     "base_uri": "https://localhost:8080/"
    },
    "id": "DSbKYfjEOmlh",
    "outputId": "29f4cad8-4961-414e-f986-672b257a8c5b"
   },
   "outputs": [
    {
     "name": "stdout",
     "output_type": "stream",
     "text": [
      "(<tf.Tensor: shape=(1, 1, 3), dtype=float32, numpy=array([[[ 0. ,  0.5, -1. ]]], dtype=float32)>, <tf.Tensor: shape=(1, 1, 2), dtype=float32, numpy=array([[[0.5, 0.5]]], dtype=float32)>)\n"
     ]
    }
   ],
   "source": [
    "\n",
    "import tensorflow as tf\n",
    "\n",
    "# Define the query, keys, and values\n",
    "q = tf.constant([[1., 2., 1.]])  # the query\n",
    "k = tf.constant([[-1., -1., 3.], [1., 2., -5.]])  # the keys\n",
    "v = tf.constant([[-1., -1., 3.], [1., 2., -5.]])  # the values\n",
    "\n",
    "# Add an extra dimension to the query\n",
    "q = tf.expand_dims(q, 1)\n",
    "\n",
    "# Create an Attention layer\n",
    "attention_layer = tf.keras.layers.Attention()\n",
    "\n",
    "# Call the Attention layer with the query, keys, and values\n",
    "context_vector = attention_layer([q, k, v], return_attention_scores = True)\n",
    "\n",
    "print(context_vector)\n",
    "\n",
    "\n"
   ]
  },
  {
   "cell_type": "markdown",
   "metadata": {
    "id": "68YFNDesI0Cv"
   },
   "source": [
    "#### 2.2.2 The 'WAN' Model\n",
    "\n",
    "\n",
    "Next, we would like to improve our DAN by attempting to train a neural net that learns to put more weight on some words than others by using **Attention**.\n",
    "\n",
    "\n",
    "\n",
    "The critical change from the DAN is to add a learnable query vector for the attention calculation.\n",
    "\n",
    "The key vectors should be the incoming word vectors.\n",
    "\n",
    "The query vector needs to have the size of the word vectors, as it needs to attend to them. We generate an embedding like vector by getting a single row of trained weights from a Dense layer, if we pass in a value of one to multiply by that weight matrix:\n",
    "\n",
    "\n",
    "```\n",
    "wan_query_layer = tf.keras.layers.Dense(embedding_matrix.shape[1])\n",
    "```\n",
    "\n",
    "We use a 'fake input-like layer' that creates for each incoming batch example a '1', that then the query layer can get applied to.\n",
    "\n",
    "```\n",
    "wan_one_vector = tf.Variable(tf.ones((1, 1, 1)))\n",
    "wan_batch_of_ones = tf.tile(wan_one_vector, (tf.shape(wan_input_layer)[0], 1, 1))\n",
    "```\n",
    "\n",
    "The query vector becomes available for each example:\n",
    "\n",
    "```\n",
    "wan_query_vector = wan_query_layer(wan_batch_of_ones)\n",
    "\n",
    "```\n",
    "\n",
    "We will also have **2 outputs**\n",
    "\n",
    "We should use:\n",
    "\n",
    "```\n",
    "tf.keras.layers.Attention()\n",
    "```\n",
    "\n",
    "We need 2 outputs that makes the classification.\n",
    "\n",
    "Finally, we reshape the output after the Attention layer, because the Attention layer gives a sequence of vectors for each example. It will just be a sequence of one weighted average vector for each example. We want to remove that middle dimension of size to just have a single vector for each example. \n",
    "\n",
    "```\n",
    "wan_attention_output = tf.keras.layers.Reshape((wan_attention_output.shape[-1],))(wan_attention_output)\n",
    "```"
   ]
  },
  {
   "cell_type": "code",
   "execution_count": null,
   "metadata": {
    "id": "_9F8zY4WG3Mg"
   },
   "outputs": [],
   "source": [
    "def create_wan_model(retrain_embeddings=False,\n",
    "                     max_sequence_length=MAX_SEQUENCE_LENGTH,\n",
    "                     hidden_dim=100,\n",
    "                     dropout=0.3,\n",
    "                     embedding_initializer='word2vec',\n",
    "                     learning_rate=0.001):\n",
    "  \"\"\"\n",
    "  Constructing the WAN model including the compilation and returning it. Parametrizing it using the arguments.\n",
    "  :param retrain_embeddings: boolean, indicating whether the word embeddings are trainable\n",
    "  :param hidden_dim: dimension of the hidden layer\n",
    "  :param dropout: dropout applied to the hidden layer\n",
    "\n",
    "  :returns: the compiled model\n",
    "  \"\"\"\n",
    "\n",
    "  if embedding_initializer == 'word2vec':\n",
    "    embeddings_initializer=tf.keras.initializers.Constant(embedding_matrix)\n",
    "  else:\n",
    "    embeddings_initializer='uniform'\n",
    "\n",
    "\n",
    "\n",
    "  wan_input_layer = tf.keras.layers.Input(shape=(max_sequence_length,), dtype='int64', name='wan_input_layer')\n",
    "  wan_embedding_layer = Embedding(embedding_matrix.shape[0],\n",
    "                                  embedding_matrix.shape[1],\n",
    "                                  embeddings_initializer=embeddings_initializer,\n",
    "                                  input_length=max_sequence_length,\n",
    "                                  trainable = retrain_embeddings )\n",
    "  wan_embeddings = wan_embedding_layer(wan_input_layer)\n",
    "  #attention layers\n",
    "  wan_one_vector = tf.Variable(tf.ones((1, 1, 1)))\n",
    "  wan_batch_of_ones = tf.tile(wan_one_vector, (tf.shape(wan_input_layer)[0], 1, 1))\n",
    "  wan_query_layer = tf.keras.layers.Dense(embedding_matrix.shape[1])\n",
    "  wan_query_vector = wan_query_layer(wan_batch_of_ones)\n",
    "  #end attention layers\n",
    "  wan_attention_output = tf.keras.layers.Attention()([wan_query_vector, wan_embeddings, wan_embeddings], return_attention_scores = True)\n",
    "  wan_attention = tf.keras.layers.Reshape((wan_attention_output[0].shape[-1],), name ='wan_attention_weights')(wan_attention_output[0])\n",
    "\n",
    "  last_hidden_output = tf.keras.layers.Dense(hidden_dim, activation='relu')(wan_attention)\n",
    "  last_hidden_output_dropout = tf.keras.layers.Dropout(dropout)(last_hidden_output)\n",
    "  #classificatioin layer\n",
    "  wan_classification = tf.keras.layers.Dense(1,activation='sigmoid', name='classification')(last_hidden_output_dropout)\n",
    " # Get the attention weights\n",
    "  wan_model = tf.keras.models.Model(inputs=wan_input_layer, outputs=[wan_classification, wan_attention_output[1]])\n",
    "\n",
    " \n",
    "  wan_model.compile( optimizer=tf.keras.optimizers.Adam(learning_rate=learning_rate),\n",
    "                    loss=['binary_crossentropy', None],\n",
    "                    metrics=[['accuracy'], None]\n",
    "                     )\n",
    "\n",
    "\n",
    "\n",
    "\n",
    "\n",
    "\n",
    "\n",
    "  return wan_model\n"
   ]
  },
  {
   "cell_type": "markdown",
   "metadata": {
    "id": "a5gnW7j8QHUo"
   },
   "source": [
    "Train the model for the same dataset as the DAN model (shuffled data) and saving its history in a variable named 'wan_history'."
   ]
  },
  {
   "cell_type": "code",
   "execution_count": null,
   "metadata": {
    "colab": {
     "base_uri": "https://localhost:8080/"
    },
    "id": "A3WYcv0CNMGC",
    "outputId": "50b5eb11-a562-473f-b1af-a86b98366baa"
   },
   "outputs": [
    {
     "name": "stderr",
     "output_type": "stream",
     "text": [
      "WARNING:tensorflow:The following Variables were used in a Lambda layer's call (tf.tile), but are not present in its tracked objects:   <tf.Variable 'Variable:0' shape=(1, 1, 1) dtype=float32>. This is a strong indication that the Lambda layer should be rewritten as a subclassed Layer.\n"
     ]
    },
    {
     "name": "stdout",
     "output_type": "stream",
     "text": [
      "Epoch 1/10\n",
      "625/625 [==============================] - 5s 6ms/step - loss: 0.5749 - classification_loss: 0.5749 - classification_accuracy: 0.6994 - val_loss: 0.4983 - val_classification_loss: 0.4983 - val_classification_accuracy: 0.7578\n",
      "Epoch 2/10\n",
      "625/625 [==============================] - 4s 6ms/step - loss: 0.4846 - classification_loss: 0.4846 - classification_accuracy: 0.7670 - val_loss: 0.4822 - val_classification_loss: 0.4822 - val_classification_accuracy: 0.7704\n",
      "Epoch 3/10\n",
      "625/625 [==============================] - 5s 8ms/step - loss: 0.4686 - classification_loss: 0.4686 - classification_accuracy: 0.7771 - val_loss: 0.4778 - val_classification_loss: 0.4778 - val_classification_accuracy: 0.7668\n",
      "Epoch 4/10\n",
      "625/625 [==============================] - 4s 6ms/step - loss: 0.4612 - classification_loss: 0.4612 - classification_accuracy: 0.7814 - val_loss: 0.4669 - val_classification_loss: 0.4669 - val_classification_accuracy: 0.7776\n",
      "Epoch 5/10\n",
      "625/625 [==============================] - 4s 6ms/step - loss: 0.4551 - classification_loss: 0.4551 - classification_accuracy: 0.7854 - val_loss: 0.4633 - val_classification_loss: 0.4633 - val_classification_accuracy: 0.7728\n",
      "Epoch 6/10\n",
      "625/625 [==============================] - 5s 7ms/step - loss: 0.4513 - classification_loss: 0.4513 - classification_accuracy: 0.7878 - val_loss: 0.4644 - val_classification_loss: 0.4644 - val_classification_accuracy: 0.7734\n",
      "Epoch 7/10\n",
      "625/625 [==============================] - 4s 6ms/step - loss: 0.4466 - classification_loss: 0.4466 - classification_accuracy: 0.7906 - val_loss: 0.4622 - val_classification_loss: 0.4622 - val_classification_accuracy: 0.7762\n",
      "Epoch 8/10\n",
      "625/625 [==============================] - 4s 6ms/step - loss: 0.4439 - classification_loss: 0.4439 - classification_accuracy: 0.7926 - val_loss: 0.4620 - val_classification_loss: 0.4620 - val_classification_accuracy: 0.7798\n",
      "Epoch 9/10\n",
      "625/625 [==============================] - 4s 7ms/step - loss: 0.4398 - classification_loss: 0.4398 - classification_accuracy: 0.7936 - val_loss: 0.4604 - val_classification_loss: 0.4604 - val_classification_accuracy: 0.7800\n",
      "Epoch 10/10\n",
      "625/625 [==============================] - 4s 6ms/step - loss: 0.4384 - classification_loss: 0.4384 - classification_accuracy: 0.7936 - val_loss: 0.4641 - val_classification_loss: 0.4641 - val_classification_accuracy: 0.7774\n"
     ]
    }
   ],
   "source": [
    "wan_model = create_wan_model()\n",
    "\n",
    "\n",
    "wan_history = wan_model.fit(sorted_training_input_ids,\n",
    "                                              sorted_training_labels,\n",
    "                                              validation_data=(test_input_ids, test_labels),\n",
    "                                              batch_size=32,\n",
    "                                              epochs=10,\n",
    "                                              shuffle = True\n",
    "                                              )\n",
    "\n"
   ]
  },
  {
   "cell_type": "markdown",
   "metadata": {
    "id": "ZAgsZiy8Nx1U"
   },
   "source": [
    "Now we compare the results of the initial dan_model training and the wan_model training:"
   ]
  },
  {
   "cell_type": "code",
   "execution_count": null,
   "metadata": {
    "colab": {
     "base_uri": "https://localhost:8080/",
     "height": 771
    },
    "id": "O-MMBGCWLwe1",
    "outputId": "47436a87-ab36-4a44-9491-441ff838cabc"
   },
   "outputs": [
    {
     "data": {
      "image/png": "[encoded data removed]",
      "text/plain": [
       "<Figure size 1850x1050 with 4 Axes>"
      ]
     },
     "metadata": {},
     "output_type": "display_data"
    }
   ],
   "source": [
    "fig, axs = plt.subplots(2, 2)\n",
    "fig.subplots_adjust(left=0.2, wspace=0.6)\n",
    "make_plot(axs,\n",
    "          dan_shuffled_history,\n",
    "          wan_history,\n",
    "          model_1_name='dan',\n",
    "         model_2_name='wan')\n",
    "\n",
    "fig.align_ylabels(axs[:, 1])\n",
    "fig.set_size_inches(18.5, 10.5)\n",
    "plt.show()"
   ]
  },
  {
   "cell_type": "markdown",
   "metadata": {
    "id": "ILMLcnuZOWoT"
   },
   "source": [
    "Next, let us see for the wan_model which words matter most for the classification prediction and which ones did less so by looking at the attention weights."
   ]
  },
  {
   "cell_type": "code",
   "execution_count": null,
   "metadata": {
    "colab": {
     "base_uri": "https://localhost:8080/",
     "height": 107
    },
    "id": "53pdy0pwU91Z",
    "outputId": "e69618f8-4e22-4045-c74e-062273f4e69d"
   },
   "outputs": [
    {
     "data": {
      "application/vnd.google.colaboratory.intrinsic+json": {
       "type": "string"
      },
      "text/plain": [
       "\"This was an absolutely terrible movie. Don't be lured in by Christopher Walken or Michael Ironside. Both are great actors, but this must simply be their worst role in history. Even their great acting could not redeem this movie's ridiculous storyline. This movie is an early nineties US propaganda piece. The most pathetic scenes were those when the Columbian rebels were making their cases for revolutions. Maria Conchita Alonso appeared phony, and her pseudo-love affair with Walken was nothing but a pathetic emotional plug in a movie that was devoid of any real meaning. I am disappointed that there are movies like this, ruining actor's like Christopher Walken's good name. I could barely sit through it.\""
      ]
     },
     "execution_count": 29,
     "metadata": {},
     "output_type": "execute_result"
    }
   ],
   "source": [
    "train_examples[0].numpy().decode('utf-8')"
   ]
  },
  {
   "cell_type": "markdown",
   "metadata": {
    "id": "B6CFujCuX37x"
   },
   "source": [
    "The corresponding list of input ids that are suitably formatted, i.e. with sequence length 100, are these:"
   ]
  },
  {
   "cell_type": "code",
   "execution_count": null,
   "metadata": {
    "colab": {
     "base_uri": "https://localhost:8080/"
    },
    "id": "T5U6X-fcVD88",
    "outputId": "e16e7d87-5ea1-4dfe-92ef-f21db4b53858"
   },
   "outputs": [
    {
     "data": {
      "text/plain": [
       "array([[21531, 25272, 12291,  7427, 37254, 43981,  6891, 12917, 38232,\n",
       "        16915, 12929, 16182, 43981, 20526, 23487, 43981, 23807, 42958,\n",
       "        35058, 43981, 19123, 35029, 41270, 29275, 12917, 32597, 20659,\n",
       "          638, 16915, 43981,   174, 32597, 35058, 39971,  2326,  3636,\n",
       "        22434, 35029, 43981, 33922, 43981, 21531, 34710, 16908, 12291,\n",
       "        36880, 28137,  5376, 28038, 43981, 15402, 29155, 18063, 24951,\n",
       "        17433, 17595,  8856, 14193, 43981, 43248, 17433,  6290, 32597,\n",
       "         9001, 11511, 43981, 21807, 39168, 43981, 16856, 43981, 43981,\n",
       "        23245, 43981,  8889,  1331, 43981, 25272, 31976, 19123, 43981,\n",
       "        18063, 36309, 24099, 16915, 43981, 34710, 36633, 25272, 20413,\n",
       "        43981, 33458, 14926, 43981, 12139, 12289, 39617, 36633,  9483,\n",
       "        42958]])"
      ]
     },
     "execution_count": 30,
     "metadata": {},
     "output_type": "execute_result"
    }
   ],
   "source": [
    "probe_input_ids = train_input_ids[:1]\n",
    "probe_input_ids"
   ]
  },
  {
   "cell_type": "markdown",
   "metadata": {
    "id": "jWNRYYmUYw-D"
   },
   "source": [
    "and the first 10 corresponding tokens are:"
   ]
  },
  {
   "cell_type": "code",
   "execution_count": null,
   "metadata": {
    "colab": {
     "base_uri": "https://localhost:8080/"
    },
    "id": "x1h1vScxYxMw",
    "outputId": "1f33cac5-4be8-42b5-ce31-1558d30aec24"
   },
   "outputs": [
    {
     "data": {
      "text/plain": [
       "['This',\n",
       " 'was',\n",
       " 'an',\n",
       " 'absolutely',\n",
       " 'terrible',\n",
       " 'movie.',\n",
       " \"Don't\",\n",
       " 'be',\n",
       " 'lured',\n",
       " 'in']"
      ]
     },
     "execution_count": 31,
     "metadata": {},
     "output_type": "execute_result"
    }
   ],
   "source": [
    "probe_tokens = [x.decode('utf-8') for x in train_tokens[0].numpy()][:100]\n",
    "probe_tokens[:10]"
   ]
  },
  {
   "cell_type": "markdown",
   "metadata": {
    "id": "y_9R85S7YOXF"
   },
   "source": [
    "Identifying the **5 words** with the highest impact and the **5 words** with the lowest impact on the score:"
   ]
  },
  {
   "cell_type": "code",
   "execution_count": null,
   "metadata": {
    "colab": {
     "base_uri": "https://localhost:8080/"
    },
    "id": "0UBhi3G0S0v8",
    "outputId": "d2f8020d-05fb-4576-bb6d-8da9c8b275dc"
   },
   "outputs": [
    {
     "name": "stdout",
     "output_type": "stream",
     "text": [
      "1/1 [==============================] - 0s 149ms/step\n",
      "most important tokens:\n",
      "\t [('worst', 0.1103431), ('terrible', 0.081310354), ('pathetic', 0.050736107), ('pathetic', 0.050736107), ('devoid', 0.037530296), ('ridiculous', 0.033721156), ('nothing', 0.030627105), ('simply', 0.02234307), ('must', 0.02109732), ('emotional', 0.02038935)]\n",
      "\n",
      "least important tokens:\n",
      "\t [('their', 0.001924269), ('their', 0.001924269), ('their', 0.001924269), ('I', 0.0018410002), ('this', 0.0017834926), ('this', 0.0017834926), ('am', 0.0017749646), ('The', 0.0016681406), ('her', 0.0016647222), ('the', 0.0014193867)]\n"
     ]
    }
   ],
   "source": [
    "\n",
    "\n",
    "# 'pairs' should be the variable that holds the  token/weight pairs.\n",
    "at_weights = wan_model.predict(probe_input_ids[:1])[1][0][0]\n",
    "pairs = [(token, weight) for token, weight in zip(probe_tokens, at_weights)]\n",
    "#sort by weight in descending order\n",
    "pairs.sort(key=lambda x: x[1], reverse=True)\n",
    "\n",
    "\n",
    "\n",
    "\n",
    "\n",
    "\n",
    "print('most important tokens:')\n",
    "print('\\t', pairs[:10])\n",
    "print('\\nleast important tokens:')\n",
    "print('\\t', pairs[-10:])\n",
    "\n"
   ]
  },
  {
   "cell_type": "markdown",
   "metadata": {
    "id": "5IYOH-QfSj22"
   },
   "source": [
    "### 2.3 Approaches for Training of Embeddings\n",
    "\n",
    "Rerunning the DAN Model in 3 separate configurations:\n",
    "\n",
    "\n",
    "1.   embedding_initializer = 'word2vec' and retrain_embeddings=False\n",
    "2.   embedding_initializer = 'word2vec' and retrain_embeddings=True\n",
    "3.   embedding_initializer = 'uniform' and retrain_embeddings=True\n",
    "\n"
   ]
  },
  {
   "cell_type": "code",
   "execution_count": null,
   "metadata": {
    "colab": {
     "base_uri": "https://localhost:8080/"
    },
    "id": "h6Pxm-2xU1aw",
    "outputId": "5da318ec-22a7-4708-eb9c-941cefde806a"
   },
   "outputs": [
    {
     "name": "stdout",
     "output_type": "stream",
     "text": [
      "Epoch 1/10\n",
      "625/625 [==============================] - 4s 5ms/step - loss: 0.6388 - accuracy: 0.6525 - val_loss: 0.5899 - val_accuracy: 0.7102\n",
      "Epoch 2/10\n",
      "625/625 [==============================] - 3s 5ms/step - loss: 0.5515 - accuracy: 0.7281 - val_loss: 0.5408 - val_accuracy: 0.7270\n",
      "Epoch 3/10\n",
      "625/625 [==============================] - 3s 4ms/step - loss: 0.5211 - accuracy: 0.7436 - val_loss: 0.5301 - val_accuracy: 0.7338\n",
      "Epoch 4/10\n",
      "625/625 [==============================] - 3s 5ms/step - loss: 0.5100 - accuracy: 0.7529 - val_loss: 0.5157 - val_accuracy: 0.7504\n",
      "Epoch 5/10\n",
      "625/625 [==============================] - 3s 5ms/step - loss: 0.4998 - accuracy: 0.7581 - val_loss: 0.5208 - val_accuracy: 0.7440\n",
      "Epoch 6/10\n",
      "625/625 [==============================] - 5s 9ms/step - loss: 0.4944 - accuracy: 0.7618 - val_loss: 0.5053 - val_accuracy: 0.7560\n",
      "Epoch 7/10\n",
      "625/625 [==============================] - 3s 5ms/step - loss: 0.4906 - accuracy: 0.7635 - val_loss: 0.5053 - val_accuracy: 0.7586\n",
      "Epoch 8/10\n",
      "625/625 [==============================] - 3s 5ms/step - loss: 0.4869 - accuracy: 0.7664 - val_loss: 0.4998 - val_accuracy: 0.7602\n",
      "Epoch 9/10\n",
      "625/625 [==============================] - 3s 4ms/step - loss: 0.4817 - accuracy: 0.7682 - val_loss: 0.4941 - val_accuracy: 0.7620\n",
      "Epoch 10/10\n",
      "625/625 [==============================] - 3s 5ms/step - loss: 0.4808 - accuracy: 0.7679 - val_loss: 0.4956 - val_accuracy: 0.7618\n"
     ]
    }
   ],
   "source": [
    "\n",
    "#run once\n",
    "dan_model_one = create_dan_model()\n",
    "#use dan_sorted_history = ... below\n",
    "dan_one_history = dan_model_one.fit(sorted_training_input_ids,\n",
    "                                          sorted_training_labels,\n",
    "                                          validation_data=(test_input_ids, test_input_labels),\n",
    "                                          batch_size=32,\n",
    "                                          epochs=10,\n",
    "                                          shuffle=True\n",
    "                                          )\n",
    "\n",
    "\n"
   ]
  },
  {
   "cell_type": "code",
   "execution_count": null,
   "metadata": {
    "colab": {
     "base_uri": "https://localhost:8080/"
    },
    "id": "qwlDqMTxVwbQ",
    "outputId": "fc3d3038-0d42-447c-dc68-26f12d7daef0"
   },
   "outputs": [
    {
     "name": "stdout",
     "output_type": "stream",
     "text": [
      "Epoch 1/3\n",
      "625/625 [==============================] - 278s 442ms/step - loss: 0.5032 - accuracy: 0.7495 - val_loss: 0.4494 - val_accuracy: 0.7880\n",
      "Epoch 2/3\n",
      "625/625 [==============================] - 222s 355ms/step - loss: 0.3178 - accuracy: 0.8694 - val_loss: 0.4596 - val_accuracy: 0.7900\n",
      "Epoch 3/3\n",
      "625/625 [==============================] - 236s 378ms/step - loss: 0.2368 - accuracy: 0.9082 - val_loss: 0.5369 - val_accuracy: 0.7772\n"
     ]
    }
   ],
   "source": [
    "\n",
    "#run once\n",
    "dan_model_two = create_dan_model(retrain_embeddings=True)\n",
    "#use dan_sorted_history = ... below\n",
    "dan_two_history = dan_model_two.fit(sorted_training_input_ids,\n",
    "                                          sorted_training_labels,\n",
    "                                          validation_data=(test_input_ids, test_input_labels),\n",
    "                                          batch_size=32,\n",
    "                                          epochs=3,\n",
    "                                          shuffle=True\n",
    "                                          )\n",
    "\n",
    "\n",
    "\n"
   ]
  },
  {
   "cell_type": "code",
   "execution_count": null,
   "metadata": {
    "colab": {
     "base_uri": "https://localhost:8080/"
    },
    "id": "H0rMPTAOVw70",
    "outputId": "95235061-0866-4fc1-d312-a6ee3d174a60"
   },
   "outputs": [
    {
     "name": "stdout",
     "output_type": "stream",
     "text": [
      "Epoch 1/3\n",
      "625/625 [==============================] - 253s 403ms/step - loss: 0.5092 - accuracy: 0.7469 - val_loss: 0.4407 - val_accuracy: 0.7914\n",
      "Epoch 2/3\n",
      "625/625 [==============================] - 204s 326ms/step - loss: 0.3216 - accuracy: 0.8626 - val_loss: 0.4873 - val_accuracy: 0.7768\n",
      "Epoch 3/3\n",
      "625/625 [==============================] - 211s 338ms/step - loss: 0.2362 - accuracy: 0.9078 - val_loss: 0.5234 - val_accuracy: 0.7718\n"
     ]
    }
   ],
   "source": [
    "\n",
    "\n",
    "#run once\n",
    "dan_model_three = create_dan_model(retrain_embeddings=True, embedding_initializer = 'uniform')\n",
    "#use dan_sorted_history = ... below\n",
    "dan_three_history = dan_model_three.fit(sorted_training_input_ids,\n",
    "                                          sorted_training_labels,\n",
    "                                          validation_data=(test_input_ids, test_input_labels),\n",
    "                                          batch_size=32,\n",
    "                                          epochs=3,\n",
    "                                          shuffle=True\n",
    "                                          )\n",
    "\n",
    "\n"
   ]
  },
  {
   "cell_type": "markdown",
   "metadata": {
    "id": "4BGRT1g6a0T6"
   },
   "source": [
    "\n",
    "## 3. BERT-based Classification Models\n",
    "\n",
    "We will perform classifications with various models that are based on pre-trained BERT models.\n",
    "\n",
    "\n",
    "### 3.1. Basics\n",
    "\n",
    "lets load the pretrained BERT model and tokenizer that we'll use (\n",
    "'bert-base-cased')."
   ]
  },
  {
   "cell_type": "code",
   "execution_count": 18,
   "metadata": {
    "id": "aM3UggLagPn4"
   },
   "outputs": [],
   "source": [
    "test_input = ['this bank is closed on Sunday', 'the steepest bank of the river is dangerous']"
   ]
  },
  {
   "cell_type": "markdown",
   "metadata": {
    "id": "YWaNDy5UbmGU"
   },
   "source": [
    "Lets tokenize it:"
   ]
  },
  {
   "cell_type": "code",
   "execution_count": 15,
   "metadata": {
    "colab": {
     "base_uri": "https://localhost:8080/"
    },
    "id": "nmoptRz0bq1o",
    "outputId": "53f9d588-8947-4cab-b0e6-be742fa06e7e"
   },
   "outputs": [
    {
     "data": {
      "text/plain": [
       "{'input_ids': <tf.Tensor: shape=(2, 12), dtype=int32, numpy=\n",
       "array([[ 101, 1142, 3085, 1110, 1804, 1113, 3625,  102,    0,    0,    0,\n",
       "           0],\n",
       "       [ 101, 1103, 9458, 2556, 3085, 1104, 1103, 2186, 1110, 4249,  102,\n",
       "           0]], dtype=int32)>, 'token_type_ids': <tf.Tensor: shape=(2, 12), dtype=int32, numpy=\n",
       "array([[0, 0, 0, 0, 0, 0, 0, 0, 0, 0, 0, 0],\n",
       "       [0, 0, 0, 0, 0, 0, 0, 0, 0, 0, 0, 0]], dtype=int32)>, 'attention_mask': <tf.Tensor: shape=(2, 12), dtype=int32, numpy=\n",
       "array([[1, 1, 1, 1, 1, 1, 1, 1, 0, 0, 0, 0],\n",
       "       [1, 1, 1, 1, 1, 1, 1, 1, 1, 1, 1, 0]], dtype=int32)>}"
      ]
     },
     "execution_count": 15,
     "metadata": {},
     "output_type": "execute_result"
    }
   ],
   "source": [
    "tokenized_input = bert_tokenizer(test_input,\n",
    "                                 max_length=12,\n",
    "                                 truncation=True,\n",
    "                                 padding='max_length',\n",
    "                                 return_tensors='tf')\n",
    "\n",
    "tokenized_input"
   ]
  },
  {
   "cell_type": "code",
   "execution_count": 24,
   "metadata": {
    "colab": {
     "base_uri": "https://localhost:8080/"
    },
    "id": "4hpNQPvBehMc",
    "outputId": "84e6e7ed-95b0-406a-c16b-3f2346f5fa5d"
   },
   "outputs": [
    {
     "data": {
      "text/plain": [
       "TFBaseModelOutputWithPoolingAndCrossAttentions(last_hidden_state=<tf.Tensor: shape=(2, 12, 768), dtype=float32, numpy=\n",
       "array([[[ 0.03282782, -0.12895375, -0.32560351, ..., -0.01338751,\n",
       "         -0.21460207, -0.27648538],\n",
       "        [ 0.03282776, -0.12895384, -0.32560351, ..., -0.01338752,\n",
       "         -0.21460205, -0.27648544],\n",
       "        [ 0.03282782, -0.12895371, -0.32560357, ..., -0.01338757,\n",
       "         -0.21460213, -0.27648544],\n",
       "        ...,\n",
       "        [ 0.03282783, -0.1289537 , -0.32560351, ..., -0.01338751,\n",
       "         -0.2146021 , -0.27648547],\n",
       "        [ 0.03282782, -0.12895375, -0.32560357, ..., -0.01338758,\n",
       "         -0.21460213, -0.27648556],\n",
       "        [ 0.03282783, -0.12895373, -0.32560354, ..., -0.01338752,\n",
       "         -0.21460204, -0.27648544]],\n",
       "\n",
       "       [[ 0.03288053, -0.1290081 , -0.3256126 , ..., -0.0134043 ,\n",
       "         -0.21461979, -0.27647457],\n",
       "        [ 0.03288062, -0.12900816, -0.32561263, ..., -0.01340434,\n",
       "         -0.21461979, -0.2764746 ],\n",
       "        [ 0.03288063, -0.1290082 , -0.3256127 , ..., -0.01340436,\n",
       "         -0.21461987, -0.2764746 ],\n",
       "        ...,\n",
       "        [ 0.03288068, -0.12900822, -0.32561275, ..., -0.0134044 ,\n",
       "         -0.21461979, -0.27647477],\n",
       "        [ 0.03288066, -0.12900814, -0.32561263, ..., -0.01340421,\n",
       "         -0.21461976, -0.27647457],\n",
       "        [ 0.03288057, -0.12900819, -0.3256126 , ..., -0.01340435,\n",
       "         -0.21461976, -0.27647462]]], dtype=float32)>, pooler_output=<tf.Tensor: shape=(2, 768), dtype=float32, numpy=\n",
       "array([[-0.23586807,  0.13750456,  0.9677877 , ...,  0.99434763,\n",
       "        -0.53788435,  0.974558  ],\n",
       "       [-0.23584194,  0.13749067,  0.96778744, ...,  0.99434745,\n",
       "        -0.5378586 ,  0.9745566 ]], dtype=float32)>, past_key_values=None, hidden_states=None, attentions=None, cross_attentions=None)"
      ]
     },
     "execution_count": 24,
     "metadata": {},
     "output_type": "execute_result"
    }
   ],
   "source": [
    "\n",
    "\n",
    "bert_output = bert_model(tokenized_input)\n",
    "bert_output\n",
    "\n"
   ]
  },
  {
   "cell_type": "markdown",
   "metadata": {
    "id": "XVNsqd6QRepy"
   },
   "source": [
    "3.1.b Check outputs:\n",
    "\n"
   ]
  },
  {
   "cell_type": "code",
   "execution_count": 25,
   "metadata": {
    "colab": {
     "base_uri": "https://localhost:8080/"
    },
    "id": "qAfOnO9zov-y",
    "outputId": "d1eab20c-6616-4287-df6f-3a0959a17096"
   },
   "outputs": [
    {
     "name": "stdout",
     "output_type": "stream",
     "text": [
      "Shape BERT output zero:  (2, 12, 768)\n",
      "Shape BERT output one:  (2, 768)\n"
     ]
    }
   ],
   "source": [
    "\n",
    "\n",
    "print('Shape BERT output zero: ', bert_output[0].shape)\n",
    "print('Shape BERT output one: ', bert_output[1].shape)\n",
    "\n",
    "\n"
   ]
  },
  {
   "cell_type": "markdown",
   "metadata": {
    "id": "7EYXhams6Bs6"
   },
   "source": [
    "We use the first output to get token-level embeddings.\n",
    "\n"
   ]
  },
  {
   "cell_type": "code",
   "execution_count": null,
   "metadata": {
    "colab": {
     "base_uri": "https://localhost:8080/"
    },
    "id": "7nFKUXikT-kf",
    "outputId": "3f8fe50b-e554-4801-d9be-436910d69f60"
   },
   "outputs": [
    {
     "data": {
      "text/plain": [
       "[101, 3085, 102]"
      ]
     },
     "execution_count": 23,
     "metadata": {},
     "output_type": "execute_result"
    }
   ],
   "source": [
    "bert_tokenizer.encode('bank')"
   ]
  },
  {
   "cell_type": "code",
   "execution_count": null,
   "metadata": {
    "colab": {
     "base_uri": "https://localhost:8080/"
    },
    "id": "N1J_wpWjUyBC",
    "outputId": "5d02cc0a-ecad-4bc4-d54a-178a7ac076ee"
   },
   "outputs": [
    {
     "data": {
      "text/plain": [
       "[101, 1142, 3085, 1110, 1804, 1113, 3625, 102, 0, 0, 0, 0]"
      ]
     },
     "execution_count": 24,
     "metadata": {},
     "output_type": "execute_result"
    }
   ],
   "source": [
    "tokenized_input['input_ids'][0].numpy().tolist()"
   ]
  },
  {
   "cell_type": "code",
   "execution_count": null,
   "metadata": {
    "colab": {
     "base_uri": "https://localhost:8080/"
    },
    "id": "G71FIKd0U-dn",
    "outputId": "50fdb206-5fdb-43f0-fc19-bfb9ea353eb8"
   },
   "outputs": [
    {
     "data": {
      "text/plain": [
       "[101, 1103, 9458, 2556, 3085, 1104, 1103, 2186, 1110, 4249, 102, 0]"
      ]
     },
     "execution_count": 25,
     "metadata": {},
     "output_type": "execute_result"
    }
   ],
   "source": [
    "tokenized_input['input_ids'][1].numpy().tolist()"
   ]
  },
  {
   "cell_type": "markdown",
   "metadata": {
    "id": "KBOvsTBwm_Vi"
   },
   "source": [
    "### 3.2 CLS-Token-based Classification\n",
    "\n",
    "We will do classification with BERT using the pooled token and extract the [CLS] token output for classification."
   ]
  },
  {
   "cell_type": "code",
   "execution_count": 57,
   "metadata": {
    "id": "V1OAGPTNgPr6"
   },
   "outputs": [],
   "source": [
    "def create_bert_cls_model(bert_base_model,\n",
    "                          max_sequence_length=MAX_SEQUENCE_LENGTH,\n",
    "                          hidden_size = 100,\n",
    "                          dropout=0.3,\n",
    "                          learning_rate=0.00005):\n",
    "    \"\"\"\n",
    "    Building a simple classification model with BERT. Using the CLS Token output for classification purposes.    \"\"\"\n",
    "\n",
    "    \n",
    "    id_inputs = tf.keras.layers.Input(shape=(max_sequence_length,), dtype=tf.int64, name='layer_id_inputs')\n",
    "    id_tokens = tf.keras.layers.Input(shape=(max_sequence_length,), dtype=tf.int64, name='layer_id_tokens')\n",
    "    attention_mask = tf.keras.layers.Input(shape=(max_sequence_length,), dtype=tf.int64, name='layer_attention_mask')\n",
    "    bert_inputs = {'input_ids': id_inputs, 'token_type_ids': id_tokens, 'attention_mask': attention_mask}\n",
    "\n",
    "    bert_out = bert_base_model(bert_inputs)[0]\n",
    "\n",
    "\n",
    "    cls_token = bert_out[:, 0, :]\n",
    "    hidden_layer = tf.keras.layers.Dense(hidden_size, activation='relu', name='hidden_layer')(cls_token)\n",
    "\n",
    "    hidden_layer = tf.keras.layers.Dropout(dropout)(hidden_layer)\n",
    "    classification = tf.keras.layers.Dense(1, activation='sigmoid',name='classification_layer')(hidden_layer)\n",
    "\n",
    "    classification_model = tf.keras.Model(inputs=[id_inputs, id_tokens, attention_mask], outputs=[classification])\n",
    "\n",
    "    classification_model.compile(optimizer=tf.keras.optimizers.Adam(learning_rate=learning_rate),\n",
    "                                 loss=tf.keras.losses.BinaryCrossentropy(from_logits=False),\n",
    "                                 metrics='accuracy')\n",
    "\n",
    "\n",
    "\n",
    "\n",
    "    return classification_model"
   ]
  },
  {
   "cell_type": "markdown",
   "metadata": {
    "id": "KcK2PyPNoNc2"
   },
   "source": [
    "Now we create the model and train for 2 epochs. Using batch size 8 and the appropriate validation/test set. \n"
   ]
  },
  {
   "cell_type": "code",
   "execution_count": 59,
   "metadata": {
    "colab": {
     "base_uri": "https://localhost:8080/"
    },
    "id": "hIXDr8OdiSyv",
    "outputId": "32bac882-acef-4ca5-d516-7dd8a3ff4cf7"
   },
   "outputs": [
    {
     "name": "stdout",
     "output_type": "stream",
     "text": [
      "Epoch 1/2\n"
     ]
    },
    {
     "name": "stderr",
     "output_type": "stream",
     "text": [
      "WARNING:tensorflow:Gradients do not exist for variables ['tf_bert_model_4/bert/pooler/dense/kernel:0', 'tf_bert_model_4/bert/pooler/dense/bias:0'] when minimizing the loss. If you're using `model.compile()`, did you forget to provide a `loss` argument?\n",
      "WARNING:tensorflow:Gradients do not exist for variables ['tf_bert_model_4/bert/pooler/dense/kernel:0', 'tf_bert_model_4/bert/pooler/dense/bias:0'] when minimizing the loss. If you're using `model.compile()`, did you forget to provide a `loss` argument?\n",
      "WARNING:tensorflow:Gradients do not exist for variables ['tf_bert_model_4/bert/pooler/dense/kernel:0', 'tf_bert_model_4/bert/pooler/dense/bias:0'] when minimizing the loss. If you're using `model.compile()`, did you forget to provide a `loss` argument?\n",
      "WARNING:tensorflow:Gradients do not exist for variables ['tf_bert_model_4/bert/pooler/dense/kernel:0', 'tf_bert_model_4/bert/pooler/dense/bias:0'] when minimizing the loss. If you're using `model.compile()`, did you forget to provide a `loss` argument?\n"
     ]
    },
    {
     "name": "stdout",
     "output_type": "stream",
     "text": [
      "2500/2500 [==============================] - 522s 194ms/step - loss: 0.4307 - accuracy: 0.8017 - val_loss: 0.3516 - val_accuracy: 0.8428\n",
      "Epoch 2/2\n",
      "2500/2500 [==============================] - 485s 194ms/step - loss: 0.2934 - accuracy: 0.8831 - val_loss: 0.4201 - val_accuracy: 0.8216\n"
     ]
    },
    {
     "data": {
      "text/plain": [
       "<keras.src.callbacks.History at 0x7c64f5bc41f0>"
      ]
     },
     "execution_count": 59,
     "metadata": {},
     "output_type": "execute_result"
    }
   ],
   "source": [
    "\n",
    "classification_model = create_bert_cls_model(bert_model)\n",
    "\n",
    "# Train the model for 2 epochs with batch size 8\n",
    "classification_model.fit(bert_train_inputs, bert_train_labels, epochs=2,\n",
    "                         batch_size=8,\n",
    "                         validation_data=(bert_test_inputs, bert_test_labels))\n",
    "\n",
    "\n"
   ]
  },
  {
   "cell_type": "markdown",
   "metadata": {
    "id": "3cMVEBuxro4j"
   },
   "source": [
    "### 3.3 Classification by Averaging the BERT outputs\n",
    "\n",
    "Instead of using only the output vector for the [CLS] token, we will now average the output vectors from BERT for all of the tokens in the full sequence.\n",
    "\n",
    "\n",
    "\n"
   ]
  },
  {
   "cell_type": "code",
   "execution_count": 60,
   "metadata": {
    "id": "sB2WKwLTk4LY"
   },
   "outputs": [],
   "source": [
    "def create_bert_avg_model(bert_a_model,\n",
    "                          max_sequence_length=MAX_SEQUENCE_LENGTH,\n",
    "                          hidden_size = 100,\n",
    "                          dropout=0.3,\n",
    "                          learning_rate=0.00005):\n",
    "    \"\"\"\n",
    "    Building a simple classification model with BERT. Using the average of the BERT output tokens\n",
    "    \"\"\"\n",
    "\n",
    "\n",
    "\n",
    "\n",
    "    id_inputs = tf.keras.layers.Input(shape=(max_sequence_length,), dtype=tf.int64, name='layer_id_inputs')\n",
    "    id_tokens = tf.keras.layers.Input(shape=(max_sequence_length,), dtype=tf.int64, name='layer_id_tokens')\n",
    "    attention_mask = tf.keras.layers.Input(shape=(max_sequence_length,), dtype=tf.int64, name='layer_attention_mask')\n",
    "    bert_inputs = {'input_ids': id_inputs, 'token_type_ids': id_tokens, 'attention_mask': attention_mask}\n",
    "\n",
    "    bert_out = bert_a_model(bert_inputs)[0]\n",
    "\n",
    "    mean_output= tf.math.reduce_mean(bert_out, axis=1)\n",
    "\n",
    "    hidden_layer = tf.keras.layers.Dense(hidden_size, activation='relu', name='hidden_layer')(mean_output)\n",
    "\n",
    "    hidden_layer = tf.keras.layers.Dropout(dropout)(hidden_layer)\n",
    "    classification = tf.keras.layers.Dense(1, activation='sigmoid',name='classification_layer')(hidden_layer)\n",
    "\n",
    "    classification_model = tf.keras.Model(inputs=[id_inputs, id_tokens, attention_mask], outputs=[classification])\n",
    "\n",
    "    classification_model.compile(optimizer=tf.keras.optimizers.Adam(learning_rate=learning_rate),\n",
    "                                 loss=tf.keras.losses.BinaryCrossentropy(from_logits=False),\n",
    "                                 metrics='accuracy')\n",
    "\n",
    "\n",
    "    \n",
    "\n",
    "    return classification_model"
   ]
  },
  {
   "cell_type": "markdown",
   "metadata": {
    "id": "xcLrgI49tBde"
   },
   "source": [
    "Now create the model and train for 2 epochs. Use batch size 8 and the appropriate validation/test set. "
   ]
  },
  {
   "cell_type": "code",
   "execution_count": 61,
   "metadata": {
    "colab": {
     "base_uri": "https://localhost:8080/"
    },
    "id": "AtS29uRbk4Os",
    "outputId": "6b172ee4-fc9b-47d2-f3eb-d1ca06f220f5"
   },
   "outputs": [
    {
     "name": "stdout",
     "output_type": "stream",
     "text": [
      "Epoch 1/2\n"
     ]
    },
    {
     "name": "stderr",
     "output_type": "stream",
     "text": [
      "WARNING:tensorflow:Gradients do not exist for variables ['tf_bert_model_4/bert/pooler/dense/kernel:0', 'tf_bert_model_4/bert/pooler/dense/bias:0'] when minimizing the loss. If you're using `model.compile()`, did you forget to provide a `loss` argument?\n",
      "WARNING:tensorflow:Gradients do not exist for variables ['tf_bert_model_4/bert/pooler/dense/kernel:0', 'tf_bert_model_4/bert/pooler/dense/bias:0'] when minimizing the loss. If you're using `model.compile()`, did you forget to provide a `loss` argument?\n",
      "WARNING:tensorflow:Gradients do not exist for variables ['tf_bert_model_4/bert/pooler/dense/kernel:0', 'tf_bert_model_4/bert/pooler/dense/bias:0'] when minimizing the loss. If you're using `model.compile()`, did you forget to provide a `loss` argument?\n",
      "WARNING:tensorflow:Gradients do not exist for variables ['tf_bert_model_4/bert/pooler/dense/kernel:0', 'tf_bert_model_4/bert/pooler/dense/bias:0'] when minimizing the loss. If you're using `model.compile()`, did you forget to provide a `loss` argument?\n"
     ]
    },
    {
     "name": "stdout",
     "output_type": "stream",
     "text": [
      "2500/2500 [==============================] - 533s 198ms/step - loss: 0.1829 - accuracy: 0.9315 - val_loss: 0.5563 - val_accuracy: 0.8244\n",
      "Epoch 2/2\n",
      "2500/2500 [==============================] - 479s 192ms/step - loss: 0.1111 - accuracy: 0.9617 - val_loss: 0.5792 - val_accuracy: 0.8170\n"
     ]
    },
    {
     "data": {
      "text/plain": [
       "<keras.src.callbacks.History at 0x7c648b560790>"
      ]
     },
     "execution_count": 61,
     "metadata": {},
     "output_type": "execute_result"
    }
   ],
   "source": [
    "\n",
    "avg_bert_model = create_bert_avg_model(bert_model)\n",
    "\n",
    "# Train the model with average pooling for 2 epochs with batch size 8\n",
    "avg_bert_model.fit(bert_train_inputs, bert_train_labels, epochs=2, batch_size=8, validation_data=(bert_test_inputs, bert_test_labels))\n",
    "\n",
    "\n"
   ]
  },
  {
   "cell_type": "markdown",
   "metadata": {
    "id": "jpVZXfOAt0UC"
   },
   "source": [
    "### 3.4 Adding a CNN on top of BERT\n",
    "\n",
    "We wil combine CNN with BERT"
   ]
  },
  {
   "cell_type": "code",
   "execution_count": 64,
   "metadata": {
    "id": "6IJoPmcHk4UO"
   },
   "outputs": [],
   "source": [
    "def create_bert_cnn_model(bert_cnn_model,\n",
    "                          max_sequence_length=MAX_SEQUENCE_LENGTH,\n",
    "                          num_filters = [131, 127, 51, 23, 17],\n",
    "                          kernel_sizes = [2, 3, 4, 5, 7],\n",
    "                          dropout = 0.3,\n",
    "                          hidden_size = 275, #100\n",
    "                          learning_rate=0.00005):\n",
    "    \"\"\"\n",
    "    Building a  classification model with BERT, where we apply CNN layers to the BERT output\n",
    "    \"\"\"\n",
    "\n",
    "    \n",
    "    from tensorflow.keras.layers import Input, Conv1D, GlobalMaxPooling1D, Dense, Dropout\n",
    "    id_inputs = tf.keras.layers.Input(shape=(max_sequence_length,), dtype=tf.int64, name='layer_id_inputs')\n",
    "    id_tokens = tf.keras.layers.Input(shape=(max_sequence_length,), dtype=tf.int64, name='layer_id_tokens')\n",
    "    attention_mask = tf.keras.layers.Input(shape=(max_sequence_length,), dtype=tf.int64, name='layer_attention_mask')\n",
    "    bert_inputs = {'input_ids': id_inputs, 'token_type_ids': id_tokens, 'attention_mask': attention_mask}\n",
    "\n",
    "    bert_output = bert_cnn_model(bert_inputs)[0]\n",
    "\n",
    "    # CNN layers\n",
    "    conv_outputs = []\n",
    "    for filter_size, kernel_size in zip(num_filters, kernel_sizes):\n",
    "      conv_layer = Conv1D(filters=filter_size, kernel_size=kernel_size, activation='relu')(bert_output)\n",
    "      maxpool_layer = GlobalMaxPooling1D()(conv_layer)\n",
    "      conv_outputs.append(maxpool_layer)\n",
    "\n",
    "    # Concatenate the outputs of different filters\n",
    "    if len(num_filters) > 1:\n",
    "      cnn_output = tf.keras.layers.Concatenate()(conv_outputs)\n",
    "    else:\n",
    "      cnn_output = conv_outputs[0]\n",
    "\n",
    "\n",
    "    dense_layer = Dense(hidden_size, activation='relu')(cnn_output)\n",
    "    dropout_layer = Dropout(dropout)(dense_layer)\n",
    "\n",
    "    output_layer = Dense(1, activation='sigmoid')(dropout_layer)  # binary classification\n",
    "    classification_model = tf.keras.Model(inputs=[id_inputs, id_tokens, attention_mask], outputs=[output_layer])\n",
    "    # Compile the model\n",
    "    classification_model.compile(optimizer=tf.keras.optimizers.Adam(learning_rate=learning_rate),\n",
    "                                 loss='binary_crossentropy',\n",
    "                                 metrics=['accuracy'])\n",
    "\n",
    "\n",
    "\n",
    "\n",
    "\n",
    "\n",
    "\n",
    "\n",
    "    \n",
    "\n",
    "    return classification_model"
   ]
  },
  {
   "cell_type": "markdown",
   "metadata": {
    "id": "1KVHhxxIhkqS"
   },
   "source": [
    "Train this model for 2 epochs as well with mini-batch size of 8:"
   ]
  },
  {
   "cell_type": "code",
   "execution_count": 63,
   "metadata": {
    "colab": {
     "base_uri": "https://localhost:8080/"
    },
    "id": "gobUGAVFk4XG",
    "outputId": "78b98ac3-9223-4010-ad5c-7a697cc5ecf1"
   },
   "outputs": [
    {
     "name": "stdout",
     "output_type": "stream",
     "text": [
      "Epoch 1/2\n"
     ]
    },
    {
     "name": "stderr",
     "output_type": "stream",
     "text": [
      "WARNING:tensorflow:Gradients do not exist for variables ['tf_bert_model_4/bert/pooler/dense/kernel:0', 'tf_bert_model_4/bert/pooler/dense/bias:0'] when minimizing the loss. If you're using `model.compile()`, did you forget to provide a `loss` argument?\n",
      "WARNING:tensorflow:Gradients do not exist for variables ['tf_bert_model_4/bert/pooler/dense/kernel:0', 'tf_bert_model_4/bert/pooler/dense/bias:0'] when minimizing the loss. If you're using `model.compile()`, did you forget to provide a `loss` argument?\n",
      "WARNING:tensorflow:Gradients do not exist for variables ['tf_bert_model_4/bert/pooler/dense/kernel:0', 'tf_bert_model_4/bert/pooler/dense/bias:0'] when minimizing the loss. If you're using `model.compile()`, did you forget to provide a `loss` argument?\n",
      "WARNING:tensorflow:Gradients do not exist for variables ['tf_bert_model_4/bert/pooler/dense/kernel:0', 'tf_bert_model_4/bert/pooler/dense/bias:0'] when minimizing the loss. If you're using `model.compile()`, did you forget to provide a `loss` argument?\n"
     ]
    },
    {
     "name": "stdout",
     "output_type": "stream",
     "text": [
      "2500/2500 [==============================] - 540s 202ms/step - loss: 0.0956 - accuracy: 0.9682 - val_loss: 0.6453 - val_accuracy: 0.8144\n",
      "Epoch 2/2\n",
      "2500/2500 [==============================] - 490s 196ms/step - loss: 0.0606 - accuracy: 0.9799 - val_loss: 0.7105 - val_accuracy: 0.8008\n"
     ]
    },
    {
     "data": {
      "text/plain": [
       "<keras.src.callbacks.History at 0x7c68f97bd990>"
      ]
     },
     "execution_count": 63,
     "metadata": {},
     "output_type": "execute_result"
    }
   ],
   "source": [
    "\n",
    "cnn_bert_model = create_bert_cnn_model(bert_model)\n",
    "\n",
    "# Train the model with average pooling for 2 epochs with batch size 8\n",
    "cnn_bert_model.fit(bert_train_inputs, bert_train_labels, epochs=2, batch_size=8, validation_data=(bert_test_inputs, bert_test_labels))\n",
    "\n",
    "\n",
    "\n"
   ]
  }
 ],
 "metadata": {
  "accelerator": "GPU",
  "colab": {
   "provenance": []
  },
  "gpuClass": "standard",
  "kernelspec": {
   "display_name": "Python 3 (ipykernel)",
   "language": "python",
   "name": "python3"
  },
  "language_info": {
   "codemirror_mode": {
    "name": "ipython",
    "version": 3
   },
   "file_extension": ".py",
   "mimetype": "text/x-python",
   "name": "python",
   "nbconvert_exporter": "python",
   "pygments_lexer": "ipython3",
   "version": "3.11.8"
  },
  "widgets": {
   "application/vnd.jupyter.widget-state+json": {
    "02055b3c101a4db0872560c08ef545ee": {
     "model_module": "@jupyter-widgets/controls",
     "model_module_version": "1.5.0",
     "model_name": "DescriptionStyleModel",
     "state": {
      "_model_module": "@jupyter-widgets/controls",
      "_model_module_version": "1.5.0",
      "_model_name": "DescriptionStyleModel",
      "_view_count": null,
      "_view_module": "@jupyter-widgets/base",
      "_view_module_version": "1.2.0",
      "_view_name": "StyleView",
      "description_width": ""
     }
    },
    "0b5103678eac45db94ad00577c07aa7e": {
     "model_module": "@jupyter-widgets/controls",
     "model_module_version": "1.5.0",
     "model_name": "HTMLModel",
     "state": {
      "_dom_classes": [],
      "_model_module": "@jupyter-widgets/controls",
      "_model_module_version": "1.5.0",
      "_model_name": "HTMLModel",
      "_view_count": null,
      "_view_module": "@jupyter-widgets/controls",
      "_view_module_version": "1.5.0",
      "_view_name": "HTMLView",
      "description": "",
      "description_tooltip": null,
      "layout": "IPY_MODEL_2941499115464c20af5700c42c04c2d6",
      "placeholder": "​",
      "style": "IPY_MODEL_0b86a6abd3e5468ea67ea4ac3a24f2d9",
      "value": " 17503/25000 [00:00&lt;00:00, 96624.69 examples/s]"
     }
    },
    "0b86a6abd3e5468ea67ea4ac3a24f2d9": {
     "model_module": "@jupyter-widgets/controls",
     "model_module_version": "1.5.0",
     "model_name": "DescriptionStyleModel",
     "state": {
      "_model_module": "@jupyter-widgets/controls",
      "_model_module_version": "1.5.0",
      "_model_name": "DescriptionStyleModel",
      "_view_count": null,
      "_view_module": "@jupyter-widgets/base",
      "_view_module_version": "1.2.0",
      "_view_name": "StyleView",
      "description_width": ""
     }
    },
    "0c39a0c0aea14a7c943d68246adf7a13": {
     "model_module": "@jupyter-widgets/base",
     "model_module_version": "1.2.0",
     "model_name": "LayoutModel",
     "state": {
      "_model_module": "@jupyter-widgets/base",
      "_model_module_version": "1.2.0",
      "_model_name": "LayoutModel",
      "_view_count": null,
      "_view_module": "@jupyter-widgets/base",
      "_view_module_version": "1.2.0",
      "_view_name": "LayoutView",
      "align_content": null,
      "align_items": null,
      "align_self": null,
      "border": null,
      "bottom": null,
      "display": null,
      "flex": null,
      "flex_flow": null,
      "grid_area": null,
      "grid_auto_columns": null,
      "grid_auto_flow": null,
      "grid_auto_rows": null,
      "grid_column": null,
      "grid_gap": null,
      "grid_row": null,
      "grid_template_areas": null,
      "grid_template_columns": null,
      "grid_template_rows": null,
      "height": null,
      "justify_content": null,
      "justify_items": null,
      "left": null,
      "margin": null,
      "max_height": null,
      "max_width": null,
      "min_height": null,
      "min_width": null,
      "object_fit": null,
      "object_position": null,
      "order": null,
      "overflow": null,
      "overflow_x": null,
      "overflow_y": null,
      "padding": null,
      "right": null,
      "top": null,
      "visibility": null,
      "width": null
     }
    },
    "1002b00a335d46308390329981215d97": {
     "model_module": "@jupyter-widgets/controls",
     "model_module_version": "1.5.0",
     "model_name": "ProgressStyleModel",
     "state": {
      "_model_module": "@jupyter-widgets/controls",
      "_model_module_version": "1.5.0",
      "_model_name": "ProgressStyleModel",
      "_view_count": null,
      "_view_module": "@jupyter-widgets/base",
      "_view_module_version": "1.2.0",
      "_view_name": "StyleView",
      "bar_color": null,
      "description_width": ""
     }
    },
    "131969951bf845c5927271468ec448cc": {
     "model_module": "@jupyter-widgets/base",
     "model_module_version": "1.2.0",
     "model_name": "LayoutModel",
     "state": {
      "_model_module": "@jupyter-widgets/base",
      "_model_module_version": "1.2.0",
      "_model_name": "LayoutModel",
      "_view_count": null,
      "_view_module": "@jupyter-widgets/base",
      "_view_module_version": "1.2.0",
      "_view_name": "LayoutView",
      "align_content": null,
      "align_items": null,
      "align_self": null,
      "border": null,
      "bottom": null,
      "display": null,
      "flex": null,
      "flex_flow": null,
      "grid_area": null,
      "grid_auto_columns": null,
      "grid_auto_flow": null,
      "grid_auto_rows": null,
      "grid_column": null,
      "grid_gap": null,
      "grid_row": null,
      "grid_template_areas": null,
      "grid_template_columns": null,
      "grid_template_rows": null,
      "height": null,
      "justify_content": null,
      "justify_items": null,
      "left": null,
      "margin": null,
      "max_height": null,
      "max_width": null,
      "min_height": null,
      "min_width": null,
      "object_fit": null,
      "object_position": null,
      "order": null,
      "overflow": null,
      "overflow_x": null,
      "overflow_y": null,
      "padding": null,
      "right": null,
      "top": null,
      "visibility": null,
      "width": null
     }
    },
    "132f5a00caa64ce48fb8f8d90609fa13": {
     "model_module": "@jupyter-widgets/base",
     "model_module_version": "1.2.0",
     "model_name": "LayoutModel",
     "state": {
      "_model_module": "@jupyter-widgets/base",
      "_model_module_version": "1.2.0",
      "_model_name": "LayoutModel",
      "_view_count": null,
      "_view_module": "@jupyter-widgets/base",
      "_view_module_version": "1.2.0",
      "_view_name": "LayoutView",
      "align_content": null,
      "align_items": null,
      "align_self": null,
      "border": null,
      "bottom": null,
      "display": null,
      "flex": null,
      "flex_flow": null,
      "grid_area": null,
      "grid_auto_columns": null,
      "grid_auto_flow": null,
      "grid_auto_rows": null,
      "grid_column": null,
      "grid_gap": null,
      "grid_row": null,
      "grid_template_areas": null,
      "grid_template_columns": null,
      "grid_template_rows": null,
      "height": null,
      "justify_content": null,
      "justify_items": null,
      "left": null,
      "margin": null,
      "max_height": null,
      "max_width": null,
      "min_height": null,
      "min_width": null,
      "object_fit": null,
      "object_position": null,
      "order": null,
      "overflow": null,
      "overflow_x": null,
      "overflow_y": null,
      "padding": null,
      "right": null,
      "top": null,
      "visibility": null,
      "width": null
     }
    },
    "1761ff9b41b34a729bcf76b46dbabf70": {
     "model_module": "@jupyter-widgets/base",
     "model_module_version": "1.2.0",
     "model_name": "LayoutModel",
     "state": {
      "_model_module": "@jupyter-widgets/base",
      "_model_module_version": "1.2.0",
      "_model_name": "LayoutModel",
      "_view_count": null,
      "_view_module": "@jupyter-widgets/base",
      "_view_module_version": "1.2.0",
      "_view_name": "LayoutView",
      "align_content": null,
      "align_items": null,
      "align_self": null,
      "border": null,
      "bottom": null,
      "display": null,
      "flex": null,
      "flex_flow": null,
      "grid_area": null,
      "grid_auto_columns": null,
      "grid_auto_flow": null,
      "grid_auto_rows": null,
      "grid_column": null,
      "grid_gap": null,
      "grid_row": null,
      "grid_template_areas": null,
      "grid_template_columns": null,
      "grid_template_rows": null,
      "height": null,
      "justify_content": null,
      "justify_items": null,
      "left": null,
      "margin": null,
      "max_height": null,
      "max_width": null,
      "min_height": null,
      "min_width": null,
      "object_fit": null,
      "object_position": null,
      "order": null,
      "overflow": null,
      "overflow_x": null,
      "overflow_y": null,
      "padding": null,
      "right": null,
      "top": null,
      "visibility": null,
      "width": "20px"
     }
    },
    "1b0e6d5066fd4e5f90d9d41a6795882e": {
     "model_module": "@jupyter-widgets/controls",
     "model_module_version": "1.5.0",
     "model_name": "ProgressStyleModel",
     "state": {
      "_model_module": "@jupyter-widgets/controls",
      "_model_module_version": "1.5.0",
      "_model_name": "ProgressStyleModel",
      "_view_count": null,
      "_view_module": "@jupyter-widgets/base",
      "_view_module_version": "1.2.0",
      "_view_name": "StyleView",
      "bar_color": null,
      "description_width": ""
     }
    },
    "232dd8ad95954fc1bd01dceb80dd0534": {
     "model_module": "@jupyter-widgets/controls",
     "model_module_version": "1.5.0",
     "model_name": "HTMLModel",
     "state": {
      "_dom_classes": [],
      "_model_module": "@jupyter-widgets/controls",
      "_model_module_version": "1.5.0",
      "_model_name": "HTMLModel",
      "_view_count": null,
      "_view_module": "@jupyter-widgets/controls",
      "_view_module_version": "1.5.0",
      "_view_name": "HTMLView",
      "description": "",
      "description_tooltip": null,
      "layout": "IPY_MODEL_8137df50f6224048aa10af15dc22b7d1",
      "placeholder": "​",
      "style": "IPY_MODEL_4e1f99afe683487080bd4361efc2eaa8",
      "value": "Shuffling /root/tensorflow_datasets/imdb_reviews/plain_text/1.0.0.incomplete65AASE/imdb_reviews-train.tfrecord*...:  49%"
     }
    },
    "233c6da7bcb7404799380832e1f33b83": {
     "model_module": "@jupyter-widgets/controls",
     "model_module_version": "1.5.0",
     "model_name": "HBoxModel",
     "state": {
      "_dom_classes": [],
      "_model_module": "@jupyter-widgets/controls",
      "_model_module_version": "1.5.0",
      "_model_name": "HBoxModel",
      "_view_count": null,
      "_view_module": "@jupyter-widgets/controls",
      "_view_module_version": "1.5.0",
      "_view_name": "HBoxView",
      "box_style": "",
      "children": [
       "IPY_MODEL_d65246c568a2479598e35bcf95b4eca0",
       "IPY_MODEL_b331bc44c21c41b9b48d299c3db0089e",
       "IPY_MODEL_a1fa70957a5b4f6d9c99dd2b2e437e8d"
      ],
      "layout": "IPY_MODEL_606ef1c33bb84726bd7597fd4e400568"
     }
    },
    "2510871cfb2844ec8550234c796b8ef3": {
     "model_module": "@jupyter-widgets/controls",
     "model_module_version": "1.5.0",
     "model_name": "HTMLModel",
     "state": {
      "_dom_classes": [],
      "_model_module": "@jupyter-widgets/controls",
      "_model_module_version": "1.5.0",
      "_model_name": "HTMLModel",
      "_view_count": null,
      "_view_module": "@jupyter-widgets/controls",
      "_view_module_version": "1.5.0",
      "_view_name": "HTMLView",
      "description": "",
      "description_tooltip": null,
      "layout": "IPY_MODEL_3e7f6a93b64f4351ac8f179f6c72fc22",
      "placeholder": "​",
      "style": "IPY_MODEL_5a92cad380b44cf4a58cd4ac2ece1df4",
      "value": " 1/1 [00:04&lt;00:00,  4.85s/ url]"
     }
    },
    "252743253c8a496fb86ad3df2a4c6073": {
     "model_module": "@jupyter-widgets/controls",
     "model_module_version": "1.5.0",
     "model_name": "HBoxModel",
     "state": {
      "_dom_classes": [],
      "_model_module": "@jupyter-widgets/controls",
      "_model_module_version": "1.5.0",
      "_model_name": "HBoxModel",
      "_view_count": null,
      "_view_module": "@jupyter-widgets/controls",
      "_view_module_version": "1.5.0",
      "_view_name": "HBoxView",
      "box_style": "",
      "children": [
       "IPY_MODEL_f54da34db78d444db2d0a79edbc02b25",
       "IPY_MODEL_fc8d6f9bfe784c6b8c74b44f72867816",
       "IPY_MODEL_0b5103678eac45db94ad00577c07aa7e"
      ],
      "layout": "IPY_MODEL_4cc3948a95c149cc8cc8c4bcb6f893f0"
     }
    },
    "264747eaa04c4087a3efaa9feba4cd9e": {
     "model_module": "@jupyter-widgets/controls",
     "model_module_version": "1.5.0",
     "model_name": "FloatProgressModel",
     "state": {
      "_dom_classes": [],
      "_model_module": "@jupyter-widgets/controls",
      "_model_module_version": "1.5.0",
      "_model_name": "FloatProgressModel",
      "_view_count": null,
      "_view_module": "@jupyter-widgets/controls",
      "_view_module_version": "1.5.0",
      "_view_name": "ProgressView",
      "bar_style": "",
      "description": "",
      "description_tooltip": null,
      "layout": "IPY_MODEL_e384600dbc8e4f9ca29ef9283c016a24",
      "max": 25000,
      "min": 0,
      "orientation": "horizontal",
      "style": "IPY_MODEL_3719c2d1c3224bddacb549f23b370425",
      "value": 25000
     }
    },
    "2830205dc4cf4551b3d5204b02b42557": {
     "model_module": "@jupyter-widgets/base",
     "model_module_version": "1.2.0",
     "model_name": "LayoutModel",
     "state": {
      "_model_module": "@jupyter-widgets/base",
      "_model_module_version": "1.2.0",
      "_model_name": "LayoutModel",
      "_view_count": null,
      "_view_module": "@jupyter-widgets/base",
      "_view_module_version": "1.2.0",
      "_view_name": "LayoutView",
      "align_content": null,
      "align_items": null,
      "align_self": null,
      "border": null,
      "bottom": null,
      "display": null,
      "flex": null,
      "flex_flow": null,
      "grid_area": null,
      "grid_auto_columns": null,
      "grid_auto_flow": null,
      "grid_auto_rows": null,
      "grid_column": null,
      "grid_gap": null,
      "grid_row": null,
      "grid_template_areas": null,
      "grid_template_columns": null,
      "grid_template_rows": null,
      "height": null,
      "justify_content": null,
      "justify_items": null,
      "left": null,
      "margin": null,
      "max_height": null,
      "max_width": null,
      "min_height": null,
      "min_width": null,
      "object_fit": null,
      "object_position": null,
      "order": null,
      "overflow": null,
      "overflow_x": null,
      "overflow_y": null,
      "padding": null,
      "right": null,
      "top": null,
      "visibility": "hidden",
      "width": null
     }
    },
    "28b5a257ac1544e7a1a01e41c7ebd478": {
     "model_module": "@jupyter-widgets/controls",
     "model_module_version": "1.5.0",
     "model_name": "DescriptionStyleModel",
     "state": {
      "_model_module": "@jupyter-widgets/controls",
      "_model_module_version": "1.5.0",
      "_model_name": "DescriptionStyleModel",
      "_view_count": null,
      "_view_module": "@jupyter-widgets/base",
      "_view_module_version": "1.2.0",
      "_view_name": "StyleView",
      "description_width": ""
     }
    },
    "2941499115464c20af5700c42c04c2d6": {
     "model_module": "@jupyter-widgets/base",
     "model_module_version": "1.2.0",
     "model_name": "LayoutModel",
     "state": {
      "_model_module": "@jupyter-widgets/base",
      "_model_module_version": "1.2.0",
      "_model_name": "LayoutModel",
      "_view_count": null,
      "_view_module": "@jupyter-widgets/base",
      "_view_module_version": "1.2.0",
      "_view_name": "LayoutView",
      "align_content": null,
      "align_items": null,
      "align_self": null,
      "border": null,
      "bottom": null,
      "display": null,
      "flex": null,
      "flex_flow": null,
      "grid_area": null,
      "grid_auto_columns": null,
      "grid_auto_flow": null,
      "grid_auto_rows": null,
      "grid_column": null,
      "grid_gap": null,
      "grid_row": null,
      "grid_template_areas": null,
      "grid_template_columns": null,
      "grid_template_rows": null,
      "height": null,
      "justify_content": null,
      "justify_items": null,
      "left": null,
      "margin": null,
      "max_height": null,
      "max_width": null,
      "min_height": null,
      "min_width": null,
      "object_fit": null,
      "object_position": null,
      "order": null,
      "overflow": null,
      "overflow_x": null,
      "overflow_y": null,
      "padding": null,
      "right": null,
      "top": null,
      "visibility": null,
      "width": null
     }
    },
    "3081754e183f41428ec930f3efd7243e": {
     "model_module": "@jupyter-widgets/base",
     "model_module_version": "1.2.0",
     "model_name": "LayoutModel",
     "state": {
      "_model_module": "@jupyter-widgets/base",
      "_model_module_version": "1.2.0",
      "_model_name": "LayoutModel",
      "_view_count": null,
      "_view_module": "@jupyter-widgets/base",
      "_view_module_version": "1.2.0",
      "_view_name": "LayoutView",
      "align_content": null,
      "align_items": null,
      "align_self": null,
      "border": null,
      "bottom": null,
      "display": null,
      "flex": null,
      "flex_flow": null,
      "grid_area": null,
      "grid_auto_columns": null,
      "grid_auto_flow": null,
      "grid_auto_rows": null,
      "grid_column": null,
      "grid_gap": null,
      "grid_row": null,
      "grid_template_areas": null,
      "grid_template_columns": null,
      "grid_template_rows": null,
      "height": null,
      "justify_content": null,
      "justify_items": null,
      "left": null,
      "margin": null,
      "max_height": null,
      "max_width": null,
      "min_height": null,
      "min_width": null,
      "object_fit": null,
      "object_position": null,
      "order": null,
      "overflow": null,
      "overflow_x": null,
      "overflow_y": null,
      "padding": null,
      "right": null,
      "top": null,
      "visibility": null,
      "width": null
     }
    },
    "30ec6c35d844425787767ac79fb72ffd": {
     "model_module": "@jupyter-widgets/controls",
     "model_module_version": "1.5.0",
     "model_name": "DescriptionStyleModel",
     "state": {
      "_model_module": "@jupyter-widgets/controls",
      "_model_module_version": "1.5.0",
      "_model_name": "DescriptionStyleModel",
      "_view_count": null,
      "_view_module": "@jupyter-widgets/base",
      "_view_module_version": "1.2.0",
      "_view_name": "StyleView",
      "description_width": ""
     }
    },
    "31537a6bef14460084f116b9e29f3be9": {
     "model_module": "@jupyter-widgets/base",
     "model_module_version": "1.2.0",
     "model_name": "LayoutModel",
     "state": {
      "_model_module": "@jupyter-widgets/base",
      "_model_module_version": "1.2.0",
      "_model_name": "LayoutModel",
      "_view_count": null,
      "_view_module": "@jupyter-widgets/base",
      "_view_module_version": "1.2.0",
      "_view_name": "LayoutView",
      "align_content": null,
      "align_items": null,
      "align_self": null,
      "border": null,
      "bottom": null,
      "display": null,
      "flex": null,
      "flex_flow": null,
      "grid_area": null,
      "grid_auto_columns": null,
      "grid_auto_flow": null,
      "grid_auto_rows": null,
      "grid_column": null,
      "grid_gap": null,
      "grid_row": null,
      "grid_template_areas": null,
      "grid_template_columns": null,
      "grid_template_rows": null,
      "height": null,
      "justify_content": null,
      "justify_items": null,
      "left": null,
      "margin": null,
      "max_height": null,
      "max_width": null,
      "min_height": null,
      "min_width": null,
      "object_fit": null,
      "object_position": null,
      "order": null,
      "overflow": null,
      "overflow_x": null,
      "overflow_y": null,
      "padding": null,
      "right": null,
      "top": null,
      "visibility": null,
      "width": null
     }
    },
    "3719c2d1c3224bddacb549f23b370425": {
     "model_module": "@jupyter-widgets/controls",
     "model_module_version": "1.5.0",
     "model_name": "ProgressStyleModel",
     "state": {
      "_model_module": "@jupyter-widgets/controls",
      "_model_module_version": "1.5.0",
      "_model_name": "ProgressStyleModel",
      "_view_count": null,
      "_view_module": "@jupyter-widgets/base",
      "_view_module_version": "1.2.0",
      "_view_name": "StyleView",
      "bar_color": null,
      "description_width": ""
     }
    },
    "3e7f6a93b64f4351ac8f179f6c72fc22": {
     "model_module": "@jupyter-widgets/base",
     "model_module_version": "1.2.0",
     "model_name": "LayoutModel",
     "state": {
      "_model_module": "@jupyter-widgets/base",
      "_model_module_version": "1.2.0",
      "_model_name": "LayoutModel",
      "_view_count": null,
      "_view_module": "@jupyter-widgets/base",
      "_view_module_version": "1.2.0",
      "_view_name": "LayoutView",
      "align_content": null,
      "align_items": null,
      "align_self": null,
      "border": null,
      "bottom": null,
      "display": null,
      "flex": null,
      "flex_flow": null,
      "grid_area": null,
      "grid_auto_columns": null,
      "grid_auto_flow": null,
      "grid_auto_rows": null,
      "grid_column": null,
      "grid_gap": null,
      "grid_row": null,
      "grid_template_areas": null,
      "grid_template_columns": null,
      "grid_template_rows": null,
      "height": null,
      "justify_content": null,
      "justify_items": null,
      "left": null,
      "margin": null,
      "max_height": null,
      "max_width": null,
      "min_height": null,
      "min_width": null,
      "object_fit": null,
      "object_position": null,
      "order": null,
      "overflow": null,
      "overflow_x": null,
      "overflow_y": null,
      "padding": null,
      "right": null,
      "top": null,
      "visibility": null,
      "width": null
     }
    },
    "3f6371c149bc4258ba7a1d188e953983": {
     "model_module": "@jupyter-widgets/base",
     "model_module_version": "1.2.0",
     "model_name": "LayoutModel",
     "state": {
      "_model_module": "@jupyter-widgets/base",
      "_model_module_version": "1.2.0",
      "_model_name": "LayoutModel",
      "_view_count": null,
      "_view_module": "@jupyter-widgets/base",
      "_view_module_version": "1.2.0",
      "_view_name": "LayoutView",
      "align_content": null,
      "align_items": null,
      "align_self": null,
      "border": null,
      "bottom": null,
      "display": null,
      "flex": null,
      "flex_flow": null,
      "grid_area": null,
      "grid_auto_columns": null,
      "grid_auto_flow": null,
      "grid_auto_rows": null,
      "grid_column": null,
      "grid_gap": null,
      "grid_row": null,
      "grid_template_areas": null,
      "grid_template_columns": null,
      "grid_template_rows": null,
      "height": null,
      "justify_content": null,
      "justify_items": null,
      "left": null,
      "margin": null,
      "max_height": null,
      "max_width": null,
      "min_height": null,
      "min_width": null,
      "object_fit": null,
      "object_position": null,
      "order": null,
      "overflow": null,
      "overflow_x": null,
      "overflow_y": null,
      "padding": null,
      "right": null,
      "top": null,
      "visibility": "hidden",
      "width": null
     }
    },
    "4a5caa6d03e84fd9b52188154c7e0c95": {
     "model_module": "@jupyter-widgets/controls",
     "model_module_version": "1.5.0",
     "model_name": "DescriptionStyleModel",
     "state": {
      "_model_module": "@jupyter-widgets/controls",
      "_model_module_version": "1.5.0",
      "_model_name": "DescriptionStyleModel",
      "_view_count": null,
      "_view_module": "@jupyter-widgets/base",
      "_view_module_version": "1.2.0",
      "_view_name": "StyleView",
      "description_width": ""
     }
    },
    "4a703d794a1a458fb1fe35ab8fd5c665": {
     "model_module": "@jupyter-widgets/controls",
     "model_module_version": "1.5.0",
     "model_name": "HTMLModel",
     "state": {
      "_dom_classes": [],
      "_model_module": "@jupyter-widgets/controls",
      "_model_module_version": "1.5.0",
      "_model_name": "HTMLModel",
      "_view_count": null,
      "_view_module": "@jupyter-widgets/controls",
      "_view_module_version": "1.5.0",
      "_view_name": "HTMLView",
      "description": "",
      "description_tooltip": null,
      "layout": "IPY_MODEL_e53465f8a1594b218b14cd2e2aa2f023",
      "placeholder": "​",
      "style": "IPY_MODEL_6f7f63cba52c46eb88be6e93a244301e",
      "value": " 46757/50000 [00:16&lt;00:00, 4625.78 examples/s]"
     }
    },
    "4b365ed85a76457a90787e5948fcd31b": {
     "model_module": "@jupyter-widgets/controls",
     "model_module_version": "1.5.0",
     "model_name": "FloatProgressModel",
     "state": {
      "_dom_classes": [],
      "_model_module": "@jupyter-widgets/controls",
      "_model_module_version": "1.5.0",
      "_model_name": "FloatProgressModel",
      "_view_count": null,
      "_view_module": "@jupyter-widgets/controls",
      "_view_module_version": "1.5.0",
      "_view_name": "ProgressView",
      "bar_style": "success",
      "description": "",
      "description_tooltip": null,
      "layout": "IPY_MODEL_ce0283ad7ef84334b3ea1eaf1ddfa32a",
      "max": 1,
      "min": 0,
      "orientation": "horizontal",
      "style": "IPY_MODEL_1b0e6d5066fd4e5f90d9d41a6795882e",
      "value": 1
     }
    },
    "4cc3948a95c149cc8cc8c4bcb6f893f0": {
     "model_module": "@jupyter-widgets/base",
     "model_module_version": "1.2.0",
     "model_name": "LayoutModel",
     "state": {
      "_model_module": "@jupyter-widgets/base",
      "_model_module_version": "1.2.0",
      "_model_name": "LayoutModel",
      "_view_count": null,
      "_view_module": "@jupyter-widgets/base",
      "_view_module_version": "1.2.0",
      "_view_name": "LayoutView",
      "align_content": null,
      "align_items": null,
      "align_self": null,
      "border": null,
      "bottom": null,
      "display": null,
      "flex": null,
      "flex_flow": null,
      "grid_area": null,
      "grid_auto_columns": null,
      "grid_auto_flow": null,
      "grid_auto_rows": null,
      "grid_column": null,
      "grid_gap": null,
      "grid_row": null,
      "grid_template_areas": null,
      "grid_template_columns": null,
      "grid_template_rows": null,
      "height": null,
      "justify_content": null,
      "justify_items": null,
      "left": null,
      "margin": null,
      "max_height": null,
      "max_width": null,
      "min_height": null,
      "min_width": null,
      "object_fit": null,
      "object_position": null,
      "order": null,
      "overflow": null,
      "overflow_x": null,
      "overflow_y": null,
      "padding": null,
      "right": null,
      "top": null,
      "visibility": "hidden",
      "width": null
     }
    },
    "4e1f99afe683487080bd4361efc2eaa8": {
     "model_module": "@jupyter-widgets/controls",
     "model_module_version": "1.5.0",
     "model_name": "DescriptionStyleModel",
     "state": {
      "_model_module": "@jupyter-widgets/controls",
      "_model_module_version": "1.5.0",
      "_model_name": "DescriptionStyleModel",
      "_view_count": null,
      "_view_module": "@jupyter-widgets/base",
      "_view_module_version": "1.2.0",
      "_view_name": "StyleView",
      "description_width": ""
     }
    },
    "4e3c486b6c9146d5b01419ee87b30f20": {
     "model_module": "@jupyter-widgets/base",
     "model_module_version": "1.2.0",
     "model_name": "LayoutModel",
     "state": {
      "_model_module": "@jupyter-widgets/base",
      "_model_module_version": "1.2.0",
      "_model_name": "LayoutModel",
      "_view_count": null,
      "_view_module": "@jupyter-widgets/base",
      "_view_module_version": "1.2.0",
      "_view_name": "LayoutView",
      "align_content": null,
      "align_items": null,
      "align_self": null,
      "border": null,
      "bottom": null,
      "display": null,
      "flex": null,
      "flex_flow": null,
      "grid_area": null,
      "grid_auto_columns": null,
      "grid_auto_flow": null,
      "grid_auto_rows": null,
      "grid_column": null,
      "grid_gap": null,
      "grid_row": null,
      "grid_template_areas": null,
      "grid_template_columns": null,
      "grid_template_rows": null,
      "height": null,
      "justify_content": null,
      "justify_items": null,
      "left": null,
      "margin": null,
      "max_height": null,
      "max_width": null,
      "min_height": null,
      "min_width": null,
      "object_fit": null,
      "object_position": null,
      "order": null,
      "overflow": null,
      "overflow_x": null,
      "overflow_y": null,
      "padding": null,
      "right": null,
      "top": null,
      "visibility": null,
      "width": null
     }
    },
    "4e9ef16607c04da9a5c7973e53d77c96": {
     "model_module": "@jupyter-widgets/controls",
     "model_module_version": "1.5.0",
     "model_name": "ProgressStyleModel",
     "state": {
      "_model_module": "@jupyter-widgets/controls",
      "_model_module_version": "1.5.0",
      "_model_name": "ProgressStyleModel",
      "_view_count": null,
      "_view_module": "@jupyter-widgets/base",
      "_view_module_version": "1.2.0",
      "_view_name": "StyleView",
      "bar_color": null,
      "description_width": ""
     }
    },
    "5025e3bbb70343ca88eb2c8e95fc9706": {
     "model_module": "@jupyter-widgets/base",
     "model_module_version": "1.2.0",
     "model_name": "LayoutModel",
     "state": {
      "_model_module": "@jupyter-widgets/base",
      "_model_module_version": "1.2.0",
      "_model_name": "LayoutModel",
      "_view_count": null,
      "_view_module": "@jupyter-widgets/base",
      "_view_module_version": "1.2.0",
      "_view_name": "LayoutView",
      "align_content": null,
      "align_items": null,
      "align_self": null,
      "border": null,
      "bottom": null,
      "display": null,
      "flex": null,
      "flex_flow": null,
      "grid_area": null,
      "grid_auto_columns": null,
      "grid_auto_flow": null,
      "grid_auto_rows": null,
      "grid_column": null,
      "grid_gap": null,
      "grid_row": null,
      "grid_template_areas": null,
      "grid_template_columns": null,
      "grid_template_rows": null,
      "height": null,
      "justify_content": null,
      "justify_items": null,
      "left": null,
      "margin": null,
      "max_height": null,
      "max_width": null,
      "min_height": null,
      "min_width": null,
      "object_fit": null,
      "object_position": null,
      "order": null,
      "overflow": null,
      "overflow_x": null,
      "overflow_y": null,
      "padding": null,
      "right": null,
      "top": null,
      "visibility": null,
      "width": null
     }
    },
    "507057c5089d4c47b73999ceea7fe64c": {
     "model_module": "@jupyter-widgets/base",
     "model_module_version": "1.2.0",
     "model_name": "LayoutModel",
     "state": {
      "_model_module": "@jupyter-widgets/base",
      "_model_module_version": "1.2.0",
      "_model_name": "LayoutModel",
      "_view_count": null,
      "_view_module": "@jupyter-widgets/base",
      "_view_module_version": "1.2.0",
      "_view_name": "LayoutView",
      "align_content": null,
      "align_items": null,
      "align_self": null,
      "border": null,
      "bottom": null,
      "display": null,
      "flex": null,
      "flex_flow": null,
      "grid_area": null,
      "grid_auto_columns": null,
      "grid_auto_flow": null,
      "grid_auto_rows": null,
      "grid_column": null,
      "grid_gap": null,
      "grid_row": null,
      "grid_template_areas": null,
      "grid_template_columns": null,
      "grid_template_rows": null,
      "height": null,
      "justify_content": null,
      "justify_items": null,
      "left": null,
      "margin": null,
      "max_height": null,
      "max_width": null,
      "min_height": null,
      "min_width": null,
      "object_fit": null,
      "object_position": null,
      "order": null,
      "overflow": null,
      "overflow_x": null,
      "overflow_y": null,
      "padding": null,
      "right": null,
      "top": null,
      "visibility": null,
      "width": null
     }
    },
    "512f86554cbd421e8d0df82178c16ad9": {
     "model_module": "@jupyter-widgets/controls",
     "model_module_version": "1.5.0",
     "model_name": "ProgressStyleModel",
     "state": {
      "_model_module": "@jupyter-widgets/controls",
      "_model_module_version": "1.5.0",
      "_model_name": "ProgressStyleModel",
      "_view_count": null,
      "_view_module": "@jupyter-widgets/base",
      "_view_module_version": "1.2.0",
      "_view_name": "StyleView",
      "bar_color": null,
      "description_width": ""
     }
    },
    "531464f5594146afb87328ddabd0b2c6": {
     "model_module": "@jupyter-widgets/controls",
     "model_module_version": "1.5.0",
     "model_name": "DescriptionStyleModel",
     "state": {
      "_model_module": "@jupyter-widgets/controls",
      "_model_module_version": "1.5.0",
      "_model_name": "DescriptionStyleModel",
      "_view_count": null,
      "_view_module": "@jupyter-widgets/base",
      "_view_module_version": "1.2.0",
      "_view_name": "StyleView",
      "description_width": ""
     }
    },
    "533e830eb6ba4371a83bf50c8277f344": {
     "model_module": "@jupyter-widgets/controls",
     "model_module_version": "1.5.0",
     "model_name": "HTMLModel",
     "state": {
      "_dom_classes": [],
      "_model_module": "@jupyter-widgets/controls",
      "_model_module_version": "1.5.0",
      "_model_name": "HTMLModel",
      "_view_count": null,
      "_view_module": "@jupyter-widgets/controls",
      "_view_module_version": "1.5.0",
      "_view_name": "HTMLView",
      "description": "",
      "description_tooltip": null,
      "layout": "IPY_MODEL_3081754e183f41428ec930f3efd7243e",
      "placeholder": "​",
      "style": "IPY_MODEL_658ac585dec4471d971b55c555f6c78a",
      "value": "Generating test examples...:  99%"
     }
    },
    "561420fa19c346a7a20100461139b9eb": {
     "model_module": "@jupyter-widgets/controls",
     "model_module_version": "1.5.0",
     "model_name": "HBoxModel",
     "state": {
      "_dom_classes": [],
      "_model_module": "@jupyter-widgets/controls",
      "_model_module_version": "1.5.0",
      "_model_name": "HBoxModel",
      "_view_count": null,
      "_view_module": "@jupyter-widgets/controls",
      "_view_module_version": "1.5.0",
      "_view_name": "HBoxView",
      "box_style": "",
      "children": [
       "IPY_MODEL_232dd8ad95954fc1bd01dceb80dd0534",
       "IPY_MODEL_264747eaa04c4087a3efaa9feba4cd9e",
       "IPY_MODEL_6ace22f7caa04305be57e06108b8441a"
      ],
      "layout": "IPY_MODEL_9ab52ece3fd94046a18778480128abbb"
     }
    },
    "5626ee5a5d1248b2ac7d33fb413377ce": {
     "model_module": "@jupyter-widgets/controls",
     "model_module_version": "1.5.0",
     "model_name": "HTMLModel",
     "state": {
      "_dom_classes": [],
      "_model_module": "@jupyter-widgets/controls",
      "_model_module_version": "1.5.0",
      "_model_name": "HTMLModel",
      "_view_count": null,
      "_view_module": "@jupyter-widgets/controls",
      "_view_module_version": "1.5.0",
      "_view_name": "HTMLView",
      "description": "",
      "description_tooltip": null,
      "layout": "IPY_MODEL_5025e3bbb70343ca88eb2c8e95fc9706",
      "placeholder": "​",
      "style": "IPY_MODEL_02055b3c101a4db0872560c08ef545ee",
      "value": "Shuffling /root/tensorflow_datasets/imdb_reviews/plain_text/1.0.0.incomplete65AASE/imdb_reviews-unsupervised.tfrecord*...:  69%"
     }
    },
    "5a92cad380b44cf4a58cd4ac2ece1df4": {
     "model_module": "@jupyter-widgets/controls",
     "model_module_version": "1.5.0",
     "model_name": "DescriptionStyleModel",
     "state": {
      "_model_module": "@jupyter-widgets/controls",
      "_model_module_version": "1.5.0",
      "_model_name": "DescriptionStyleModel",
      "_view_count": null,
      "_view_module": "@jupyter-widgets/base",
      "_view_module_version": "1.2.0",
      "_view_name": "StyleView",
      "description_width": ""
     }
    },
    "606ef1c33bb84726bd7597fd4e400568": {
     "model_module": "@jupyter-widgets/base",
     "model_module_version": "1.2.0",
     "model_name": "LayoutModel",
     "state": {
      "_model_module": "@jupyter-widgets/base",
      "_model_module_version": "1.2.0",
      "_model_name": "LayoutModel",
      "_view_count": null,
      "_view_module": "@jupyter-widgets/base",
      "_view_module_version": "1.2.0",
      "_view_name": "LayoutView",
      "align_content": null,
      "align_items": null,
      "align_self": null,
      "border": null,
      "bottom": null,
      "display": null,
      "flex": null,
      "flex_flow": null,
      "grid_area": null,
      "grid_auto_columns": null,
      "grid_auto_flow": null,
      "grid_auto_rows": null,
      "grid_column": null,
      "grid_gap": null,
      "grid_row": null,
      "grid_template_areas": null,
      "grid_template_columns": null,
      "grid_template_rows": null,
      "height": null,
      "justify_content": null,
      "justify_items": null,
      "left": null,
      "margin": null,
      "max_height": null,
      "max_width": null,
      "min_height": null,
      "min_width": null,
      "object_fit": null,
      "object_position": null,
      "order": null,
      "overflow": null,
      "overflow_x": null,
      "overflow_y": null,
      "padding": null,
      "right": null,
      "top": null,
      "visibility": "hidden",
      "width": null
     }
    },
    "61c72125f0b64b8c818d536954fcdaa4": {
     "model_module": "@jupyter-widgets/controls",
     "model_module_version": "1.5.0",
     "model_name": "DescriptionStyleModel",
     "state": {
      "_model_module": "@jupyter-widgets/controls",
      "_model_module_version": "1.5.0",
      "_model_name": "DescriptionStyleModel",
      "_view_count": null,
      "_view_module": "@jupyter-widgets/base",
      "_view_module_version": "1.2.0",
      "_view_name": "StyleView",
      "description_width": ""
     }
    },
    "61fb14b7495b44eea41f5abbd640d262": {
     "model_module": "@jupyter-widgets/base",
     "model_module_version": "1.2.0",
     "model_name": "LayoutModel",
     "state": {
      "_model_module": "@jupyter-widgets/base",
      "_model_module_version": "1.2.0",
      "_model_name": "LayoutModel",
      "_view_count": null,
      "_view_module": "@jupyter-widgets/base",
      "_view_module_version": "1.2.0",
      "_view_name": "LayoutView",
      "align_content": null,
      "align_items": null,
      "align_self": null,
      "border": null,
      "bottom": null,
      "display": null,
      "flex": null,
      "flex_flow": null,
      "grid_area": null,
      "grid_auto_columns": null,
      "grid_auto_flow": null,
      "grid_auto_rows": null,
      "grid_column": null,
      "grid_gap": null,
      "grid_row": null,
      "grid_template_areas": null,
      "grid_template_columns": null,
      "grid_template_rows": null,
      "height": null,
      "justify_content": null,
      "justify_items": null,
      "left": null,
      "margin": null,
      "max_height": null,
      "max_width": null,
      "min_height": null,
      "min_width": null,
      "object_fit": null,
      "object_position": null,
      "order": null,
      "overflow": null,
      "overflow_x": null,
      "overflow_y": null,
      "padding": null,
      "right": null,
      "top": null,
      "visibility": null,
      "width": null
     }
    },
    "628712f552d3458fafe949bc1182cc4d": {
     "model_module": "@jupyter-widgets/base",
     "model_module_version": "1.2.0",
     "model_name": "LayoutModel",
     "state": {
      "_model_module": "@jupyter-widgets/base",
      "_model_module_version": "1.2.0",
      "_model_name": "LayoutModel",
      "_view_count": null,
      "_view_module": "@jupyter-widgets/base",
      "_view_module_version": "1.2.0",
      "_view_name": "LayoutView",
      "align_content": null,
      "align_items": null,
      "align_self": null,
      "border": null,
      "bottom": null,
      "display": null,
      "flex": null,
      "flex_flow": null,
      "grid_area": null,
      "grid_auto_columns": null,
      "grid_auto_flow": null,
      "grid_auto_rows": null,
      "grid_column": null,
      "grid_gap": null,
      "grid_row": null,
      "grid_template_areas": null,
      "grid_template_columns": null,
      "grid_template_rows": null,
      "height": null,
      "justify_content": null,
      "justify_items": null,
      "left": null,
      "margin": null,
      "max_height": null,
      "max_width": null,
      "min_height": null,
      "min_width": null,
      "object_fit": null,
      "object_position": null,
      "order": null,
      "overflow": null,
      "overflow_x": null,
      "overflow_y": null,
      "padding": null,
      "right": null,
      "top": null,
      "visibility": null,
      "width": null
     }
    },
    "658ac585dec4471d971b55c555f6c78a": {
     "model_module": "@jupyter-widgets/controls",
     "model_module_version": "1.5.0",
     "model_name": "DescriptionStyleModel",
     "state": {
      "_model_module": "@jupyter-widgets/controls",
      "_model_module_version": "1.5.0",
      "_model_name": "DescriptionStyleModel",
      "_view_count": null,
      "_view_module": "@jupyter-widgets/base",
      "_view_module_version": "1.2.0",
      "_view_name": "StyleView",
      "description_width": ""
     }
    },
    "677112efe49f4b0fbabb30e5a56f9cc5": {
     "model_module": "@jupyter-widgets/base",
     "model_module_version": "1.2.0",
     "model_name": "LayoutModel",
     "state": {
      "_model_module": "@jupyter-widgets/base",
      "_model_module_version": "1.2.0",
      "_model_name": "LayoutModel",
      "_view_count": null,
      "_view_module": "@jupyter-widgets/base",
      "_view_module_version": "1.2.0",
      "_view_name": "LayoutView",
      "align_content": null,
      "align_items": null,
      "align_self": null,
      "border": null,
      "bottom": null,
      "display": null,
      "flex": null,
      "flex_flow": null,
      "grid_area": null,
      "grid_auto_columns": null,
      "grid_auto_flow": null,
      "grid_auto_rows": null,
      "grid_column": null,
      "grid_gap": null,
      "grid_row": null,
      "grid_template_areas": null,
      "grid_template_columns": null,
      "grid_template_rows": null,
      "height": null,
      "justify_content": null,
      "justify_items": null,
      "left": null,
      "margin": null,
      "max_height": null,
      "max_width": null,
      "min_height": null,
      "min_width": null,
      "object_fit": null,
      "object_position": null,
      "order": null,
      "overflow": null,
      "overflow_x": null,
      "overflow_y": null,
      "padding": null,
      "right": null,
      "top": null,
      "visibility": null,
      "width": null
     }
    },
    "6ace22f7caa04305be57e06108b8441a": {
     "model_module": "@jupyter-widgets/controls",
     "model_module_version": "1.5.0",
     "model_name": "HTMLModel",
     "state": {
      "_dom_classes": [],
      "_model_module": "@jupyter-widgets/controls",
      "_model_module_version": "1.5.0",
      "_model_name": "HTMLModel",
      "_view_count": null,
      "_view_module": "@jupyter-widgets/controls",
      "_view_module_version": "1.5.0",
      "_view_name": "HTMLView",
      "description": "",
      "description_tooltip": null,
      "layout": "IPY_MODEL_944f5db5b7c04b73a28367dd1179643e",
      "placeholder": "​",
      "style": "IPY_MODEL_a5d3ab81df18407fa109dc0343c91f52",
      "value": " 12323/25000 [00:00&lt;00:00, 123210.44 examples/s]"
     }
    },
    "6da459218f7344deb28dd4a61ae9673b": {
     "model_module": "@jupyter-widgets/controls",
     "model_module_version": "1.5.0",
     "model_name": "FloatProgressModel",
     "state": {
      "_dom_classes": [],
      "_model_module": "@jupyter-widgets/controls",
      "_model_module_version": "1.5.0",
      "_model_name": "FloatProgressModel",
      "_view_count": null,
      "_view_module": "@jupyter-widgets/controls",
      "_view_module_version": "1.5.0",
      "_view_name": "ProgressView",
      "bar_style": "",
      "description": "",
      "description_tooltip": null,
      "layout": "IPY_MODEL_d4d76e23dc8349c995732fa3b657b25a",
      "max": 50000,
      "min": 0,
      "orientation": "horizontal",
      "style": "IPY_MODEL_8e33057305524eb0b85f9808da90322e",
      "value": 50000
     }
    },
    "6e42a1e65bd3462aa73ab0b5a156fcde": {
     "model_module": "@jupyter-widgets/controls",
     "model_module_version": "1.5.0",
     "model_name": "HBoxModel",
     "state": {
      "_dom_classes": [],
      "_model_module": "@jupyter-widgets/controls",
      "_model_module_version": "1.5.0",
      "_model_name": "HBoxModel",
      "_view_count": null,
      "_view_module": "@jupyter-widgets/controls",
      "_view_module_version": "1.5.0",
      "_view_name": "HBoxView",
      "box_style": "",
      "children": [
       "IPY_MODEL_bdce64b6e9fd42dca3c75f606809c46d",
       "IPY_MODEL_4b365ed85a76457a90787e5948fcd31b",
       "IPY_MODEL_2510871cfb2844ec8550234c796b8ef3"
      ],
      "layout": "IPY_MODEL_a1045e8c3f9f4d9c94c953f2eb1b1bf3"
     }
    },
    "6f7f63cba52c46eb88be6e93a244301e": {
     "model_module": "@jupyter-widgets/controls",
     "model_module_version": "1.5.0",
     "model_name": "DescriptionStyleModel",
     "state": {
      "_model_module": "@jupyter-widgets/controls",
      "_model_module_version": "1.5.0",
      "_model_name": "DescriptionStyleModel",
      "_view_count": null,
      "_view_module": "@jupyter-widgets/base",
      "_view_module_version": "1.2.0",
      "_view_name": "StyleView",
      "description_width": ""
     }
    },
    "7504d37443164dd9b3b146a58d2c30fb": {
     "model_module": "@jupyter-widgets/controls",
     "model_module_version": "1.5.0",
     "model_name": "HTMLModel",
     "state": {
      "_dom_classes": [],
      "_model_module": "@jupyter-widgets/controls",
      "_model_module_version": "1.5.0",
      "_model_name": "HTMLModel",
      "_view_count": null,
      "_view_module": "@jupyter-widgets/controls",
      "_view_module_version": "1.5.0",
      "_view_name": "HTMLView",
      "description": "",
      "description_tooltip": null,
      "layout": "IPY_MODEL_0c39a0c0aea14a7c943d68246adf7a13",
      "placeholder": "​",
      "style": "IPY_MODEL_d494b55fcb2242058d79501dc4a15e66",
      "value": " 24734/25000 [00:22&lt;00:00, 2370.74 examples/s]"
     }
    },
    "75907250a8244a1ca8072bc07eb3317e": {
     "model_module": "@jupyter-widgets/controls",
     "model_module_version": "1.5.0",
     "model_name": "ProgressStyleModel",
     "state": {
      "_model_module": "@jupyter-widgets/controls",
      "_model_module_version": "1.5.0",
      "_model_name": "ProgressStyleModel",
      "_view_count": null,
      "_view_module": "@jupyter-widgets/base",
      "_view_module_version": "1.2.0",
      "_view_name": "StyleView",
      "bar_color": null,
      "description_width": ""
     }
    },
    "77a9411b36d343aaa2440ceaa6e6e717": {
     "model_module": "@jupyter-widgets/controls",
     "model_module_version": "1.5.0",
     "model_name": "FloatProgressModel",
     "state": {
      "_dom_classes": [],
      "_model_module": "@jupyter-widgets/controls",
      "_model_module_version": "1.5.0",
      "_model_name": "FloatProgressModel",
      "_view_count": null,
      "_view_module": "@jupyter-widgets/controls",
      "_view_module_version": "1.5.0",
      "_view_name": "ProgressView",
      "bar_style": "",
      "description": "",
      "description_tooltip": null,
      "layout": "IPY_MODEL_31537a6bef14460084f116b9e29f3be9",
      "max": 3,
      "min": 0,
      "orientation": "horizontal",
      "style": "IPY_MODEL_4e9ef16607c04da9a5c7973e53d77c96",
      "value": 3
     }
    },
    "7aa94141495d42cc938cbb15f4505c33": {
     "model_module": "@jupyter-widgets/base",
     "model_module_version": "1.2.0",
     "model_name": "LayoutModel",
     "state": {
      "_model_module": "@jupyter-widgets/base",
      "_model_module_version": "1.2.0",
      "_model_name": "LayoutModel",
      "_view_count": null,
      "_view_module": "@jupyter-widgets/base",
      "_view_module_version": "1.2.0",
      "_view_name": "LayoutView",
      "align_content": null,
      "align_items": null,
      "align_self": null,
      "border": null,
      "bottom": null,
      "display": null,
      "flex": null,
      "flex_flow": null,
      "grid_area": null,
      "grid_auto_columns": null,
      "grid_auto_flow": null,
      "grid_auto_rows": null,
      "grid_column": null,
      "grid_gap": null,
      "grid_row": null,
      "grid_template_areas": null,
      "grid_template_columns": null,
      "grid_template_rows": null,
      "height": null,
      "justify_content": null,
      "justify_items": null,
      "left": null,
      "margin": null,
      "max_height": null,
      "max_width": null,
      "min_height": null,
      "min_width": null,
      "object_fit": null,
      "object_position": null,
      "order": null,
      "overflow": null,
      "overflow_x": null,
      "overflow_y": null,
      "padding": null,
      "right": null,
      "top": null,
      "visibility": "hidden",
      "width": null
     }
    },
    "8137df50f6224048aa10af15dc22b7d1": {
     "model_module": "@jupyter-widgets/base",
     "model_module_version": "1.2.0",
     "model_name": "LayoutModel",
     "state": {
      "_model_module": "@jupyter-widgets/base",
      "_model_module_version": "1.2.0",
      "_model_name": "LayoutModel",
      "_view_count": null,
      "_view_module": "@jupyter-widgets/base",
      "_view_module_version": "1.2.0",
      "_view_name": "LayoutView",
      "align_content": null,
      "align_items": null,
      "align_self": null,
      "border": null,
      "bottom": null,
      "display": null,
      "flex": null,
      "flex_flow": null,
      "grid_area": null,
      "grid_auto_columns": null,
      "grid_auto_flow": null,
      "grid_auto_rows": null,
      "grid_column": null,
      "grid_gap": null,
      "grid_row": null,
      "grid_template_areas": null,
      "grid_template_columns": null,
      "grid_template_rows": null,
      "height": null,
      "justify_content": null,
      "justify_items": null,
      "left": null,
      "margin": null,
      "max_height": null,
      "max_width": null,
      "min_height": null,
      "min_width": null,
      "object_fit": null,
      "object_position": null,
      "order": null,
      "overflow": null,
      "overflow_x": null,
      "overflow_y": null,
      "padding": null,
      "right": null,
      "top": null,
      "visibility": null,
      "width": null
     }
    },
    "8ae3d420fb7e41aebb0326c0b9d55ce8": {
     "model_module": "@jupyter-widgets/controls",
     "model_module_version": "1.5.0",
     "model_name": "DescriptionStyleModel",
     "state": {
      "_model_module": "@jupyter-widgets/controls",
      "_model_module_version": "1.5.0",
      "_model_name": "DescriptionStyleModel",
      "_view_count": null,
      "_view_module": "@jupyter-widgets/base",
      "_view_module_version": "1.2.0",
      "_view_name": "StyleView",
      "description_width": ""
     }
    },
    "8c85d3fc14184d00985ff5f0a92f370a": {
     "model_module": "@jupyter-widgets/base",
     "model_module_version": "1.2.0",
     "model_name": "LayoutModel",
     "state": {
      "_model_module": "@jupyter-widgets/base",
      "_model_module_version": "1.2.0",
      "_model_name": "LayoutModel",
      "_view_count": null,
      "_view_module": "@jupyter-widgets/base",
      "_view_module_version": "1.2.0",
      "_view_name": "LayoutView",
      "align_content": null,
      "align_items": null,
      "align_self": null,
      "border": null,
      "bottom": null,
      "display": null,
      "flex": null,
      "flex_flow": null,
      "grid_area": null,
      "grid_auto_columns": null,
      "grid_auto_flow": null,
      "grid_auto_rows": null,
      "grid_column": null,
      "grid_gap": null,
      "grid_row": null,
      "grid_template_areas": null,
      "grid_template_columns": null,
      "grid_template_rows": null,
      "height": null,
      "justify_content": null,
      "justify_items": null,
      "left": null,
      "margin": null,
      "max_height": null,
      "max_width": null,
      "min_height": null,
      "min_width": null,
      "object_fit": null,
      "object_position": null,
      "order": null,
      "overflow": null,
      "overflow_x": null,
      "overflow_y": null,
      "padding": null,
      "right": null,
      "top": null,
      "visibility": null,
      "width": null
     }
    },
    "8d72edd69af44243897e1ece31f842ab": {
     "model_module": "@jupyter-widgets/base",
     "model_module_version": "1.2.0",
     "model_name": "LayoutModel",
     "state": {
      "_model_module": "@jupyter-widgets/base",
      "_model_module_version": "1.2.0",
      "_model_name": "LayoutModel",
      "_view_count": null,
      "_view_module": "@jupyter-widgets/base",
      "_view_module_version": "1.2.0",
      "_view_name": "LayoutView",
      "align_content": null,
      "align_items": null,
      "align_self": null,
      "border": null,
      "bottom": null,
      "display": null,
      "flex": null,
      "flex_flow": null,
      "grid_area": null,
      "grid_auto_columns": null,
      "grid_auto_flow": null,
      "grid_auto_rows": null,
      "grid_column": null,
      "grid_gap": null,
      "grid_row": null,
      "grid_template_areas": null,
      "grid_template_columns": null,
      "grid_template_rows": null,
      "height": null,
      "justify_content": null,
      "justify_items": null,
      "left": null,
      "margin": null,
      "max_height": null,
      "max_width": null,
      "min_height": null,
      "min_width": null,
      "object_fit": null,
      "object_position": null,
      "order": null,
      "overflow": null,
      "overflow_x": null,
      "overflow_y": null,
      "padding": null,
      "right": null,
      "top": null,
      "visibility": null,
      "width": null
     }
    },
    "8e33057305524eb0b85f9808da90322e": {
     "model_module": "@jupyter-widgets/controls",
     "model_module_version": "1.5.0",
     "model_name": "ProgressStyleModel",
     "state": {
      "_model_module": "@jupyter-widgets/controls",
      "_model_module_version": "1.5.0",
      "_model_name": "ProgressStyleModel",
      "_view_count": null,
      "_view_module": "@jupyter-widgets/base",
      "_view_module_version": "1.2.0",
      "_view_name": "StyleView",
      "bar_color": null,
      "description_width": ""
     }
    },
    "908e71fe8b8f4ed2b25267ab7a963578": {
     "model_module": "@jupyter-widgets/base",
     "model_module_version": "1.2.0",
     "model_name": "LayoutModel",
     "state": {
      "_model_module": "@jupyter-widgets/base",
      "_model_module_version": "1.2.0",
      "_model_name": "LayoutModel",
      "_view_count": null,
      "_view_module": "@jupyter-widgets/base",
      "_view_module_version": "1.2.0",
      "_view_name": "LayoutView",
      "align_content": null,
      "align_items": null,
      "align_self": null,
      "border": null,
      "bottom": null,
      "display": null,
      "flex": null,
      "flex_flow": null,
      "grid_area": null,
      "grid_auto_columns": null,
      "grid_auto_flow": null,
      "grid_auto_rows": null,
      "grid_column": null,
      "grid_gap": null,
      "grid_row": null,
      "grid_template_areas": null,
      "grid_template_columns": null,
      "grid_template_rows": null,
      "height": null,
      "justify_content": null,
      "justify_items": null,
      "left": null,
      "margin": null,
      "max_height": null,
      "max_width": null,
      "min_height": null,
      "min_width": null,
      "object_fit": null,
      "object_position": null,
      "order": null,
      "overflow": null,
      "overflow_x": null,
      "overflow_y": null,
      "padding": null,
      "right": null,
      "top": null,
      "visibility": null,
      "width": null
     }
    },
    "944f5db5b7c04b73a28367dd1179643e": {
     "model_module": "@jupyter-widgets/base",
     "model_module_version": "1.2.0",
     "model_name": "LayoutModel",
     "state": {
      "_model_module": "@jupyter-widgets/base",
      "_model_module_version": "1.2.0",
      "_model_name": "LayoutModel",
      "_view_count": null,
      "_view_module": "@jupyter-widgets/base",
      "_view_module_version": "1.2.0",
      "_view_name": "LayoutView",
      "align_content": null,
      "align_items": null,
      "align_self": null,
      "border": null,
      "bottom": null,
      "display": null,
      "flex": null,
      "flex_flow": null,
      "grid_area": null,
      "grid_auto_columns": null,
      "grid_auto_flow": null,
      "grid_auto_rows": null,
      "grid_column": null,
      "grid_gap": null,
      "grid_row": null,
      "grid_template_areas": null,
      "grid_template_columns": null,
      "grid_template_rows": null,
      "height": null,
      "justify_content": null,
      "justify_items": null,
      "left": null,
      "margin": null,
      "max_height": null,
      "max_width": null,
      "min_height": null,
      "min_width": null,
      "object_fit": null,
      "object_position": null,
      "order": null,
      "overflow": null,
      "overflow_x": null,
      "overflow_y": null,
      "padding": null,
      "right": null,
      "top": null,
      "visibility": null,
      "width": null
     }
    },
    "96f66044fed94da08ad6f47d0776c3e7": {
     "model_module": "@jupyter-widgets/controls",
     "model_module_version": "1.5.0",
     "model_name": "HTMLModel",
     "state": {
      "_dom_classes": [],
      "_model_module": "@jupyter-widgets/controls",
      "_model_module_version": "1.5.0",
      "_model_name": "HTMLModel",
      "_view_count": null,
      "_view_module": "@jupyter-widgets/controls",
      "_view_module_version": "1.5.0",
      "_view_name": "HTMLView",
      "description": "",
      "description_tooltip": null,
      "layout": "IPY_MODEL_4e3c486b6c9146d5b01419ee87b30f20",
      "placeholder": "​",
      "style": "IPY_MODEL_8ae3d420fb7e41aebb0326c0b9d55ce8",
      "value": "Dl Size...: 100%"
     }
    },
    "988880c2489140a7b4e937dbbbc0c6ef": {
     "model_module": "@jupyter-widgets/controls",
     "model_module_version": "1.5.0",
     "model_name": "FloatProgressModel",
     "state": {
      "_dom_classes": [],
      "_model_module": "@jupyter-widgets/controls",
      "_model_module_version": "1.5.0",
      "_model_name": "FloatProgressModel",
      "_view_count": null,
      "_view_module": "@jupyter-widgets/controls",
      "_view_module_version": "1.5.0",
      "_view_name": "ProgressView",
      "bar_style": "",
      "description": "",
      "description_tooltip": null,
      "layout": "IPY_MODEL_8d72edd69af44243897e1ece31f842ab",
      "max": 50000,
      "min": 0,
      "orientation": "horizontal",
      "style": "IPY_MODEL_ead96261cdd1472ebbecc5cc178cc35e",
      "value": 50000
     }
    },
    "9ab52ece3fd94046a18778480128abbb": {
     "model_module": "@jupyter-widgets/base",
     "model_module_version": "1.2.0",
     "model_name": "LayoutModel",
     "state": {
      "_model_module": "@jupyter-widgets/base",
      "_model_module_version": "1.2.0",
      "_model_name": "LayoutModel",
      "_view_count": null,
      "_view_module": "@jupyter-widgets/base",
      "_view_module_version": "1.2.0",
      "_view_name": "LayoutView",
      "align_content": null,
      "align_items": null,
      "align_self": null,
      "border": null,
      "bottom": null,
      "display": null,
      "flex": null,
      "flex_flow": null,
      "grid_area": null,
      "grid_auto_columns": null,
      "grid_auto_flow": null,
      "grid_auto_rows": null,
      "grid_column": null,
      "grid_gap": null,
      "grid_row": null,
      "grid_template_areas": null,
      "grid_template_columns": null,
      "grid_template_rows": null,
      "height": null,
      "justify_content": null,
      "justify_items": null,
      "left": null,
      "margin": null,
      "max_height": null,
      "max_width": null,
      "min_height": null,
      "min_width": null,
      "object_fit": null,
      "object_position": null,
      "order": null,
      "overflow": null,
      "overflow_x": null,
      "overflow_y": null,
      "padding": null,
      "right": null,
      "top": null,
      "visibility": "hidden",
      "width": null
     }
    },
    "a1045e8c3f9f4d9c94c953f2eb1b1bf3": {
     "model_module": "@jupyter-widgets/base",
     "model_module_version": "1.2.0",
     "model_name": "LayoutModel",
     "state": {
      "_model_module": "@jupyter-widgets/base",
      "_model_module_version": "1.2.0",
      "_model_name": "LayoutModel",
      "_view_count": null,
      "_view_module": "@jupyter-widgets/base",
      "_view_module_version": "1.2.0",
      "_view_name": "LayoutView",
      "align_content": null,
      "align_items": null,
      "align_self": null,
      "border": null,
      "bottom": null,
      "display": null,
      "flex": null,
      "flex_flow": null,
      "grid_area": null,
      "grid_auto_columns": null,
      "grid_auto_flow": null,
      "grid_auto_rows": null,
      "grid_column": null,
      "grid_gap": null,
      "grid_row": null,
      "grid_template_areas": null,
      "grid_template_columns": null,
      "grid_template_rows": null,
      "height": null,
      "justify_content": null,
      "justify_items": null,
      "left": null,
      "margin": null,
      "max_height": null,
      "max_width": null,
      "min_height": null,
      "min_width": null,
      "object_fit": null,
      "object_position": null,
      "order": null,
      "overflow": null,
      "overflow_x": null,
      "overflow_y": null,
      "padding": null,
      "right": null,
      "top": null,
      "visibility": null,
      "width": null
     }
    },
    "a1fa70957a5b4f6d9c99dd2b2e437e8d": {
     "model_module": "@jupyter-widgets/controls",
     "model_module_version": "1.5.0",
     "model_name": "HTMLModel",
     "state": {
      "_dom_classes": [],
      "_model_module": "@jupyter-widgets/controls",
      "_model_module_version": "1.5.0",
      "_model_name": "HTMLModel",
      "_view_count": null,
      "_view_module": "@jupyter-widgets/controls",
      "_view_module_version": "1.5.0",
      "_view_name": "HTMLView",
      "description": "",
      "description_tooltip": null,
      "layout": "IPY_MODEL_677112efe49f4b0fbabb30e5a56f9cc5",
      "placeholder": "​",
      "style": "IPY_MODEL_61c72125f0b64b8c818d536954fcdaa4",
      "value": " 23534/25000 [00:09&lt;00:00, 3921.23 examples/s]"
     }
    },
    "a5d3ab81df18407fa109dc0343c91f52": {
     "model_module": "@jupyter-widgets/controls",
     "model_module_version": "1.5.0",
     "model_name": "DescriptionStyleModel",
     "state": {
      "_model_module": "@jupyter-widgets/controls",
      "_model_module_version": "1.5.0",
      "_model_name": "DescriptionStyleModel",
      "_view_count": null,
      "_view_module": "@jupyter-widgets/base",
      "_view_module_version": "1.2.0",
      "_view_name": "StyleView",
      "description_width": ""
     }
    },
    "a7738eba9a64410f8999f53374414b59": {
     "model_module": "@jupyter-widgets/base",
     "model_module_version": "1.2.0",
     "model_name": "LayoutModel",
     "state": {
      "_model_module": "@jupyter-widgets/base",
      "_model_module_version": "1.2.0",
      "_model_name": "LayoutModel",
      "_view_count": null,
      "_view_module": "@jupyter-widgets/base",
      "_view_module_version": "1.2.0",
      "_view_name": "LayoutView",
      "align_content": null,
      "align_items": null,
      "align_self": null,
      "border": null,
      "bottom": null,
      "display": null,
      "flex": null,
      "flex_flow": null,
      "grid_area": null,
      "grid_auto_columns": null,
      "grid_auto_flow": null,
      "grid_auto_rows": null,
      "grid_column": null,
      "grid_gap": null,
      "grid_row": null,
      "grid_template_areas": null,
      "grid_template_columns": null,
      "grid_template_rows": null,
      "height": null,
      "justify_content": null,
      "justify_items": null,
      "left": null,
      "margin": null,
      "max_height": null,
      "max_width": null,
      "min_height": null,
      "min_width": null,
      "object_fit": null,
      "object_position": null,
      "order": null,
      "overflow": null,
      "overflow_x": null,
      "overflow_y": null,
      "padding": null,
      "right": null,
      "top": null,
      "visibility": null,
      "width": null
     }
    },
    "a77627ece2a04578ac06132afb162f09": {
     "model_module": "@jupyter-widgets/base",
     "model_module_version": "1.2.0",
     "model_name": "LayoutModel",
     "state": {
      "_model_module": "@jupyter-widgets/base",
      "_model_module_version": "1.2.0",
      "_model_name": "LayoutModel",
      "_view_count": null,
      "_view_module": "@jupyter-widgets/base",
      "_view_module_version": "1.2.0",
      "_view_name": "LayoutView",
      "align_content": null,
      "align_items": null,
      "align_self": null,
      "border": null,
      "bottom": null,
      "display": null,
      "flex": null,
      "flex_flow": null,
      "grid_area": null,
      "grid_auto_columns": null,
      "grid_auto_flow": null,
      "grid_auto_rows": null,
      "grid_column": null,
      "grid_gap": null,
      "grid_row": null,
      "grid_template_areas": null,
      "grid_template_columns": null,
      "grid_template_rows": null,
      "height": null,
      "justify_content": null,
      "justify_items": null,
      "left": null,
      "margin": null,
      "max_height": null,
      "max_width": null,
      "min_height": null,
      "min_width": null,
      "object_fit": null,
      "object_position": null,
      "order": null,
      "overflow": null,
      "overflow_x": null,
      "overflow_y": null,
      "padding": null,
      "right": null,
      "top": null,
      "visibility": null,
      "width": null
     }
    },
    "aa357eb8435b4ed38f09c15697f0d787": {
     "model_module": "@jupyter-widgets/controls",
     "model_module_version": "1.5.0",
     "model_name": "HBoxModel",
     "state": {
      "_dom_classes": [],
      "_model_module": "@jupyter-widgets/controls",
      "_model_module_version": "1.5.0",
      "_model_name": "HBoxModel",
      "_view_count": null,
      "_view_module": "@jupyter-widgets/controls",
      "_view_module_version": "1.5.0",
      "_view_name": "HBoxView",
      "box_style": "",
      "children": [
       "IPY_MODEL_f53eccc0a8e84456b14ce267ec390d8a",
       "IPY_MODEL_6da459218f7344deb28dd4a61ae9673b",
       "IPY_MODEL_4a703d794a1a458fb1fe35ab8fd5c665"
      ],
      "layout": "IPY_MODEL_7aa94141495d42cc938cbb15f4505c33"
     }
    },
    "ae5effd9262f433db631b415ff43096d": {
     "model_module": "@jupyter-widgets/controls",
     "model_module_version": "1.5.0",
     "model_name": "HBoxModel",
     "state": {
      "_dom_classes": [],
      "_model_module": "@jupyter-widgets/controls",
      "_model_module_version": "1.5.0",
      "_model_name": "HBoxModel",
      "_view_count": null,
      "_view_module": "@jupyter-widgets/controls",
      "_view_module_version": "1.5.0",
      "_view_name": "HBoxView",
      "box_style": "",
      "children": [
       "IPY_MODEL_533e830eb6ba4371a83bf50c8277f344",
       "IPY_MODEL_bb2ec1b9d93d4607862d0b193407f3b2",
       "IPY_MODEL_7504d37443164dd9b3b146a58d2c30fb"
      ],
      "layout": "IPY_MODEL_3f6371c149bc4258ba7a1d188e953983"
     }
    },
    "aff1644069c94a819ec2cac1af847575": {
     "model_module": "@jupyter-widgets/base",
     "model_module_version": "1.2.0",
     "model_name": "LayoutModel",
     "state": {
      "_model_module": "@jupyter-widgets/base",
      "_model_module_version": "1.2.0",
      "_model_name": "LayoutModel",
      "_view_count": null,
      "_view_module": "@jupyter-widgets/base",
      "_view_module_version": "1.2.0",
      "_view_name": "LayoutView",
      "align_content": null,
      "align_items": null,
      "align_self": null,
      "border": null,
      "bottom": null,
      "display": null,
      "flex": null,
      "flex_flow": null,
      "grid_area": null,
      "grid_auto_columns": null,
      "grid_auto_flow": null,
      "grid_auto_rows": null,
      "grid_column": null,
      "grid_gap": null,
      "grid_row": null,
      "grid_template_areas": null,
      "grid_template_columns": null,
      "grid_template_rows": null,
      "height": null,
      "justify_content": null,
      "justify_items": null,
      "left": null,
      "margin": null,
      "max_height": null,
      "max_width": null,
      "min_height": null,
      "min_width": null,
      "object_fit": null,
      "object_position": null,
      "order": null,
      "overflow": null,
      "overflow_x": null,
      "overflow_y": null,
      "padding": null,
      "right": null,
      "top": null,
      "visibility": null,
      "width": null
     }
    },
    "b331bc44c21c41b9b48d299c3db0089e": {
     "model_module": "@jupyter-widgets/controls",
     "model_module_version": "1.5.0",
     "model_name": "FloatProgressModel",
     "state": {
      "_dom_classes": [],
      "_model_module": "@jupyter-widgets/controls",
      "_model_module_version": "1.5.0",
      "_model_name": "FloatProgressModel",
      "_view_count": null,
      "_view_module": "@jupyter-widgets/controls",
      "_view_module_version": "1.5.0",
      "_view_name": "ProgressView",
      "bar_style": "",
      "description": "",
      "description_tooltip": null,
      "layout": "IPY_MODEL_e880ad7c02a4494b9bd363814733d729",
      "max": 25000,
      "min": 0,
      "orientation": "horizontal",
      "style": "IPY_MODEL_75907250a8244a1ca8072bc07eb3317e",
      "value": 25000
     }
    },
    "b4f5a96d2f99450bb28966d00cd59e52": {
     "model_module": "@jupyter-widgets/controls",
     "model_module_version": "1.5.0",
     "model_name": "HBoxModel",
     "state": {
      "_dom_classes": [],
      "_model_module": "@jupyter-widgets/controls",
      "_model_module_version": "1.5.0",
      "_model_name": "HBoxModel",
      "_view_count": null,
      "_view_module": "@jupyter-widgets/controls",
      "_view_module_version": "1.5.0",
      "_view_name": "HBoxView",
      "box_style": "",
      "children": [
       "IPY_MODEL_96f66044fed94da08ad6f47d0776c3e7",
       "IPY_MODEL_e41565e14f4d46e492d2d2a05dcb9069",
       "IPY_MODEL_d9bfb124a1d04705b7dec947f8ad7ddc"
      ],
      "layout": "IPY_MODEL_507057c5089d4c47b73999ceea7fe64c"
     }
    },
    "bb2ec1b9d93d4607862d0b193407f3b2": {
     "model_module": "@jupyter-widgets/controls",
     "model_module_version": "1.5.0",
     "model_name": "FloatProgressModel",
     "state": {
      "_dom_classes": [],
      "_model_module": "@jupyter-widgets/controls",
      "_model_module_version": "1.5.0",
      "_model_name": "FloatProgressModel",
      "_view_count": null,
      "_view_module": "@jupyter-widgets/controls",
      "_view_module_version": "1.5.0",
      "_view_name": "ProgressView",
      "bar_style": "",
      "description": "",
      "description_tooltip": null,
      "layout": "IPY_MODEL_aff1644069c94a819ec2cac1af847575",
      "max": 25000,
      "min": 0,
      "orientation": "horizontal",
      "style": "IPY_MODEL_bbced17df39147fcb39939eaf1fb59f9",
      "value": 25000
     }
    },
    "bbced17df39147fcb39939eaf1fb59f9": {
     "model_module": "@jupyter-widgets/controls",
     "model_module_version": "1.5.0",
     "model_name": "ProgressStyleModel",
     "state": {
      "_model_module": "@jupyter-widgets/controls",
      "_model_module_version": "1.5.0",
      "_model_name": "ProgressStyleModel",
      "_view_count": null,
      "_view_module": "@jupyter-widgets/base",
      "_view_module_version": "1.2.0",
      "_view_name": "StyleView",
      "bar_color": null,
      "description_width": ""
     }
    },
    "bdce64b6e9fd42dca3c75f606809c46d": {
     "model_module": "@jupyter-widgets/controls",
     "model_module_version": "1.5.0",
     "model_name": "HTMLModel",
     "state": {
      "_dom_classes": [],
      "_model_module": "@jupyter-widgets/controls",
      "_model_module_version": "1.5.0",
      "_model_name": "HTMLModel",
      "_view_count": null,
      "_view_module": "@jupyter-widgets/controls",
      "_view_module_version": "1.5.0",
      "_view_name": "HTMLView",
      "description": "",
      "description_tooltip": null,
      "layout": "IPY_MODEL_a7738eba9a64410f8999f53374414b59",
      "placeholder": "​",
      "style": "IPY_MODEL_30ec6c35d844425787767ac79fb72ffd",
      "value": "Dl Completed...: 100%"
     }
    },
    "bfc9bb9ec9a14cf7a63ba238cf2b1341": {
     "model_module": "@jupyter-widgets/controls",
     "model_module_version": "1.5.0",
     "model_name": "HBoxModel",
     "state": {
      "_dom_classes": [],
      "_model_module": "@jupyter-widgets/controls",
      "_model_module_version": "1.5.0",
      "_model_name": "HBoxModel",
      "_view_count": null,
      "_view_module": "@jupyter-widgets/controls",
      "_view_module_version": "1.5.0",
      "_view_name": "HBoxView",
      "box_style": "",
      "children": [
       "IPY_MODEL_5626ee5a5d1248b2ac7d33fb413377ce",
       "IPY_MODEL_988880c2489140a7b4e937dbbbc0c6ef",
       "IPY_MODEL_c90cba8d1cda4a65b2b5f18c15efdc1d"
      ],
      "layout": "IPY_MODEL_f4763303d3ec4dfeb764e3eddb94cdaf"
     }
    },
    "c07f1b0cb33c4c408067e8a9dca9516b": {
     "model_module": "@jupyter-widgets/controls",
     "model_module_version": "1.5.0",
     "model_name": "DescriptionStyleModel",
     "state": {
      "_model_module": "@jupyter-widgets/controls",
      "_model_module_version": "1.5.0",
      "_model_name": "DescriptionStyleModel",
      "_view_count": null,
      "_view_module": "@jupyter-widgets/base",
      "_view_module_version": "1.2.0",
      "_view_name": "StyleView",
      "description_width": ""
     }
    },
    "c682ccc58eaa4517a6671a1b3a2b3dd9": {
     "model_module": "@jupyter-widgets/controls",
     "model_module_version": "1.5.0",
     "model_name": "HBoxModel",
     "state": {
      "_dom_classes": [],
      "_model_module": "@jupyter-widgets/controls",
      "_model_module_version": "1.5.0",
      "_model_name": "HBoxModel",
      "_view_count": null,
      "_view_module": "@jupyter-widgets/controls",
      "_view_module_version": "1.5.0",
      "_view_name": "HBoxView",
      "box_style": "",
      "children": [
       "IPY_MODEL_ccbc23bc26c04834bd05bca3511ae622",
       "IPY_MODEL_77a9411b36d343aaa2440ceaa6e6e717",
       "IPY_MODEL_f3d6fff8b3f34171a850f865f6a3ea7b"
      ],
      "layout": "IPY_MODEL_2830205dc4cf4551b3d5204b02b42557"
     }
    },
    "c90cba8d1cda4a65b2b5f18c15efdc1d": {
     "model_module": "@jupyter-widgets/controls",
     "model_module_version": "1.5.0",
     "model_name": "HTMLModel",
     "state": {
      "_dom_classes": [],
      "_model_module": "@jupyter-widgets/controls",
      "_model_module_version": "1.5.0",
      "_model_name": "HTMLModel",
      "_view_count": null,
      "_view_module": "@jupyter-widgets/controls",
      "_view_module_version": "1.5.0",
      "_view_name": "HTMLView",
      "description": "",
      "description_tooltip": null,
      "layout": "IPY_MODEL_131969951bf845c5927271468ec448cc",
      "placeholder": "​",
      "style": "IPY_MODEL_f514574f13754cd59b57acc8b181722c",
      "value": " 34405/50000 [00:00&lt;00:00, 187372.54 examples/s]"
     }
    },
    "ccbc23bc26c04834bd05bca3511ae622": {
     "model_module": "@jupyter-widgets/controls",
     "model_module_version": "1.5.0",
     "model_name": "HTMLModel",
     "state": {
      "_dom_classes": [],
      "_model_module": "@jupyter-widgets/controls",
      "_model_module_version": "1.5.0",
      "_model_name": "HTMLModel",
      "_view_count": null,
      "_view_module": "@jupyter-widgets/controls",
      "_view_module_version": "1.5.0",
      "_view_name": "HTMLView",
      "description": "",
      "description_tooltip": null,
      "layout": "IPY_MODEL_61fb14b7495b44eea41f5abbd640d262",
      "placeholder": "​",
      "style": "IPY_MODEL_28b5a257ac1544e7a1a01e41c7ebd478",
      "value": "Generating splits...: 100%"
     }
    },
    "ce0283ad7ef84334b3ea1eaf1ddfa32a": {
     "model_module": "@jupyter-widgets/base",
     "model_module_version": "1.2.0",
     "model_name": "LayoutModel",
     "state": {
      "_model_module": "@jupyter-widgets/base",
      "_model_module_version": "1.2.0",
      "_model_name": "LayoutModel",
      "_view_count": null,
      "_view_module": "@jupyter-widgets/base",
      "_view_module_version": "1.2.0",
      "_view_name": "LayoutView",
      "align_content": null,
      "align_items": null,
      "align_self": null,
      "border": null,
      "bottom": null,
      "display": null,
      "flex": null,
      "flex_flow": null,
      "grid_area": null,
      "grid_auto_columns": null,
      "grid_auto_flow": null,
      "grid_auto_rows": null,
      "grid_column": null,
      "grid_gap": null,
      "grid_row": null,
      "grid_template_areas": null,
      "grid_template_columns": null,
      "grid_template_rows": null,
      "height": null,
      "justify_content": null,
      "justify_items": null,
      "left": null,
      "margin": null,
      "max_height": null,
      "max_width": null,
      "min_height": null,
      "min_width": null,
      "object_fit": null,
      "object_position": null,
      "order": null,
      "overflow": null,
      "overflow_x": null,
      "overflow_y": null,
      "padding": null,
      "right": null,
      "top": null,
      "visibility": null,
      "width": "20px"
     }
    },
    "d494b55fcb2242058d79501dc4a15e66": {
     "model_module": "@jupyter-widgets/controls",
     "model_module_version": "1.5.0",
     "model_name": "DescriptionStyleModel",
     "state": {
      "_model_module": "@jupyter-widgets/controls",
      "_model_module_version": "1.5.0",
      "_model_name": "DescriptionStyleModel",
      "_view_count": null,
      "_view_module": "@jupyter-widgets/base",
      "_view_module_version": "1.2.0",
      "_view_name": "StyleView",
      "description_width": ""
     }
    },
    "d4d76e23dc8349c995732fa3b657b25a": {
     "model_module": "@jupyter-widgets/base",
     "model_module_version": "1.2.0",
     "model_name": "LayoutModel",
     "state": {
      "_model_module": "@jupyter-widgets/base",
      "_model_module_version": "1.2.0",
      "_model_name": "LayoutModel",
      "_view_count": null,
      "_view_module": "@jupyter-widgets/base",
      "_view_module_version": "1.2.0",
      "_view_name": "LayoutView",
      "align_content": null,
      "align_items": null,
      "align_self": null,
      "border": null,
      "bottom": null,
      "display": null,
      "flex": null,
      "flex_flow": null,
      "grid_area": null,
      "grid_auto_columns": null,
      "grid_auto_flow": null,
      "grid_auto_rows": null,
      "grid_column": null,
      "grid_gap": null,
      "grid_row": null,
      "grid_template_areas": null,
      "grid_template_columns": null,
      "grid_template_rows": null,
      "height": null,
      "justify_content": null,
      "justify_items": null,
      "left": null,
      "margin": null,
      "max_height": null,
      "max_width": null,
      "min_height": null,
      "min_width": null,
      "object_fit": null,
      "object_position": null,
      "order": null,
      "overflow": null,
      "overflow_x": null,
      "overflow_y": null,
      "padding": null,
      "right": null,
      "top": null,
      "visibility": null,
      "width": null
     }
    },
    "d65246c568a2479598e35bcf95b4eca0": {
     "model_module": "@jupyter-widgets/controls",
     "model_module_version": "1.5.0",
     "model_name": "HTMLModel",
     "state": {
      "_dom_classes": [],
      "_model_module": "@jupyter-widgets/controls",
      "_model_module_version": "1.5.0",
      "_model_name": "HTMLModel",
      "_view_count": null,
      "_view_module": "@jupyter-widgets/controls",
      "_view_module_version": "1.5.0",
      "_view_name": "HTMLView",
      "description": "",
      "description_tooltip": null,
      "layout": "IPY_MODEL_132f5a00caa64ce48fb8f8d90609fa13",
      "placeholder": "​",
      "style": "IPY_MODEL_c07f1b0cb33c4c408067e8a9dca9516b",
      "value": "Generating train examples...:  94%"
     }
    },
    "d9bfb124a1d04705b7dec947f8ad7ddc": {
     "model_module": "@jupyter-widgets/controls",
     "model_module_version": "1.5.0",
     "model_name": "HTMLModel",
     "state": {
      "_dom_classes": [],
      "_model_module": "@jupyter-widgets/controls",
      "_model_module_version": "1.5.0",
      "_model_name": "HTMLModel",
      "_view_count": null,
      "_view_module": "@jupyter-widgets/controls",
      "_view_module_version": "1.5.0",
      "_view_name": "HTMLView",
      "description": "",
      "description_tooltip": null,
      "layout": "IPY_MODEL_8c85d3fc14184d00985ff5f0a92f370a",
      "placeholder": "​",
      "style": "IPY_MODEL_531464f5594146afb87328ddabd0b2c6",
      "value": " 80/80 [00:04&lt;00:00, 16.15 MiB/s]"
     }
    },
    "e384600dbc8e4f9ca29ef9283c016a24": {
     "model_module": "@jupyter-widgets/base",
     "model_module_version": "1.2.0",
     "model_name": "LayoutModel",
     "state": {
      "_model_module": "@jupyter-widgets/base",
      "_model_module_version": "1.2.0",
      "_model_name": "LayoutModel",
      "_view_count": null,
      "_view_module": "@jupyter-widgets/base",
      "_view_module_version": "1.2.0",
      "_view_name": "LayoutView",
      "align_content": null,
      "align_items": null,
      "align_self": null,
      "border": null,
      "bottom": null,
      "display": null,
      "flex": null,
      "flex_flow": null,
      "grid_area": null,
      "grid_auto_columns": null,
      "grid_auto_flow": null,
      "grid_auto_rows": null,
      "grid_column": null,
      "grid_gap": null,
      "grid_row": null,
      "grid_template_areas": null,
      "grid_template_columns": null,
      "grid_template_rows": null,
      "height": null,
      "justify_content": null,
      "justify_items": null,
      "left": null,
      "margin": null,
      "max_height": null,
      "max_width": null,
      "min_height": null,
      "min_width": null,
      "object_fit": null,
      "object_position": null,
      "order": null,
      "overflow": null,
      "overflow_x": null,
      "overflow_y": null,
      "padding": null,
      "right": null,
      "top": null,
      "visibility": null,
      "width": null
     }
    },
    "e41565e14f4d46e492d2d2a05dcb9069": {
     "model_module": "@jupyter-widgets/controls",
     "model_module_version": "1.5.0",
     "model_name": "FloatProgressModel",
     "state": {
      "_dom_classes": [],
      "_model_module": "@jupyter-widgets/controls",
      "_model_module_version": "1.5.0",
      "_model_name": "FloatProgressModel",
      "_view_count": null,
      "_view_module": "@jupyter-widgets/controls",
      "_view_module_version": "1.5.0",
      "_view_name": "ProgressView",
      "bar_style": "success",
      "description": "",
      "description_tooltip": null,
      "layout": "IPY_MODEL_1761ff9b41b34a729bcf76b46dbabf70",
      "max": 1,
      "min": 0,
      "orientation": "horizontal",
      "style": "IPY_MODEL_512f86554cbd421e8d0df82178c16ad9",
      "value": 1
     }
    },
    "e53465f8a1594b218b14cd2e2aa2f023": {
     "model_module": "@jupyter-widgets/base",
     "model_module_version": "1.2.0",
     "model_name": "LayoutModel",
     "state": {
      "_model_module": "@jupyter-widgets/base",
      "_model_module_version": "1.2.0",
      "_model_name": "LayoutModel",
      "_view_count": null,
      "_view_module": "@jupyter-widgets/base",
      "_view_module_version": "1.2.0",
      "_view_name": "LayoutView",
      "align_content": null,
      "align_items": null,
      "align_self": null,
      "border": null,
      "bottom": null,
      "display": null,
      "flex": null,
      "flex_flow": null,
      "grid_area": null,
      "grid_auto_columns": null,
      "grid_auto_flow": null,
      "grid_auto_rows": null,
      "grid_column": null,
      "grid_gap": null,
      "grid_row": null,
      "grid_template_areas": null,
      "grid_template_columns": null,
      "grid_template_rows": null,
      "height": null,
      "justify_content": null,
      "justify_items": null,
      "left": null,
      "margin": null,
      "max_height": null,
      "max_width": null,
      "min_height": null,
      "min_width": null,
      "object_fit": null,
      "object_position": null,
      "order": null,
      "overflow": null,
      "overflow_x": null,
      "overflow_y": null,
      "padding": null,
      "right": null,
      "top": null,
      "visibility": null,
      "width": null
     }
    },
    "e635de5562c740929448f82744453544": {
     "model_module": "@jupyter-widgets/controls",
     "model_module_version": "1.5.0",
     "model_name": "DescriptionStyleModel",
     "state": {
      "_model_module": "@jupyter-widgets/controls",
      "_model_module_version": "1.5.0",
      "_model_name": "DescriptionStyleModel",
      "_view_count": null,
      "_view_module": "@jupyter-widgets/base",
      "_view_module_version": "1.2.0",
      "_view_name": "StyleView",
      "description_width": ""
     }
    },
    "e880ad7c02a4494b9bd363814733d729": {
     "model_module": "@jupyter-widgets/base",
     "model_module_version": "1.2.0",
     "model_name": "LayoutModel",
     "state": {
      "_model_module": "@jupyter-widgets/base",
      "_model_module_version": "1.2.0",
      "_model_name": "LayoutModel",
      "_view_count": null,
      "_view_module": "@jupyter-widgets/base",
      "_view_module_version": "1.2.0",
      "_view_name": "LayoutView",
      "align_content": null,
      "align_items": null,
      "align_self": null,
      "border": null,
      "bottom": null,
      "display": null,
      "flex": null,
      "flex_flow": null,
      "grid_area": null,
      "grid_auto_columns": null,
      "grid_auto_flow": null,
      "grid_auto_rows": null,
      "grid_column": null,
      "grid_gap": null,
      "grid_row": null,
      "grid_template_areas": null,
      "grid_template_columns": null,
      "grid_template_rows": null,
      "height": null,
      "justify_content": null,
      "justify_items": null,
      "left": null,
      "margin": null,
      "max_height": null,
      "max_width": null,
      "min_height": null,
      "min_width": null,
      "object_fit": null,
      "object_position": null,
      "order": null,
      "overflow": null,
      "overflow_x": null,
      "overflow_y": null,
      "padding": null,
      "right": null,
      "top": null,
      "visibility": null,
      "width": null
     }
    },
    "ead96261cdd1472ebbecc5cc178cc35e": {
     "model_module": "@jupyter-widgets/controls",
     "model_module_version": "1.5.0",
     "model_name": "ProgressStyleModel",
     "state": {
      "_model_module": "@jupyter-widgets/controls",
      "_model_module_version": "1.5.0",
      "_model_name": "ProgressStyleModel",
      "_view_count": null,
      "_view_module": "@jupyter-widgets/base",
      "_view_module_version": "1.2.0",
      "_view_name": "StyleView",
      "bar_color": null,
      "description_width": ""
     }
    },
    "ef2bc151f184407aa6c6c5a13c7f28fe": {
     "model_module": "@jupyter-widgets/base",
     "model_module_version": "1.2.0",
     "model_name": "LayoutModel",
     "state": {
      "_model_module": "@jupyter-widgets/base",
      "_model_module_version": "1.2.0",
      "_model_name": "LayoutModel",
      "_view_count": null,
      "_view_module": "@jupyter-widgets/base",
      "_view_module_version": "1.2.0",
      "_view_name": "LayoutView",
      "align_content": null,
      "align_items": null,
      "align_self": null,
      "border": null,
      "bottom": null,
      "display": null,
      "flex": null,
      "flex_flow": null,
      "grid_area": null,
      "grid_auto_columns": null,
      "grid_auto_flow": null,
      "grid_auto_rows": null,
      "grid_column": null,
      "grid_gap": null,
      "grid_row": null,
      "grid_template_areas": null,
      "grid_template_columns": null,
      "grid_template_rows": null,
      "height": null,
      "justify_content": null,
      "justify_items": null,
      "left": null,
      "margin": null,
      "max_height": null,
      "max_width": null,
      "min_height": null,
      "min_width": null,
      "object_fit": null,
      "object_position": null,
      "order": null,
      "overflow": null,
      "overflow_x": null,
      "overflow_y": null,
      "padding": null,
      "right": null,
      "top": null,
      "visibility": null,
      "width": null
     }
    },
    "f3d6fff8b3f34171a850f865f6a3ea7b": {
     "model_module": "@jupyter-widgets/controls",
     "model_module_version": "1.5.0",
     "model_name": "HTMLModel",
     "state": {
      "_dom_classes": [],
      "_model_module": "@jupyter-widgets/controls",
      "_model_module_version": "1.5.0",
      "_model_name": "HTMLModel",
      "_view_count": null,
      "_view_module": "@jupyter-widgets/controls",
      "_view_module_version": "1.5.0",
      "_view_name": "HTMLView",
      "description": "",
      "description_tooltip": null,
      "layout": "IPY_MODEL_908e71fe8b8f4ed2b25267ab7a963578",
      "placeholder": "​",
      "style": "IPY_MODEL_e635de5562c740929448f82744453544",
      "value": " 3/3 [00:54&lt;00:00, 18.51s/ splits]"
     }
    },
    "f4763303d3ec4dfeb764e3eddb94cdaf": {
     "model_module": "@jupyter-widgets/base",
     "model_module_version": "1.2.0",
     "model_name": "LayoutModel",
     "state": {
      "_model_module": "@jupyter-widgets/base",
      "_model_module_version": "1.2.0",
      "_model_name": "LayoutModel",
      "_view_count": null,
      "_view_module": "@jupyter-widgets/base",
      "_view_module_version": "1.2.0",
      "_view_name": "LayoutView",
      "align_content": null,
      "align_items": null,
      "align_self": null,
      "border": null,
      "bottom": null,
      "display": null,
      "flex": null,
      "flex_flow": null,
      "grid_area": null,
      "grid_auto_columns": null,
      "grid_auto_flow": null,
      "grid_auto_rows": null,
      "grid_column": null,
      "grid_gap": null,
      "grid_row": null,
      "grid_template_areas": null,
      "grid_template_columns": null,
      "grid_template_rows": null,
      "height": null,
      "justify_content": null,
      "justify_items": null,
      "left": null,
      "margin": null,
      "max_height": null,
      "max_width": null,
      "min_height": null,
      "min_width": null,
      "object_fit": null,
      "object_position": null,
      "order": null,
      "overflow": null,
      "overflow_x": null,
      "overflow_y": null,
      "padding": null,
      "right": null,
      "top": null,
      "visibility": "hidden",
      "width": null
     }
    },
    "f514574f13754cd59b57acc8b181722c": {
     "model_module": "@jupyter-widgets/controls",
     "model_module_version": "1.5.0",
     "model_name": "DescriptionStyleModel",
     "state": {
      "_model_module": "@jupyter-widgets/controls",
      "_model_module_version": "1.5.0",
      "_model_name": "DescriptionStyleModel",
      "_view_count": null,
      "_view_module": "@jupyter-widgets/base",
      "_view_module_version": "1.2.0",
      "_view_name": "StyleView",
      "description_width": ""
     }
    },
    "f53eccc0a8e84456b14ce267ec390d8a": {
     "model_module": "@jupyter-widgets/controls",
     "model_module_version": "1.5.0",
     "model_name": "HTMLModel",
     "state": {
      "_dom_classes": [],
      "_model_module": "@jupyter-widgets/controls",
      "_model_module_version": "1.5.0",
      "_model_name": "HTMLModel",
      "_view_count": null,
      "_view_module": "@jupyter-widgets/controls",
      "_view_module_version": "1.5.0",
      "_view_name": "HTMLView",
      "description": "",
      "description_tooltip": null,
      "layout": "IPY_MODEL_a77627ece2a04578ac06132afb162f09",
      "placeholder": "​",
      "style": "IPY_MODEL_f640b52f9d7a48e6b15c85f5d6398baa",
      "value": "Generating unsupervised examples...:  94%"
     }
    },
    "f54da34db78d444db2d0a79edbc02b25": {
     "model_module": "@jupyter-widgets/controls",
     "model_module_version": "1.5.0",
     "model_name": "HTMLModel",
     "state": {
      "_dom_classes": [],
      "_model_module": "@jupyter-widgets/controls",
      "_model_module_version": "1.5.0",
      "_model_name": "HTMLModel",
      "_view_count": null,
      "_view_module": "@jupyter-widgets/controls",
      "_view_module_version": "1.5.0",
      "_view_name": "HTMLView",
      "description": "",
      "description_tooltip": null,
      "layout": "IPY_MODEL_ef2bc151f184407aa6c6c5a13c7f28fe",
      "placeholder": "​",
      "style": "IPY_MODEL_4a5caa6d03e84fd9b52188154c7e0c95",
      "value": "Shuffling /root/tensorflow_datasets/imdb_reviews/plain_text/1.0.0.incomplete65AASE/imdb_reviews-test.tfrecord*...:  70%"
     }
    },
    "f640b52f9d7a48e6b15c85f5d6398baa": {
     "model_module": "@jupyter-widgets/controls",
     "model_module_version": "1.5.0",
     "model_name": "DescriptionStyleModel",
     "state": {
      "_model_module": "@jupyter-widgets/controls",
      "_model_module_version": "1.5.0",
      "_model_name": "DescriptionStyleModel",
      "_view_count": null,
      "_view_module": "@jupyter-widgets/base",
      "_view_module_version": "1.2.0",
      "_view_name": "StyleView",
      "description_width": ""
     }
    },
    "fc8d6f9bfe784c6b8c74b44f72867816": {
     "model_module": "@jupyter-widgets/controls",
     "model_module_version": "1.5.0",
     "model_name": "FloatProgressModel",
     "state": {
      "_dom_classes": [],
      "_model_module": "@jupyter-widgets/controls",
      "_model_module_version": "1.5.0",
      "_model_name": "FloatProgressModel",
      "_view_count": null,
      "_view_module": "@jupyter-widgets/controls",
      "_view_module_version": "1.5.0",
      "_view_name": "ProgressView",
      "bar_style": "",
      "description": "",
      "description_tooltip": null,
      "layout": "IPY_MODEL_628712f552d3458fafe949bc1182cc4d",
      "max": 25000,
      "min": 0,
      "orientation": "horizontal",
      "style": "IPY_MODEL_1002b00a335d46308390329981215d97",
      "value": 25000
     }
    }
   }
  }
 },
 "nbformat": 4,
 "nbformat_minor": 4
}
